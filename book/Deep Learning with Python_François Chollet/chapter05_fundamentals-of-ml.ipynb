{
 "cells": [
  {
   "cell_type": "markdown",
   "metadata": {
    "colab_type": "text"
   },
   "source": [
    "This is a companion notebook for the book [Deep Learning with Python, Second Edition](https://www.manning.com/books/deep-learning-with-python-second-edition?a_aid=keras&a_bid=76564dff). For readability, it only contains runnable code blocks and section titles, and omits everything else in the book: text paragraphs, figures, and pseudocode.\n",
    "\n",
    "**If you want to be able to follow what's going on, I recommend reading the notebook side by side with your copy of the book.**\n",
    "\n",
    "This notebook was generated for TensorFlow 2.6."
   ]
  },
  {
   "cell_type": "markdown",
   "metadata": {
    "colab_type": "text"
   },
   "source": [
    "# Fundamentals of machine learning"
   ]
  },
  {
   "cell_type": "markdown",
   "metadata": {
    "colab_type": "text"
   },
   "source": [
    "## Generalization: The goal of machine learning"
   ]
  },
  {
   "cell_type": "markdown",
   "metadata": {
    "colab_type": "text"
   },
   "source": [
    "### Underfitting and overfitting"
   ]
  },
  {
   "cell_type": "markdown",
   "metadata": {
    "colab_type": "text"
   },
   "source": [
    "#### Noisy training data"
   ]
  },
  {
   "cell_type": "markdown",
   "metadata": {
    "colab_type": "text"
   },
   "source": [
    "#### Ambiguous features"
   ]
  },
  {
   "cell_type": "markdown",
   "metadata": {
    "colab_type": "text"
   },
   "source": [
    "#### Rare features and spurious correlations"
   ]
  },
  {
   "cell_type": "markdown",
   "metadata": {
    "colab_type": "text"
   },
   "source": [
    "**Adding white-noise channels or all-zeros channels to MNIST**"
   ]
  },
  {
   "cell_type": "code",
   "execution_count": 1,
   "metadata": {
    "colab_type": "code"
   },
   "outputs": [],
   "source": [
    "from tensorflow.keras.datasets import mnist\n",
    "import numpy as np\n",
    "\n",
    "(train_images, train_labels), _ = mnist.load_data()\n",
    "train_images = train_images.reshape((60000, 28 * 28))\n",
    "train_images = train_images.astype(\"float32\") / 255\n",
    "\n",
    "train_images_with_noise_channels = np.concatenate(\n",
    "    [train_images, np.random.random((len(train_images), 784))], axis=1)\n",
    "\n",
    "train_images_with_zeros_channels = np.concatenate(\n",
    "    [train_images, np.zeros((len(train_images), 784))], axis=1)"
   ]
  },
  {
   "cell_type": "markdown",
   "metadata": {
    "colab_type": "text"
   },
   "source": [
    "**Training the same model on MNIST data with noise channels or all-zero channels**"
   ]
  },
  {
   "cell_type": "code",
   "execution_count": 3,
   "metadata": {
    "colab_type": "code"
   },
   "outputs": [
    {
     "name": "stdout",
     "output_type": "stream",
     "text": [
      "Epoch 1/10\n",
      "375/375 [==============================] - 2s 4ms/step - loss: 0.6114 - accuracy: 0.8139 - val_loss: 0.2874 - val_accuracy: 0.9126\n",
      "Epoch 2/10\n",
      "375/375 [==============================] - 1s 4ms/step - loss: 0.2486 - accuracy: 0.9214 - val_loss: 0.1773 - val_accuracy: 0.9475\n",
      "Epoch 3/10\n",
      "375/375 [==============================] - 2s 4ms/step - loss: 0.1620 - accuracy: 0.9500 - val_loss: 0.1644 - val_accuracy: 0.9501\n",
      "Epoch 4/10\n",
      "375/375 [==============================] - 2s 4ms/step - loss: 0.1142 - accuracy: 0.9637 - val_loss: 0.1342 - val_accuracy: 0.9617\n",
      "Epoch 5/10\n",
      "375/375 [==============================] - 2s 4ms/step - loss: 0.0848 - accuracy: 0.9733 - val_loss: 0.1405 - val_accuracy: 0.9606\n",
      "Epoch 6/10\n",
      "375/375 [==============================] - 1s 4ms/step - loss: 0.0614 - accuracy: 0.9813 - val_loss: 0.1244 - val_accuracy: 0.9655\n",
      "Epoch 7/10\n",
      "375/375 [==============================] - 1s 4ms/step - loss: 0.0451 - accuracy: 0.9856 - val_loss: 0.1154 - val_accuracy: 0.9710\n",
      "Epoch 8/10\n",
      "375/375 [==============================] - 1s 4ms/step - loss: 0.0336 - accuracy: 0.9889 - val_loss: 0.1819 - val_accuracy: 0.9551\n",
      "Epoch 9/10\n",
      "375/375 [==============================] - 1s 4ms/step - loss: 0.0267 - accuracy: 0.9914 - val_loss: 0.1347 - val_accuracy: 0.9690\n",
      "Epoch 10/10\n",
      "375/375 [==============================] - 1s 4ms/step - loss: 0.0208 - accuracy: 0.9932 - val_loss: 0.1516 - val_accuracy: 0.9638\n",
      "Epoch 1/10\n",
      "375/375 [==============================] - 2s 5ms/step - loss: 0.2896 - accuracy: 0.9169 - val_loss: 0.1489 - val_accuracy: 0.9571\n",
      "Epoch 2/10\n",
      "375/375 [==============================] - 2s 5ms/step - loss: 0.1198 - accuracy: 0.9650 - val_loss: 0.1054 - val_accuracy: 0.9690\n",
      "Epoch 3/10\n",
      "375/375 [==============================] - 2s 4ms/step - loss: 0.0776 - accuracy: 0.9762 - val_loss: 0.0897 - val_accuracy: 0.9724\n",
      "Epoch 4/10\n",
      "375/375 [==============================] - 2s 5ms/step - loss: 0.0563 - accuracy: 0.9828 - val_loss: 0.0836 - val_accuracy: 0.9747\n",
      "Epoch 5/10\n",
      "375/375 [==============================] - 2s 4ms/step - loss: 0.0426 - accuracy: 0.9869 - val_loss: 0.0814 - val_accuracy: 0.9760\n",
      "Epoch 6/10\n",
      "375/375 [==============================] - 2s 4ms/step - loss: 0.0321 - accuracy: 0.9904 - val_loss: 0.0812 - val_accuracy: 0.9776\n",
      "Epoch 7/10\n",
      "375/375 [==============================] - 2s 4ms/step - loss: 0.0241 - accuracy: 0.9934 - val_loss: 0.0811 - val_accuracy: 0.9774\n",
      "Epoch 8/10\n",
      "375/375 [==============================] - 2s 4ms/step - loss: 0.0187 - accuracy: 0.9945 - val_loss: 0.0795 - val_accuracy: 0.9800\n",
      "Epoch 9/10\n",
      "375/375 [==============================] - 2s 4ms/step - loss: 0.0148 - accuracy: 0.9958 - val_loss: 0.0825 - val_accuracy: 0.9793\n",
      "Epoch 10/10\n",
      "375/375 [==============================] - 2s 4ms/step - loss: 0.0102 - accuracy: 0.9973 - val_loss: 0.0883 - val_accuracy: 0.9791\n"
     ]
    }
   ],
   "source": [
    "from tensorflow import keras\n",
    "from tensorflow.keras import layers\n",
    "\n",
    "def get_model():\n",
    "    model = keras.Sequential([\n",
    "        layers.Dense(512, activation=\"relu\"),\n",
    "        layers.Dense(10, activation=\"softmax\")\n",
    "    ])\n",
    "    model.compile(optimizer=\"rmsprop\",\n",
    "                  loss=\"sparse_categorical_crossentropy\",\n",
    "                  metrics=[\"accuracy\"])\n",
    "    return model\n",
    "\n",
    "model = get_model()\n",
    "history_noise = model.fit(\n",
    "    train_images_with_noise_channels, train_labels,\n",
    "    epochs=10,\n",
    "    batch_size=128,\n",
    "    validation_split=0.2)\n",
    "\n",
    "model = get_model()\n",
    "history_zeros = model.fit(\n",
    "    train_images_with_zeros_channels, train_labels,\n",
    "    epochs=10,\n",
    "    batch_size=128,\n",
    "    validation_split=0.2)"
   ]
  },
  {
   "cell_type": "markdown",
   "metadata": {
    "colab_type": "text"
   },
   "source": [
    "**Plotting a validation accuracy comparison**"
   ]
  },
  {
   "cell_type": "code",
   "execution_count": 5,
   "metadata": {
    "colab_type": "code"
   },
   "outputs": [
    {
     "data": {
      "text/plain": [
       "<matplotlib.legend.Legend at 0x2a0a54dd0>"
      ]
     },
     "execution_count": 5,
     "metadata": {},
     "output_type": "execute_result"
    },
    {
     "data": {
      "image/png": "[encoded data removed]",
      "text/plain": [
       "<Figure size 640x480 with 1 Axes>"
      ]
     },
     "metadata": {},
     "output_type": "display_data"
    }
   ],
   "source": [
    "import matplotlib.pyplot as plt\n",
    "val_acc_noise = history_noise.history[\"val_accuracy\"]\n",
    "val_acc_zeros = history_zeros.history[\"val_accuracy\"]\n",
    "epochs = range(1, 11)\n",
    "plt.plot(epochs, val_acc_noise, \"b-\",\n",
    "         label=\"Validation accuracy with noise channels\")\n",
    "plt.plot(epochs, val_acc_zeros, \"b--\",\n",
    "         label=\"Validation accuracy with zeros channels\")\n",
    "plt.title(\"Effect of noise channels on validation accuracy\")\n",
    "plt.xlabel(\"Epochs\")\n",
    "plt.ylabel(\"Accuracy\")\n",
    "plt.legend()"
   ]
  },
  {
   "cell_type": "markdown",
   "metadata": {
    "colab_type": "text"
   },
   "source": [
    "### The nature of generalization in deep learning"
   ]
  },
  {
   "cell_type": "markdown",
   "metadata": {
    "colab_type": "text"
   },
   "source": [
    "**Fitting a MNIST model with randomly shuffled labels**"
   ]
  },
  {
   "cell_type": "code",
   "execution_count": 6,
   "metadata": {
    "colab_type": "code"
   },
   "outputs": [
    {
     "name": "stdout",
     "output_type": "stream",
     "text": [
      "Epoch 1/100\n",
      "375/375 [==============================] - 1s 3ms/step - loss: 2.3177 - accuracy: 0.1028 - val_loss: 2.3086 - val_accuracy: 0.1027\n",
      "Epoch 2/100\n",
      "375/375 [==============================] - 1s 3ms/step - loss: 2.3009 - accuracy: 0.1159 - val_loss: 2.3127 - val_accuracy: 0.1107\n",
      "Epoch 3/100\n",
      "375/375 [==============================] - 1s 3ms/step - loss: 2.2913 - accuracy: 0.1252 - val_loss: 2.3213 - val_accuracy: 0.0954\n",
      "Epoch 4/100\n",
      "375/375 [==============================] - 1s 3ms/step - loss: 2.2773 - accuracy: 0.1406 - val_loss: 2.3294 - val_accuracy: 0.1033\n",
      "Epoch 5/100\n",
      "375/375 [==============================] - 1s 3ms/step - loss: 2.2604 - accuracy: 0.1515 - val_loss: 2.3343 - val_accuracy: 0.0959\n",
      "Epoch 6/100\n",
      "375/375 [==============================] - 1s 3ms/step - loss: 2.2390 - accuracy: 0.1667 - val_loss: 2.3603 - val_accuracy: 0.0940\n",
      "Epoch 7/100\n",
      "375/375 [==============================] - 1s 3ms/step - loss: 2.2142 - accuracy: 0.1860 - val_loss: 2.3725 - val_accuracy: 0.1030\n",
      "Epoch 8/100\n",
      "375/375 [==============================] - 1s 3ms/step - loss: 2.1876 - accuracy: 0.1994 - val_loss: 2.3847 - val_accuracy: 0.0976\n",
      "Epoch 9/100\n",
      "375/375 [==============================] - 1s 3ms/step - loss: 2.1574 - accuracy: 0.2150 - val_loss: 2.4041 - val_accuracy: 0.1003\n",
      "Epoch 10/100\n",
      "375/375 [==============================] - 1s 3ms/step - loss: 2.1245 - accuracy: 0.2330 - val_loss: 2.4281 - val_accuracy: 0.1013\n",
      "Epoch 11/100\n",
      "375/375 [==============================] - 1s 3ms/step - loss: 2.0911 - accuracy: 0.2487 - val_loss: 2.4500 - val_accuracy: 0.0962\n",
      "Epoch 12/100\n",
      "375/375 [==============================] - 1s 3ms/step - loss: 2.0574 - accuracy: 0.2661 - val_loss: 2.4856 - val_accuracy: 0.0976\n",
      "Epoch 13/100\n",
      "375/375 [==============================] - 1s 3ms/step - loss: 2.0213 - accuracy: 0.2812 - val_loss: 2.5082 - val_accuracy: 0.0955\n",
      "Epoch 14/100\n",
      "375/375 [==============================] - 1s 3ms/step - loss: 1.9864 - accuracy: 0.2961 - val_loss: 2.5454 - val_accuracy: 0.0966\n",
      "Epoch 15/100\n",
      "375/375 [==============================] - 1s 3ms/step - loss: 1.9504 - accuracy: 0.3092 - val_loss: 2.5776 - val_accuracy: 0.0943\n",
      "Epoch 16/100\n",
      "375/375 [==============================] - 1s 3ms/step - loss: 1.9176 - accuracy: 0.3244 - val_loss: 2.6250 - val_accuracy: 0.1002\n",
      "Epoch 17/100\n",
      "375/375 [==============================] - 1s 3ms/step - loss: 1.8819 - accuracy: 0.3391 - val_loss: 2.6427 - val_accuracy: 0.0976\n",
      "Epoch 18/100\n",
      "375/375 [==============================] - 1s 3ms/step - loss: 1.8476 - accuracy: 0.3517 - val_loss: 2.6713 - val_accuracy: 0.0957\n",
      "Epoch 19/100\n",
      "375/375 [==============================] - 1s 3ms/step - loss: 1.8139 - accuracy: 0.3630 - val_loss: 2.7125 - val_accuracy: 0.0977\n",
      "Epoch 20/100\n",
      "375/375 [==============================] - 1s 3ms/step - loss: 1.7824 - accuracy: 0.3779 - val_loss: 2.7715 - val_accuracy: 0.0953\n",
      "Epoch 21/100\n",
      "375/375 [==============================] - 1s 3ms/step - loss: 1.7485 - accuracy: 0.3911 - val_loss: 2.7969 - val_accuracy: 0.0951\n",
      "Epoch 22/100\n",
      "375/375 [==============================] - 1s 3ms/step - loss: 1.7168 - accuracy: 0.4031 - val_loss: 2.8513 - val_accuracy: 0.0954\n",
      "Epoch 23/100\n",
      "375/375 [==============================] - 1s 3ms/step - loss: 1.6863 - accuracy: 0.4121 - val_loss: 2.8817 - val_accuracy: 0.0986\n",
      "Epoch 24/100\n",
      "375/375 [==============================] - 1s 3ms/step - loss: 1.6545 - accuracy: 0.4253 - val_loss: 2.9268 - val_accuracy: 0.0979\n",
      "Epoch 25/100\n",
      "375/375 [==============================] - 1s 3ms/step - loss: 1.6264 - accuracy: 0.4370 - val_loss: 2.9757 - val_accuracy: 0.0965\n",
      "Epoch 26/100\n",
      "375/375 [==============================] - 1s 3ms/step - loss: 1.5956 - accuracy: 0.4499 - val_loss: 2.9957 - val_accuracy: 0.0984\n",
      "Epoch 27/100\n",
      "375/375 [==============================] - 1s 3ms/step - loss: 1.5690 - accuracy: 0.4593 - val_loss: 3.0356 - val_accuracy: 0.0969\n",
      "Epoch 28/100\n",
      "375/375 [==============================] - 1s 3ms/step - loss: 1.5390 - accuracy: 0.4711 - val_loss: 3.1143 - val_accuracy: 0.0942\n",
      "Epoch 29/100\n",
      "375/375 [==============================] - 1s 3ms/step - loss: 1.5146 - accuracy: 0.4800 - val_loss: 3.1314 - val_accuracy: 0.0942\n",
      "Epoch 30/100\n",
      "375/375 [==============================] - 1s 3ms/step - loss: 1.4854 - accuracy: 0.4925 - val_loss: 3.1635 - val_accuracy: 0.0975\n",
      "Epoch 31/100\n",
      "375/375 [==============================] - 1s 3ms/step - loss: 1.4615 - accuracy: 0.4993 - val_loss: 3.2238 - val_accuracy: 0.0972\n",
      "Epoch 32/100\n",
      "375/375 [==============================] - 1s 3ms/step - loss: 1.4350 - accuracy: 0.5082 - val_loss: 3.2804 - val_accuracy: 0.0994\n",
      "Epoch 33/100\n",
      "375/375 [==============================] - 1s 3ms/step - loss: 1.4100 - accuracy: 0.5186 - val_loss: 3.3491 - val_accuracy: 0.0994\n",
      "Epoch 34/100\n",
      "375/375 [==============================] - 1s 3ms/step - loss: 1.3859 - accuracy: 0.5256 - val_loss: 3.3810 - val_accuracy: 0.0983\n",
      "Epoch 35/100\n",
      "375/375 [==============================] - 1s 3ms/step - loss: 1.3605 - accuracy: 0.5360 - val_loss: 3.4201 - val_accuracy: 0.0962\n",
      "Epoch 36/100\n",
      "375/375 [==============================] - 1s 3ms/step - loss: 1.3374 - accuracy: 0.5448 - val_loss: 3.4679 - val_accuracy: 0.0973\n",
      "Epoch 37/100\n",
      "375/375 [==============================] - 1s 3ms/step - loss: 1.3157 - accuracy: 0.5526 - val_loss: 3.5029 - val_accuracy: 0.1002\n",
      "Epoch 38/100\n",
      "375/375 [==============================] - 1s 3ms/step - loss: 1.2949 - accuracy: 0.5600 - val_loss: 3.5650 - val_accuracy: 0.0967\n",
      "Epoch 39/100\n",
      "375/375 [==============================] - 1s 3ms/step - loss: 1.2734 - accuracy: 0.5675 - val_loss: 3.6217 - val_accuracy: 0.0988\n",
      "Epoch 40/100\n",
      "375/375 [==============================] - 1s 3ms/step - loss: 1.2496 - accuracy: 0.5769 - val_loss: 3.6774 - val_accuracy: 0.0990\n",
      "Epoch 41/100\n",
      "375/375 [==============================] - 1s 3ms/step - loss: 1.2290 - accuracy: 0.5841 - val_loss: 3.7323 - val_accuracy: 0.0975\n",
      "Epoch 42/100\n",
      "375/375 [==============================] - 1s 3ms/step - loss: 1.2088 - accuracy: 0.5909 - val_loss: 3.7607 - val_accuracy: 0.0976\n",
      "Epoch 43/100\n",
      "375/375 [==============================] - 1s 3ms/step - loss: 1.1897 - accuracy: 0.5992 - val_loss: 3.8176 - val_accuracy: 0.0971\n",
      "Epoch 44/100\n",
      "375/375 [==============================] - 1s 3ms/step - loss: 1.1683 - accuracy: 0.6060 - val_loss: 3.8462 - val_accuracy: 0.0961\n",
      "Epoch 45/100\n",
      "375/375 [==============================] - 1s 3ms/step - loss: 1.1501 - accuracy: 0.6124 - val_loss: 3.9252 - val_accuracy: 0.0963\n",
      "Epoch 46/100\n",
      "375/375 [==============================] - 1s 3ms/step - loss: 1.1317 - accuracy: 0.6187 - val_loss: 3.9935 - val_accuracy: 0.0984\n",
      "Epoch 47/100\n",
      "375/375 [==============================] - 1s 3ms/step - loss: 1.1148 - accuracy: 0.6242 - val_loss: 4.0442 - val_accuracy: 0.0964\n",
      "Epoch 48/100\n",
      "375/375 [==============================] - 1s 3ms/step - loss: 1.0941 - accuracy: 0.6333 - val_loss: 4.1133 - val_accuracy: 0.0947\n",
      "Epoch 49/100\n",
      "375/375 [==============================] - 1s 3ms/step - loss: 1.0767 - accuracy: 0.6382 - val_loss: 4.1917 - val_accuracy: 0.0955\n",
      "Epoch 50/100\n",
      "375/375 [==============================] - 1s 3ms/step - loss: 1.0595 - accuracy: 0.6442 - val_loss: 4.1965 - val_accuracy: 0.0983\n",
      "Epoch 51/100\n",
      "375/375 [==============================] - 1s 3ms/step - loss: 1.0431 - accuracy: 0.6507 - val_loss: 4.2855 - val_accuracy: 0.0943\n",
      "Epoch 52/100\n",
      "375/375 [==============================] - 1s 3ms/step - loss: 1.0264 - accuracy: 0.6560 - val_loss: 4.3299 - val_accuracy: 0.0937\n",
      "Epoch 53/100\n",
      "375/375 [==============================] - 1s 3ms/step - loss: 1.0114 - accuracy: 0.6615 - val_loss: 4.4120 - val_accuracy: 0.0980\n",
      "Epoch 54/100\n",
      "375/375 [==============================] - 1s 3ms/step - loss: 0.9930 - accuracy: 0.6684 - val_loss: 4.4665 - val_accuracy: 0.0947\n",
      "Epoch 55/100\n",
      "375/375 [==============================] - 1s 3ms/step - loss: 0.9796 - accuracy: 0.6717 - val_loss: 4.4867 - val_accuracy: 0.0988\n",
      "Epoch 56/100\n",
      "375/375 [==============================] - 1s 3ms/step - loss: 0.9645 - accuracy: 0.6785 - val_loss: 4.5429 - val_accuracy: 0.0983\n",
      "Epoch 57/100\n",
      "375/375 [==============================] - 1s 3ms/step - loss: 0.9500 - accuracy: 0.6850 - val_loss: 4.6107 - val_accuracy: 0.0953\n",
      "Epoch 58/100\n",
      "375/375 [==============================] - 1s 3ms/step - loss: 0.9326 - accuracy: 0.6910 - val_loss: 4.6757 - val_accuracy: 0.0945\n",
      "Epoch 59/100\n",
      "375/375 [==============================] - 1s 3ms/step - loss: 0.9200 - accuracy: 0.6921 - val_loss: 4.7212 - val_accuracy: 0.0947\n",
      "Epoch 60/100\n",
      "375/375 [==============================] - 1s 3ms/step - loss: 0.9052 - accuracy: 0.6985 - val_loss: 4.8210 - val_accuracy: 0.0972\n",
      "Epoch 61/100\n",
      "375/375 [==============================] - 1s 3ms/step - loss: 0.8928 - accuracy: 0.7020 - val_loss: 4.7979 - val_accuracy: 0.0968\n",
      "Epoch 62/100\n",
      "375/375 [==============================] - 1s 3ms/step - loss: 0.8781 - accuracy: 0.7094 - val_loss: 4.9428 - val_accuracy: 0.0975\n",
      "Epoch 63/100\n",
      "375/375 [==============================] - 1s 3ms/step - loss: 0.8629 - accuracy: 0.7148 - val_loss: 4.9728 - val_accuracy: 0.0943\n",
      "Epoch 64/100\n",
      "375/375 [==============================] - 1s 3ms/step - loss: 0.8481 - accuracy: 0.7186 - val_loss: 5.0847 - val_accuracy: 0.0962\n",
      "Epoch 65/100\n",
      "375/375 [==============================] - 1s 3ms/step - loss: 0.8354 - accuracy: 0.7249 - val_loss: 5.0875 - val_accuracy: 0.0975\n",
      "Epoch 66/100\n",
      "375/375 [==============================] - 1s 3ms/step - loss: 0.8270 - accuracy: 0.7277 - val_loss: 5.2076 - val_accuracy: 0.0948\n",
      "Epoch 67/100\n",
      "375/375 [==============================] - 1s 3ms/step - loss: 0.8140 - accuracy: 0.7315 - val_loss: 5.2495 - val_accuracy: 0.0983\n",
      "Epoch 68/100\n",
      "375/375 [==============================] - 1s 3ms/step - loss: 0.8003 - accuracy: 0.7377 - val_loss: 5.3009 - val_accuracy: 0.0962\n",
      "Epoch 69/100\n",
      "375/375 [==============================] - 1s 3ms/step - loss: 0.7876 - accuracy: 0.7400 - val_loss: 5.3714 - val_accuracy: 0.0978\n",
      "Epoch 70/100\n",
      "375/375 [==============================] - 1s 3ms/step - loss: 0.7766 - accuracy: 0.7443 - val_loss: 5.4071 - val_accuracy: 0.0955\n",
      "Epoch 71/100\n",
      "375/375 [==============================] - 1s 3ms/step - loss: 0.7653 - accuracy: 0.7492 - val_loss: 5.4751 - val_accuracy: 0.0966\n",
      "Epoch 72/100\n",
      "375/375 [==============================] - 1s 3ms/step - loss: 0.7544 - accuracy: 0.7528 - val_loss: 5.5340 - val_accuracy: 0.0953\n",
      "Epoch 73/100\n",
      "375/375 [==============================] - 1s 3ms/step - loss: 0.7403 - accuracy: 0.7560 - val_loss: 5.6286 - val_accuracy: 0.0972\n",
      "Epoch 74/100\n",
      "375/375 [==============================] - 1s 3ms/step - loss: 0.7318 - accuracy: 0.7610 - val_loss: 5.6592 - val_accuracy: 0.0952\n",
      "Epoch 75/100\n",
      "375/375 [==============================] - 1s 3ms/step - loss: 0.7192 - accuracy: 0.7646 - val_loss: 5.7632 - val_accuracy: 0.0964\n",
      "Epoch 76/100\n",
      "375/375 [==============================] - 1s 3ms/step - loss: 0.7084 - accuracy: 0.7686 - val_loss: 5.8263 - val_accuracy: 0.0978\n",
      "Epoch 77/100\n",
      "375/375 [==============================] - 1s 3ms/step - loss: 0.6969 - accuracy: 0.7711 - val_loss: 5.8959 - val_accuracy: 0.0951\n",
      "Epoch 78/100\n",
      "375/375 [==============================] - 1s 3ms/step - loss: 0.6887 - accuracy: 0.7753 - val_loss: 5.9845 - val_accuracy: 0.0978\n",
      "Epoch 79/100\n",
      "375/375 [==============================] - 1s 3ms/step - loss: 0.6771 - accuracy: 0.7793 - val_loss: 6.0074 - val_accuracy: 0.0958\n",
      "Epoch 80/100\n",
      "375/375 [==============================] - 1s 3ms/step - loss: 0.6669 - accuracy: 0.7850 - val_loss: 6.0622 - val_accuracy: 0.0979\n",
      "Epoch 81/100\n",
      "375/375 [==============================] - 1s 3ms/step - loss: 0.6559 - accuracy: 0.7860 - val_loss: 6.1449 - val_accuracy: 0.0975\n",
      "Epoch 82/100\n",
      "375/375 [==============================] - 1s 3ms/step - loss: 0.6471 - accuracy: 0.7882 - val_loss: 6.2770 - val_accuracy: 0.0979\n",
      "Epoch 83/100\n",
      "375/375 [==============================] - 1s 3ms/step - loss: 0.6393 - accuracy: 0.7913 - val_loss: 6.2720 - val_accuracy: 0.0969\n",
      "Epoch 84/100\n",
      "375/375 [==============================] - 1s 3ms/step - loss: 0.6304 - accuracy: 0.7947 - val_loss: 6.3272 - val_accuracy: 0.0963\n",
      "Epoch 85/100\n",
      "375/375 [==============================] - 1s 3ms/step - loss: 0.6187 - accuracy: 0.7986 - val_loss: 6.4172 - val_accuracy: 0.0969\n",
      "Epoch 86/100\n",
      "375/375 [==============================] - 1s 3ms/step - loss: 0.6091 - accuracy: 0.8019 - val_loss: 6.4914 - val_accuracy: 0.0955\n",
      "Epoch 87/100\n",
      "375/375 [==============================] - 1s 3ms/step - loss: 0.6023 - accuracy: 0.8054 - val_loss: 6.5652 - val_accuracy: 0.0957\n",
      "Epoch 88/100\n",
      "375/375 [==============================] - 1s 3ms/step - loss: 0.5915 - accuracy: 0.8073 - val_loss: 6.6564 - val_accuracy: 0.0979\n",
      "Epoch 89/100\n",
      "375/375 [==============================] - 1s 3ms/step - loss: 0.5824 - accuracy: 0.8114 - val_loss: 6.6943 - val_accuracy: 0.0949\n",
      "Epoch 90/100\n",
      "375/375 [==============================] - 1s 3ms/step - loss: 0.5746 - accuracy: 0.8153 - val_loss: 6.7739 - val_accuracy: 0.0959\n",
      "Epoch 91/100\n",
      "375/375 [==============================] - 1s 3ms/step - loss: 0.5677 - accuracy: 0.8174 - val_loss: 6.8523 - val_accuracy: 0.0976\n",
      "Epoch 92/100\n",
      "375/375 [==============================] - 1s 3ms/step - loss: 0.5583 - accuracy: 0.8198 - val_loss: 6.9161 - val_accuracy: 0.0968\n",
      "Epoch 93/100\n",
      "375/375 [==============================] - 1s 3ms/step - loss: 0.5487 - accuracy: 0.8235 - val_loss: 7.0092 - val_accuracy: 0.0959\n",
      "Epoch 94/100\n",
      "375/375 [==============================] - 1s 3ms/step - loss: 0.5448 - accuracy: 0.8253 - val_loss: 7.0759 - val_accuracy: 0.0977\n",
      "Epoch 95/100\n",
      "375/375 [==============================] - 1s 3ms/step - loss: 0.5349 - accuracy: 0.8282 - val_loss: 7.1313 - val_accuracy: 0.0986\n",
      "Epoch 96/100\n",
      "375/375 [==============================] - 1s 3ms/step - loss: 0.5273 - accuracy: 0.8318 - val_loss: 7.1678 - val_accuracy: 0.0967\n",
      "Epoch 97/100\n",
      "375/375 [==============================] - 1s 3ms/step - loss: 0.5208 - accuracy: 0.8330 - val_loss: 7.2652 - val_accuracy: 0.0983\n",
      "Epoch 98/100\n",
      "375/375 [==============================] - 1s 3ms/step - loss: 0.5131 - accuracy: 0.8356 - val_loss: 7.3513 - val_accuracy: 0.0988\n",
      "Epoch 99/100\n",
      "375/375 [==============================] - 1s 3ms/step - loss: 0.5056 - accuracy: 0.8381 - val_loss: 7.3854 - val_accuracy: 0.1003\n",
      "Epoch 100/100\n",
      "375/375 [==============================] - 1s 3ms/step - loss: 0.4980 - accuracy: 0.8401 - val_loss: 7.5066 - val_accuracy: 0.0989\n"
     ]
    },
    {
     "data": {
      "text/plain": [
       "<keras.src.callbacks.History at 0x2c2ea9d50>"
      ]
     },
     "execution_count": 6,
     "metadata": {},
     "output_type": "execute_result"
    }
   ],
   "source": [
    "(train_images, train_labels), _ = mnist.load_data()\n",
    "train_images = train_images.reshape((60000, 28 * 28))\n",
    "train_images = train_images.astype(\"float32\") / 255\n",
    "\n",
    "random_train_labels = train_labels[:]\n",
    "np.random.shuffle(random_train_labels)\n",
    "\n",
    "model = keras.Sequential([\n",
    "    layers.Dense(512, activation=\"relu\"),\n",
    "    layers.Dense(10, activation=\"softmax\")\n",
    "])\n",
    "model.compile(optimizer=\"rmsprop\",\n",
    "              loss=\"sparse_categorical_crossentropy\",\n",
    "              metrics=[\"accuracy\"])\n",
    "model.fit(train_images, random_train_labels,\n",
    "          epochs=100,\n",
    "          batch_size=128,\n",
    "          validation_split=0.2)"
   ]
  },
  {
   "cell_type": "markdown",
   "metadata": {
    "colab_type": "text"
   },
   "source": [
    "#### The manifold hypothesis"
   ]
  },
  {
   "cell_type": "markdown",
   "metadata": {
    "colab_type": "text"
   },
   "source": [
    "#### Interpolation as a source of generalization"
   ]
  },
  {
   "cell_type": "markdown",
   "metadata": {
    "colab_type": "text"
   },
   "source": [
    "#### Why deep learning works"
   ]
  },
  {
   "cell_type": "markdown",
   "metadata": {
    "colab_type": "text"
   },
   "source": [
    "#### Training data is paramount"
   ]
  },
  {
   "cell_type": "markdown",
   "metadata": {
    "colab_type": "text"
   },
   "source": [
    "## Evaluating machine-learning models"
   ]
  },
  {
   "cell_type": "markdown",
   "metadata": {
    "colab_type": "text"
   },
   "source": [
    "### Training, validation, and test sets"
   ]
  },
  {
   "cell_type": "markdown",
   "metadata": {
    "colab_type": "text"
   },
   "source": [
    "#### Simple hold-out validation"
   ]
  },
  {
   "cell_type": "markdown",
   "metadata": {
    "colab_type": "text"
   },
   "source": [
    "#### K-fold validation"
   ]
  },
  {
   "cell_type": "markdown",
   "metadata": {
    "colab_type": "text"
   },
   "source": [
    "#### Iterated K-fold validation with shuffling"
   ]
  },
  {
   "cell_type": "markdown",
   "metadata": {
    "colab_type": "text"
   },
   "source": [
    "### Beating a common-sense baseline"
   ]
  },
  {
   "cell_type": "markdown",
   "metadata": {
    "colab_type": "text"
   },
   "source": [
    "### Things to keep in mind about model evaluation"
   ]
  },
  {
   "cell_type": "markdown",
   "metadata": {
    "colab_type": "text"
   },
   "source": [
    "## Improving model fit"
   ]
  },
  {
   "cell_type": "markdown",
   "metadata": {
    "colab_type": "text"
   },
   "source": [
    "### Tuning key gradient descent parameters"
   ]
  },
  {
   "cell_type": "markdown",
   "metadata": {
    "colab_type": "text"
   },
   "source": [
    "**Training a MNIST model with an incorrectly high learning rate**"
   ]
  },
  {
   "cell_type": "code",
   "execution_count": 12,
   "metadata": {
    "colab_type": "code"
   },
   "outputs": [
    {
     "name": "stderr",
     "output_type": "stream",
     "text": [
      "WARNING:absl:At this time, the v2.11+ optimizer `tf.keras.optimizers.RMSprop` runs slowly on M1/M2 Macs, please use the legacy Keras optimizer instead, located at `tf.keras.optimizers.legacy.RMSprop`.\n"
     ]
    },
    {
     "name": "stdout",
     "output_type": "stream",
     "text": [
      "Epoch 1/10\n",
      "375/375 [==============================] - 1s 2ms/step - loss: 550.6548 - accuracy: 0.2630 - val_loss: 2.4675 - val_accuracy: 0.1292\n",
      "Epoch 2/10\n",
      "375/375 [==============================] - 1s 2ms/step - loss: 4.0530 - accuracy: 0.1831 - val_loss: 2.5111 - val_accuracy: 0.1678\n",
      "Epoch 3/10\n",
      "375/375 [==============================] - 1s 2ms/step - loss: 2.7369 - accuracy: 0.1584 - val_loss: 2.2475 - val_accuracy: 0.1693\n",
      "Epoch 4/10\n",
      "375/375 [==============================] - 1s 2ms/step - loss: 2.4983 - accuracy: 0.1637 - val_loss: 2.2875 - val_accuracy: 0.1928\n",
      "Epoch 5/10\n",
      "375/375 [==============================] - 1s 3ms/step - loss: 2.4018 - accuracy: 0.1732 - val_loss: 2.3336 - val_accuracy: 0.1780\n",
      "Epoch 6/10\n",
      "375/375 [==============================] - 1s 3ms/step - loss: 2.4421 - accuracy: 0.1861 - val_loss: 2.3814 - val_accuracy: 0.1287\n",
      "Epoch 7/10\n",
      "375/375 [==============================] - 1s 3ms/step - loss: 2.4556 - accuracy: 0.1883 - val_loss: 2.1738 - val_accuracy: 0.1996\n",
      "Epoch 8/10\n",
      "375/375 [==============================] - 1s 3ms/step - loss: 2.4014 - accuracy: 0.1915 - val_loss: 2.2816 - val_accuracy: 0.1778\n",
      "Epoch 9/10\n",
      "375/375 [==============================] - 1s 3ms/step - loss: 2.4258 - accuracy: 0.1851 - val_loss: 2.2624 - val_accuracy: 0.2124\n",
      "Epoch 10/10\n",
      "375/375 [==============================] - 1s 2ms/step - loss: 2.4796 - accuracy: 0.2039 - val_loss: 2.2856 - val_accuracy: 0.1925\n"
     ]
    },
    {
     "data": {
      "text/plain": [
       "<keras.src.callbacks.History at 0x2e2386cd0>"
      ]
     },
     "execution_count": 12,
     "metadata": {},
     "output_type": "execute_result"
    }
   ],
   "source": [
    "(train_images, train_labels), _ = mnist.load_data()\n",
    "train_images = train_images.reshape((60000, 28 * 28))\n",
    "train_images = train_images.astype(\"float32\") / 255\n",
    "\n",
    "model = keras.Sequential([\n",
    "    layers.Dense(512, activation=\"relu\"),\n",
    "    layers.Dense(10, activation=\"softmax\")\n",
    "])\n",
    "model.compile(optimizer=keras.optimizers.RMSprop(1.),\n",
    "              loss=\"sparse_categorical_crossentropy\",\n",
    "              metrics=[\"accuracy\"])\n",
    "model.fit(train_images, train_labels,\n",
    "          epochs=10,\n",
    "          batch_size=128,\n",
    "          validation_split=0.2)"
   ]
  },
  {
   "cell_type": "markdown",
   "metadata": {
    "colab_type": "text"
   },
   "source": [
    "**The same model with a more appropriate learning rate**"
   ]
  },
  {
   "cell_type": "code",
   "execution_count": 13,
   "metadata": {
    "colab_type": "code"
   },
   "outputs": [
    {
     "name": "stderr",
     "output_type": "stream",
     "text": [
      "WARNING:absl:At this time, the v2.11+ optimizer `tf.keras.optimizers.RMSprop` runs slowly on M1/M2 Macs, please use the legacy Keras optimizer instead, located at `tf.keras.optimizers.legacy.RMSprop`.\n"
     ]
    },
    {
     "name": "stdout",
     "output_type": "stream",
     "text": [
      "Epoch 1/10\n",
      "375/375 [==============================] - 1s 3ms/step - loss: 0.3412 - accuracy: 0.9119 - val_loss: 0.1526 - val_accuracy: 0.9553\n",
      "Epoch 2/10\n",
      "375/375 [==============================] - 1s 2ms/step - loss: 0.1271 - accuracy: 0.9647 - val_loss: 0.1430 - val_accuracy: 0.9644\n",
      "Epoch 3/10\n",
      "375/375 [==============================] - 1s 2ms/step - loss: 0.0967 - accuracy: 0.9738 - val_loss: 0.1504 - val_accuracy: 0.9686\n",
      "Epoch 4/10\n",
      "375/375 [==============================] - 1s 2ms/step - loss: 0.0817 - accuracy: 0.9792 - val_loss: 0.1667 - val_accuracy: 0.9692\n",
      "Epoch 5/10\n",
      "375/375 [==============================] - 1s 3ms/step - loss: 0.0696 - accuracy: 0.9826 - val_loss: 0.1726 - val_accuracy: 0.9707\n",
      "Epoch 6/10\n",
      "375/375 [==============================] - 1s 2ms/step - loss: 0.0568 - accuracy: 0.9851 - val_loss: 0.1898 - val_accuracy: 0.9695\n",
      "Epoch 7/10\n",
      "375/375 [==============================] - 1s 2ms/step - loss: 0.0575 - accuracy: 0.9866 - val_loss: 0.1833 - val_accuracy: 0.9754\n",
      "Epoch 8/10\n",
      "375/375 [==============================] - 1s 2ms/step - loss: 0.0477 - accuracy: 0.9885 - val_loss: 0.2229 - val_accuracy: 0.9716\n",
      "Epoch 9/10\n",
      "375/375 [==============================] - 1s 2ms/step - loss: 0.0493 - accuracy: 0.9892 - val_loss: 0.2166 - val_accuracy: 0.9723\n",
      "Epoch 10/10\n",
      "375/375 [==============================] - 1s 2ms/step - loss: 0.0396 - accuracy: 0.9914 - val_loss: 0.2251 - val_accuracy: 0.9733\n"
     ]
    },
    {
     "data": {
      "text/plain": [
       "<keras.src.callbacks.History at 0x2e4446a90>"
      ]
     },
     "execution_count": 13,
     "metadata": {},
     "output_type": "execute_result"
    }
   ],
   "source": [
    "model = keras.Sequential([\n",
    "    layers.Dense(512, activation=\"relu\"),\n",
    "    layers.Dense(10, activation=\"softmax\")\n",
    "])\n",
    "model.compile(optimizer=keras.optimizers.RMSprop(1e-2),\n",
    "              loss=\"sparse_categorical_crossentropy\",\n",
    "              metrics=[\"accuracy\"])\n",
    "model.fit(train_images, train_labels,\n",
    "          epochs=10,\n",
    "          batch_size=128,\n",
    "          validation_split=0.2)"
   ]
  },
  {
   "cell_type": "markdown",
   "metadata": {
    "colab_type": "text"
   },
   "source": [
    "### Leveraging better architecture priors"
   ]
  },
  {
   "cell_type": "markdown",
   "metadata": {
    "colab_type": "text"
   },
   "source": [
    "### Increasing model capacity"
   ]
  },
  {
   "cell_type": "markdown",
   "metadata": {
    "colab_type": "text"
   },
   "source": [
    "**A simple logistic regression on MNIST**"
   ]
  },
  {
   "cell_type": "code",
   "execution_count": 14,
   "metadata": {
    "colab_type": "code"
   },
   "outputs": [
    {
     "name": "stdout",
     "output_type": "stream",
     "text": [
      "Epoch 1/20\n",
      "375/375 [==============================] - 0s 682us/step - loss: 0.6641 - accuracy: 0.8383 - val_loss: 0.3568 - val_accuracy: 0.9064\n",
      "Epoch 2/20\n",
      "375/375 [==============================] - 0s 545us/step - loss: 0.3509 - accuracy: 0.9024 - val_loss: 0.3075 - val_accuracy: 0.9138\n",
      "Epoch 3/20\n",
      "375/375 [==============================] - 0s 567us/step - loss: 0.3151 - accuracy: 0.9124 - val_loss: 0.2913 - val_accuracy: 0.9202\n",
      "Epoch 4/20\n",
      "375/375 [==============================] - 0s 560us/step - loss: 0.2991 - accuracy: 0.9166 - val_loss: 0.2822 - val_accuracy: 0.9218\n",
      "Epoch 5/20\n",
      "375/375 [==============================] - 0s 553us/step - loss: 0.2898 - accuracy: 0.9195 - val_loss: 0.2759 - val_accuracy: 0.9228\n",
      "Epoch 6/20\n",
      "375/375 [==============================] - 0s 544us/step - loss: 0.2832 - accuracy: 0.9209 - val_loss: 0.2755 - val_accuracy: 0.9237\n",
      "Epoch 7/20\n",
      "375/375 [==============================] - 0s 576us/step - loss: 0.2783 - accuracy: 0.9226 - val_loss: 0.2711 - val_accuracy: 0.9251\n",
      "Epoch 8/20\n",
      "375/375 [==============================] - 0s 551us/step - loss: 0.2742 - accuracy: 0.9236 - val_loss: 0.2680 - val_accuracy: 0.9254\n",
      "Epoch 9/20\n",
      "375/375 [==============================] - 0s 626us/step - loss: 0.2717 - accuracy: 0.9246 - val_loss: 0.2659 - val_accuracy: 0.9277\n",
      "Epoch 10/20\n",
      "375/375 [==============================] - 0s 614us/step - loss: 0.2691 - accuracy: 0.9259 - val_loss: 0.2656 - val_accuracy: 0.9274\n",
      "Epoch 11/20\n",
      "375/375 [==============================] - 0s 551us/step - loss: 0.2670 - accuracy: 0.9261 - val_loss: 0.2644 - val_accuracy: 0.9285\n",
      "Epoch 12/20\n",
      "375/375 [==============================] - 0s 553us/step - loss: 0.2648 - accuracy: 0.9268 - val_loss: 0.2627 - val_accuracy: 0.9287\n",
      "Epoch 13/20\n",
      "375/375 [==============================] - 0s 561us/step - loss: 0.2633 - accuracy: 0.9275 - val_loss: 0.2624 - val_accuracy: 0.9291\n",
      "Epoch 14/20\n",
      "375/375 [==============================] - 0s 628us/step - loss: 0.2616 - accuracy: 0.9281 - val_loss: 0.2627 - val_accuracy: 0.9295\n",
      "Epoch 15/20\n",
      "375/375 [==============================] - 0s 631us/step - loss: 0.2607 - accuracy: 0.9278 - val_loss: 0.2617 - val_accuracy: 0.9289\n",
      "Epoch 16/20\n",
      "375/375 [==============================] - 0s 582us/step - loss: 0.2597 - accuracy: 0.9294 - val_loss: 0.2619 - val_accuracy: 0.9309\n",
      "Epoch 17/20\n",
      "375/375 [==============================] - 0s 544us/step - loss: 0.2580 - accuracy: 0.9293 - val_loss: 0.2611 - val_accuracy: 0.9299\n",
      "Epoch 18/20\n",
      "375/375 [==============================] - 0s 552us/step - loss: 0.2573 - accuracy: 0.9296 - val_loss: 0.2612 - val_accuracy: 0.9299\n",
      "Epoch 19/20\n",
      "375/375 [==============================] - 0s 613us/step - loss: 0.2564 - accuracy: 0.9293 - val_loss: 0.2631 - val_accuracy: 0.9302\n",
      "Epoch 20/20\n",
      "375/375 [==============================] - 0s 578us/step - loss: 0.2558 - accuracy: 0.9305 - val_loss: 0.2606 - val_accuracy: 0.9302\n"
     ]
    }
   ],
   "source": [
    "model = keras.Sequential([layers.Dense(10, activation=\"softmax\")])\n",
    "model.compile(optimizer=\"rmsprop\",\n",
    "              loss=\"sparse_categorical_crossentropy\",\n",
    "              metrics=[\"accuracy\"])\n",
    "history_small_model = model.fit(\n",
    "    train_images, train_labels,\n",
    "    epochs=20,\n",
    "    batch_size=128,\n",
    "    validation_split=0.2)"
   ]
  },
  {
   "cell_type": "code",
   "execution_count": 17,
   "metadata": {
    "colab_type": "code"
   },
   "outputs": [
    {
     "data": {
      "text/plain": [
       "<matplotlib.legend.Legend at 0x2e60d9250>"
      ]
     },
     "execution_count": 17,
     "metadata": {},
     "output_type": "execute_result"
    },
    {
     "data": {
      "image/png": "[encoded data removed]",
      "text/plain": [
       "<Figure size 640x480 with 1 Axes>"
      ]
     },
     "metadata": {},
     "output_type": "display_data"
    }
   ],
   "source": [
    "import matplotlib.pyplot as plt\n",
    "val_loss = history_small_model.history[\"val_loss\"]\n",
    "epochs = range(1, 21)\n",
    "plt.plot(epochs, val_loss, \"b--\",\n",
    "         label=\"Validation loss\")\n",
    "plt.title(\"Effect of insufficient model capacity on validation loss\")\n",
    "plt.xlabel(\"Epochs\")\n",
    "plt.ylabel(\"Loss\")\n",
    "plt.legend()"
   ]
  },
  {
   "cell_type": "code",
   "execution_count": 16,
   "metadata": {
    "colab_type": "code"
   },
   "outputs": [
    {
     "name": "stdout",
     "output_type": "stream",
     "text": [
      "Epoch 1/20\n",
      "375/375 [==============================] - 1s 1ms/step - loss: 0.3572 - accuracy: 0.8996 - val_loss: 0.1821 - val_accuracy: 0.9476\n",
      "Epoch 2/20\n",
      "375/375 [==============================] - 0s 1ms/step - loss: 0.1602 - accuracy: 0.9520 - val_loss: 0.1500 - val_accuracy: 0.9549\n",
      "Epoch 3/20\n",
      "375/375 [==============================] - 0s 1ms/step - loss: 0.1123 - accuracy: 0.9663 - val_loss: 0.1087 - val_accuracy: 0.9684\n",
      "Epoch 4/20\n",
      "375/375 [==============================] - 0s 1ms/step - loss: 0.0875 - accuracy: 0.9735 - val_loss: 0.1014 - val_accuracy: 0.9707\n",
      "Epoch 5/20\n",
      "375/375 [==============================] - 0s 1ms/step - loss: 0.0698 - accuracy: 0.9789 - val_loss: 0.0998 - val_accuracy: 0.9728\n",
      "Epoch 6/20\n",
      "375/375 [==============================] - 0s 1ms/step - loss: 0.0583 - accuracy: 0.9824 - val_loss: 0.0957 - val_accuracy: 0.9733\n",
      "Epoch 7/20\n",
      "375/375 [==============================] - 0s 1ms/step - loss: 0.0477 - accuracy: 0.9854 - val_loss: 0.0975 - val_accuracy: 0.9712\n",
      "Epoch 8/20\n",
      "375/375 [==============================] - 0s 1ms/step - loss: 0.0419 - accuracy: 0.9870 - val_loss: 0.0941 - val_accuracy: 0.9752\n",
      "Epoch 9/20\n",
      "375/375 [==============================] - 0s 1ms/step - loss: 0.0346 - accuracy: 0.9894 - val_loss: 0.0962 - val_accuracy: 0.9759\n",
      "Epoch 10/20\n",
      "375/375 [==============================] - 0s 1ms/step - loss: 0.0290 - accuracy: 0.9913 - val_loss: 0.0959 - val_accuracy: 0.9759\n",
      "Epoch 11/20\n",
      "375/375 [==============================] - 0s 1ms/step - loss: 0.0243 - accuracy: 0.9925 - val_loss: 0.0987 - val_accuracy: 0.9770\n",
      "Epoch 12/20\n",
      "375/375 [==============================] - 0s 1ms/step - loss: 0.0212 - accuracy: 0.9934 - val_loss: 0.1011 - val_accuracy: 0.9763\n",
      "Epoch 13/20\n",
      "375/375 [==============================] - 0s 1ms/step - loss: 0.0184 - accuracy: 0.9943 - val_loss: 0.1004 - val_accuracy: 0.9758\n",
      "Epoch 14/20\n",
      "375/375 [==============================] - 0s 1ms/step - loss: 0.0147 - accuracy: 0.9956 - val_loss: 0.1050 - val_accuracy: 0.9779\n",
      "Epoch 15/20\n",
      "375/375 [==============================] - 0s 1ms/step - loss: 0.0135 - accuracy: 0.9961 - val_loss: 0.1125 - val_accuracy: 0.9758\n",
      "Epoch 16/20\n",
      "375/375 [==============================] - 0s 1ms/step - loss: 0.0112 - accuracy: 0.9967 - val_loss: 0.1277 - val_accuracy: 0.9731\n",
      "Epoch 17/20\n",
      "375/375 [==============================] - 0s 1ms/step - loss: 0.0099 - accuracy: 0.9969 - val_loss: 0.1204 - val_accuracy: 0.9758\n",
      "Epoch 18/20\n",
      "375/375 [==============================] - 0s 1ms/step - loss: 0.0080 - accuracy: 0.9975 - val_loss: 0.1207 - val_accuracy: 0.9765\n",
      "Epoch 19/20\n",
      "375/375 [==============================] - 0s 1ms/step - loss: 0.0070 - accuracy: 0.9980 - val_loss: 0.1251 - val_accuracy: 0.9780\n",
      "Epoch 20/20\n",
      "375/375 [==============================] - 0s 1ms/step - loss: 0.0057 - accuracy: 0.9984 - val_loss: 0.1389 - val_accuracy: 0.9762\n"
     ]
    }
   ],
   "source": [
    "model = keras.Sequential([\n",
    "    layers.Dense(96, activation=\"relu\"),\n",
    "    layers.Dense(96, activation=\"relu\"),\n",
    "    layers.Dense(10, activation=\"softmax\"),\n",
    "])\n",
    "model.compile(optimizer=\"rmsprop\",\n",
    "              loss=\"sparse_categorical_crossentropy\",\n",
    "              metrics=[\"accuracy\"])\n",
    "history_large_model = model.fit(\n",
    "    train_images, train_labels,\n",
    "    epochs=20,\n",
    "    batch_size=128,\n",
    "    validation_split=0.2)"
   ]
  },
  {
   "cell_type": "markdown",
   "metadata": {
    "colab_type": "text"
   },
   "source": [
    "## Improving generalization"
   ]
  },
  {
   "cell_type": "markdown",
   "metadata": {
    "colab_type": "text"
   },
   "source": [
    "### Dataset curation"
   ]
  },
  {
   "cell_type": "markdown",
   "metadata": {
    "colab_type": "text"
   },
   "source": [
    "### Feature engineering"
   ]
  },
  {
   "cell_type": "markdown",
   "metadata": {
    "colab_type": "text"
   },
   "source": [
    "### Using early stopping"
   ]
  },
  {
   "cell_type": "markdown",
   "metadata": {
    "colab_type": "text"
   },
   "source": [
    "### Regularizing your model"
   ]
  },
  {
   "cell_type": "markdown",
   "metadata": {
    "colab_type": "text"
   },
   "source": [
    "#### Reducing the network's size"
   ]
  },
  {
   "cell_type": "markdown",
   "metadata": {
    "colab_type": "text"
   },
   "source": [
    "**Original model**"
   ]
  },
  {
   "cell_type": "code",
   "execution_count": 18,
   "metadata": {
    "colab_type": "code"
   },
   "outputs": [
    {
     "name": "stdout",
     "output_type": "stream",
     "text": [
      "Epoch 1/20\n",
      "30/30 [==============================] - 1s 25ms/step - loss: 0.5240 - accuracy: 0.7905 - val_loss: 0.3950 - val_accuracy: 0.8737\n",
      "Epoch 2/20\n",
      "30/30 [==============================] - 0s 8ms/step - loss: 0.3174 - accuracy: 0.9026 - val_loss: 0.3076 - val_accuracy: 0.8899\n",
      "Epoch 3/20\n",
      "30/30 [==============================] - 0s 5ms/step - loss: 0.2303 - accuracy: 0.9275 - val_loss: 0.2767 - val_accuracy: 0.8931\n",
      "Epoch 4/20\n",
      "30/30 [==============================] - 0s 6ms/step - loss: 0.1801 - accuracy: 0.9407 - val_loss: 0.2778 - val_accuracy: 0.8898\n",
      "Epoch 5/20\n",
      "30/30 [==============================] - 0s 5ms/step - loss: 0.1469 - accuracy: 0.9539 - val_loss: 0.2764 - val_accuracy: 0.8899\n",
      "Epoch 6/20\n",
      "30/30 [==============================] - 0s 5ms/step - loss: 0.1184 - accuracy: 0.9638 - val_loss: 0.2873 - val_accuracy: 0.8874\n",
      "Epoch 7/20\n",
      "30/30 [==============================] - 0s 5ms/step - loss: 0.0999 - accuracy: 0.9699 - val_loss: 0.3098 - val_accuracy: 0.8845\n",
      "Epoch 8/20\n",
      "30/30 [==============================] - 0s 5ms/step - loss: 0.0796 - accuracy: 0.9773 - val_loss: 0.3299 - val_accuracy: 0.8832\n",
      "Epoch 9/20\n",
      "30/30 [==============================] - 0s 5ms/step - loss: 0.0666 - accuracy: 0.9832 - val_loss: 0.3723 - val_accuracy: 0.8780\n",
      "Epoch 10/20\n",
      "30/30 [==============================] - 0s 5ms/step - loss: 0.0558 - accuracy: 0.9862 - val_loss: 0.3863 - val_accuracy: 0.8773\n",
      "Epoch 11/20\n",
      "30/30 [==============================] - 0s 6ms/step - loss: 0.0431 - accuracy: 0.9907 - val_loss: 0.4338 - val_accuracy: 0.8731\n",
      "Epoch 12/20\n",
      "30/30 [==============================] - 0s 6ms/step - loss: 0.0366 - accuracy: 0.9914 - val_loss: 0.4527 - val_accuracy: 0.8728\n",
      "Epoch 13/20\n",
      "30/30 [==============================] - 0s 6ms/step - loss: 0.0285 - accuracy: 0.9935 - val_loss: 0.4730 - val_accuracy: 0.8737\n",
      "Epoch 14/20\n",
      "30/30 [==============================] - 0s 5ms/step - loss: 0.0221 - accuracy: 0.9956 - val_loss: 0.5117 - val_accuracy: 0.8718\n",
      "Epoch 15/20\n",
      "30/30 [==============================] - 0s 5ms/step - loss: 0.0174 - accuracy: 0.9972 - val_loss: 0.5395 - val_accuracy: 0.8706\n",
      "Epoch 16/20\n",
      "30/30 [==============================] - 0s 5ms/step - loss: 0.0133 - accuracy: 0.9978 - val_loss: 0.5785 - val_accuracy: 0.8704\n",
      "Epoch 17/20\n",
      "30/30 [==============================] - 0s 5ms/step - loss: 0.0147 - accuracy: 0.9959 - val_loss: 0.6100 - val_accuracy: 0.8697\n",
      "Epoch 18/20\n",
      "30/30 [==============================] - 0s 5ms/step - loss: 0.0065 - accuracy: 0.9993 - val_loss: 0.6370 - val_accuracy: 0.8680\n",
      "Epoch 19/20\n",
      "30/30 [==============================] - 0s 5ms/step - loss: 0.0076 - accuracy: 0.9987 - val_loss: 0.6945 - val_accuracy: 0.8651\n",
      "Epoch 20/20\n",
      "30/30 [==============================] - 0s 5ms/step - loss: 0.0036 - accuracy: 0.9997 - val_loss: 0.7364 - val_accuracy: 0.8637\n"
     ]
    }
   ],
   "source": [
    "from tensorflow.keras.datasets import imdb\n",
    "(train_data, train_labels), _ = imdb.load_data(num_words=10000)\n",
    "\n",
    "def vectorize_sequences(sequences, dimension=10000):\n",
    "    results = np.zeros((len(sequences), dimension))\n",
    "    for i, sequence in enumerate(sequences):\n",
    "        results[i, sequence] = 1.\n",
    "    return results\n",
    "train_data = vectorize_sequences(train_data)\n",
    "\n",
    "model = keras.Sequential([\n",
    "    layers.Dense(16, activation=\"relu\"),\n",
    "    layers.Dense(16, activation=\"relu\"),\n",
    "    layers.Dense(1, activation=\"sigmoid\")\n",
    "])\n",
    "model.compile(optimizer=\"rmsprop\",\n",
    "              loss=\"binary_crossentropy\",\n",
    "              metrics=[\"accuracy\"])\n",
    "history_original = model.fit(train_data, train_labels,\n",
    "                             epochs=20, batch_size=512, validation_split=0.4)"
   ]
  },
  {
   "cell_type": "markdown",
   "metadata": {
    "colab_type": "text"
   },
   "source": [
    "**Version of the model with lower capacity**"
   ]
  },
  {
   "cell_type": "code",
   "execution_count": 19,
   "metadata": {
    "colab_type": "code"
   },
   "outputs": [
    {
     "name": "stdout",
     "output_type": "stream",
     "text": [
      "Epoch 1/20\n",
      "30/30 [==============================] - 1s 12ms/step - loss: 0.5806 - accuracy: 0.7772 - val_loss: 0.4891 - val_accuracy: 0.8536\n",
      "Epoch 2/20\n",
      "30/30 [==============================] - 0s 4ms/step - loss: 0.4246 - accuracy: 0.8811 - val_loss: 0.3980 - val_accuracy: 0.8718\n",
      "Epoch 3/20\n",
      "30/30 [==============================] - 0s 4ms/step - loss: 0.3374 - accuracy: 0.9024 - val_loss: 0.3446 - val_accuracy: 0.8804\n",
      "Epoch 4/20\n",
      "30/30 [==============================] - 0s 5ms/step - loss: 0.2791 - accuracy: 0.9147 - val_loss: 0.3134 - val_accuracy: 0.8832\n",
      "Epoch 5/20\n",
      "30/30 [==============================] - 0s 5ms/step - loss: 0.2384 - accuracy: 0.9264 - val_loss: 0.2907 - val_accuracy: 0.8891\n",
      "Epoch 6/20\n",
      "30/30 [==============================] - 0s 4ms/step - loss: 0.2072 - accuracy: 0.9380 - val_loss: 0.2791 - val_accuracy: 0.8908\n",
      "Epoch 7/20\n",
      "30/30 [==============================] - 0s 4ms/step - loss: 0.1832 - accuracy: 0.9437 - val_loss: 0.2732 - val_accuracy: 0.8912\n",
      "Epoch 8/20\n",
      "30/30 [==============================] - 0s 4ms/step - loss: 0.1635 - accuracy: 0.9501 - val_loss: 0.2744 - val_accuracy: 0.8884\n",
      "Epoch 9/20\n",
      "30/30 [==============================] - 0s 4ms/step - loss: 0.1466 - accuracy: 0.9557 - val_loss: 0.2826 - val_accuracy: 0.8847\n",
      "Epoch 10/20\n",
      "30/30 [==============================] - 0s 4ms/step - loss: 0.1316 - accuracy: 0.9612 - val_loss: 0.2762 - val_accuracy: 0.8908\n",
      "Epoch 11/20\n",
      "30/30 [==============================] - 0s 4ms/step - loss: 0.1189 - accuracy: 0.9663 - val_loss: 0.2814 - val_accuracy: 0.8899\n",
      "Epoch 12/20\n",
      "30/30 [==============================] - 0s 4ms/step - loss: 0.1067 - accuracy: 0.9702 - val_loss: 0.2946 - val_accuracy: 0.8850\n",
      "Epoch 13/20\n",
      "30/30 [==============================] - 0s 4ms/step - loss: 0.0967 - accuracy: 0.9736 - val_loss: 0.2981 - val_accuracy: 0.8871\n",
      "Epoch 14/20\n",
      "30/30 [==============================] - 0s 5ms/step - loss: 0.0870 - accuracy: 0.9765 - val_loss: 0.3080 - val_accuracy: 0.8863\n",
      "Epoch 15/20\n",
      "30/30 [==============================] - 0s 5ms/step - loss: 0.0789 - accuracy: 0.9799 - val_loss: 0.3201 - val_accuracy: 0.8842\n",
      "Epoch 16/20\n",
      "30/30 [==============================] - 0s 5ms/step - loss: 0.0710 - accuracy: 0.9823 - val_loss: 0.3323 - val_accuracy: 0.8833\n",
      "Epoch 17/20\n",
      "30/30 [==============================] - 0s 5ms/step - loss: 0.0638 - accuracy: 0.9853 - val_loss: 0.3461 - val_accuracy: 0.8825\n",
      "Epoch 18/20\n",
      "30/30 [==============================] - 0s 4ms/step - loss: 0.0574 - accuracy: 0.9862 - val_loss: 0.3591 - val_accuracy: 0.8817\n",
      "Epoch 19/20\n",
      "30/30 [==============================] - 0s 4ms/step - loss: 0.0518 - accuracy: 0.9881 - val_loss: 0.3752 - val_accuracy: 0.8801\n",
      "Epoch 20/20\n",
      "30/30 [==============================] - 0s 5ms/step - loss: 0.0464 - accuracy: 0.9892 - val_loss: 0.3981 - val_accuracy: 0.8768\n"
     ]
    }
   ],
   "source": [
    "model = keras.Sequential([\n",
    "    layers.Dense(4, activation=\"relu\"),\n",
    "    layers.Dense(4, activation=\"relu\"),\n",
    "    layers.Dense(1, activation=\"sigmoid\")\n",
    "])\n",
    "model.compile(optimizer=\"rmsprop\",\n",
    "              loss=\"binary_crossentropy\",\n",
    "              metrics=[\"accuracy\"])\n",
    "history_smaller_model = model.fit(\n",
    "    train_data, train_labels,\n",
    "    epochs=20, batch_size=512, validation_split=0.4)"
   ]
  },
  {
   "cell_type": "markdown",
   "metadata": {
    "colab_type": "text"
   },
   "source": [
    "**Version of the model with higher capacity**"
   ]
  },
  {
   "cell_type": "code",
   "execution_count": 20,
   "metadata": {
    "colab_type": "code"
   },
   "outputs": [
    {
     "name": "stdout",
     "output_type": "stream",
     "text": [
      "Epoch 1/20\n",
      "30/30 [==============================] - 2s 64ms/step - loss: 0.5418 - accuracy: 0.7658 - val_loss: 0.4645 - val_accuracy: 0.7699\n",
      "Epoch 2/20\n",
      "30/30 [==============================] - 1s 37ms/step - loss: 0.2472 - accuracy: 0.9045 - val_loss: 0.2791 - val_accuracy: 0.8873\n",
      "Epoch 3/20\n",
      "30/30 [==============================] - 1s 37ms/step - loss: 0.1583 - accuracy: 0.9383 - val_loss: 0.2701 - val_accuracy: 0.8917\n",
      "Epoch 4/20\n",
      "30/30 [==============================] - 1s 36ms/step - loss: 0.0661 - accuracy: 0.9770 - val_loss: 0.3530 - val_accuracy: 0.8896\n",
      "Epoch 5/20\n",
      "30/30 [==============================] - 1s 37ms/step - loss: 0.0869 - accuracy: 0.9767 - val_loss: 0.4237 - val_accuracy: 0.8864\n",
      "Epoch 6/20\n",
      "30/30 [==============================] - 1s 38ms/step - loss: 0.0035 - accuracy: 0.9995 - val_loss: 0.5392 - val_accuracy: 0.8871\n",
      "Epoch 7/20\n",
      "30/30 [==============================] - 1s 37ms/step - loss: 5.1376e-04 - accuracy: 0.9999 - val_loss: 0.6542 - val_accuracy: 0.8880\n",
      "Epoch 8/20\n",
      "30/30 [==============================] - 1s 37ms/step - loss: 7.2012e-05 - accuracy: 1.0000 - val_loss: 0.7773 - val_accuracy: 0.8858\n",
      "Epoch 9/20\n",
      "30/30 [==============================] - 1s 37ms/step - loss: 1.2041e-05 - accuracy: 1.0000 - val_loss: 0.8820 - val_accuracy: 0.8851\n",
      "Epoch 10/20\n",
      "30/30 [==============================] - 1s 37ms/step - loss: 2.7418e-06 - accuracy: 1.0000 - val_loss: 0.9573 - val_accuracy: 0.8850\n",
      "Epoch 11/20\n",
      "30/30 [==============================] - 1s 38ms/step - loss: 7.3552e-07 - accuracy: 1.0000 - val_loss: 1.0715 - val_accuracy: 0.8846\n",
      "Epoch 12/20\n",
      "30/30 [==============================] - 1s 38ms/step - loss: 2.1214e-07 - accuracy: 1.0000 - val_loss: 1.1390 - val_accuracy: 0.8850\n",
      "Epoch 13/20\n",
      "30/30 [==============================] - 1s 38ms/step - loss: 8.1933e-08 - accuracy: 1.0000 - val_loss: 1.2019 - val_accuracy: 0.8849\n",
      "Epoch 14/20\n",
      "30/30 [==============================] - 1s 38ms/step - loss: 4.0190e-08 - accuracy: 1.0000 - val_loss: 1.2415 - val_accuracy: 0.8849\n",
      "Epoch 15/20\n",
      "30/30 [==============================] - 1s 36ms/step - loss: 2.4537e-08 - accuracy: 1.0000 - val_loss: 1.2749 - val_accuracy: 0.8846\n",
      "Epoch 16/20\n",
      "30/30 [==============================] - 1s 38ms/step - loss: 1.7350e-08 - accuracy: 1.0000 - val_loss: 1.2899 - val_accuracy: 0.8845\n",
      "Epoch 17/20\n",
      "30/30 [==============================] - 1s 38ms/step - loss: 1.3465e-08 - accuracy: 1.0000 - val_loss: 1.3063 - val_accuracy: 0.8845\n",
      "Epoch 18/20\n",
      "30/30 [==============================] - 1s 38ms/step - loss: 1.1001e-08 - accuracy: 1.0000 - val_loss: 1.3177 - val_accuracy: 0.8844\n",
      "Epoch 19/20\n",
      "30/30 [==============================] - 1s 38ms/step - loss: 9.2936e-09 - accuracy: 1.0000 - val_loss: 1.3268 - val_accuracy: 0.8844\n",
      "Epoch 20/20\n",
      "30/30 [==============================] - 1s 39ms/step - loss: 8.0725e-09 - accuracy: 1.0000 - val_loss: 1.3369 - val_accuracy: 0.8842\n"
     ]
    }
   ],
   "source": [
    "model = keras.Sequential([\n",
    "    layers.Dense(512, activation=\"relu\"),\n",
    "    layers.Dense(512, activation=\"relu\"),\n",
    "    layers.Dense(1, activation=\"sigmoid\")\n",
    "])\n",
    "model.compile(optimizer=\"rmsprop\",\n",
    "              loss=\"binary_crossentropy\",\n",
    "              metrics=[\"accuracy\"])\n",
    "history_larger_model = model.fit(\n",
    "    train_data, train_labels,\n",
    "    epochs=20, batch_size=512, validation_split=0.4)"
   ]
  },
  {
   "cell_type": "markdown",
   "metadata": {
    "colab_type": "text"
   },
   "source": [
    "#### Adding weight regularization"
   ]
  },
  {
   "cell_type": "markdown",
   "metadata": {
    "colab_type": "text"
   },
   "source": [
    "**Adding L2 weight regularization to the model**"
   ]
  },
  {
   "cell_type": "code",
   "execution_count": 21,
   "metadata": {
    "colab_type": "code"
   },
   "outputs": [
    {
     "name": "stdout",
     "output_type": "stream",
     "text": [
      "Epoch 1/20\n",
      "30/30 [==============================] - 1s 24ms/step - loss: 0.5843 - accuracy: 0.7899 - val_loss: 0.4592 - val_accuracy: 0.8695\n",
      "Epoch 2/20\n",
      "30/30 [==============================] - 0s 8ms/step - loss: 0.3966 - accuracy: 0.8921 - val_loss: 0.4110 - val_accuracy: 0.8676\n",
      "Epoch 3/20\n",
      "30/30 [==============================] - 0s 5ms/step - loss: 0.3327 - accuracy: 0.9126 - val_loss: 0.3716 - val_accuracy: 0.8799\n",
      "Epoch 4/20\n",
      "30/30 [==============================] - 0s 5ms/step - loss: 0.2990 - accuracy: 0.9234 - val_loss: 0.3874 - val_accuracy: 0.8718\n",
      "Epoch 5/20\n",
      "30/30 [==============================] - 0s 6ms/step - loss: 0.2785 - accuracy: 0.9309 - val_loss: 0.3559 - val_accuracy: 0.8873\n",
      "Epoch 6/20\n",
      "30/30 [==============================] - 0s 5ms/step - loss: 0.2662 - accuracy: 0.9342 - val_loss: 0.3608 - val_accuracy: 0.8846\n",
      "Epoch 7/20\n",
      "30/30 [==============================] - 0s 5ms/step - loss: 0.2545 - accuracy: 0.9401 - val_loss: 0.3630 - val_accuracy: 0.8839\n",
      "Epoch 8/20\n",
      "30/30 [==============================] - 0s 5ms/step - loss: 0.2427 - accuracy: 0.9455 - val_loss: 0.3736 - val_accuracy: 0.8809\n",
      "Epoch 9/20\n",
      "30/30 [==============================] - 0s 6ms/step - loss: 0.2399 - accuracy: 0.9453 - val_loss: 0.3700 - val_accuracy: 0.8815\n",
      "Epoch 10/20\n",
      "30/30 [==============================] - 0s 5ms/step - loss: 0.2297 - accuracy: 0.9486 - val_loss: 0.3841 - val_accuracy: 0.8780\n",
      "Epoch 11/20\n",
      "30/30 [==============================] - 0s 5ms/step - loss: 0.2289 - accuracy: 0.9484 - val_loss: 0.4181 - val_accuracy: 0.8684\n",
      "Epoch 12/20\n",
      "30/30 [==============================] - 0s 6ms/step - loss: 0.2242 - accuracy: 0.9501 - val_loss: 0.3837 - val_accuracy: 0.8761\n",
      "Epoch 13/20\n",
      "30/30 [==============================] - 0s 6ms/step - loss: 0.2193 - accuracy: 0.9519 - val_loss: 0.3940 - val_accuracy: 0.8758\n",
      "Epoch 14/20\n",
      "30/30 [==============================] - 0s 5ms/step - loss: 0.2171 - accuracy: 0.9538 - val_loss: 0.4278 - val_accuracy: 0.8671\n",
      "Epoch 15/20\n",
      "30/30 [==============================] - 0s 5ms/step - loss: 0.2157 - accuracy: 0.9516 - val_loss: 0.3988 - val_accuracy: 0.8782\n",
      "Epoch 16/20\n",
      "30/30 [==============================] - 0s 5ms/step - loss: 0.2135 - accuracy: 0.9531 - val_loss: 0.4065 - val_accuracy: 0.8757\n",
      "Epoch 17/20\n",
      "30/30 [==============================] - 0s 5ms/step - loss: 0.2064 - accuracy: 0.9571 - val_loss: 0.4357 - val_accuracy: 0.8664\n",
      "Epoch 18/20\n",
      "30/30 [==============================] - 0s 5ms/step - loss: 0.1994 - accuracy: 0.9613 - val_loss: 0.4250 - val_accuracy: 0.8734\n",
      "Epoch 19/20\n",
      "30/30 [==============================] - 0s 5ms/step - loss: 0.2065 - accuracy: 0.9533 - val_loss: 0.4197 - val_accuracy: 0.8722\n",
      "Epoch 20/20\n",
      "30/30 [==============================] - 0s 5ms/step - loss: 0.1965 - accuracy: 0.9607 - val_loss: 0.4269 - val_accuracy: 0.8714\n"
     ]
    }
   ],
   "source": [
    "from tensorflow.keras import regularizers\n",
    "model = keras.Sequential([\n",
    "    layers.Dense(16,\n",
    "                 kernel_regularizer=regularizers.l2(0.002),\n",
    "                 activation=\"relu\"),\n",
    "    layers.Dense(16,\n",
    "                 kernel_regularizer=regularizers.l2(0.002),\n",
    "                 activation=\"relu\"),\n",
    "    layers.Dense(1, activation=\"sigmoid\")\n",
    "])\n",
    "model.compile(optimizer=\"rmsprop\",\n",
    "              loss=\"binary_crossentropy\",\n",
    "              metrics=[\"accuracy\"])\n",
    "history_l2_reg = model.fit(\n",
    "    train_data, train_labels,\n",
    "    epochs=20, batch_size=512, validation_split=0.4)"
   ]
  },
  {
   "cell_type": "markdown",
   "metadata": {
    "colab_type": "text"
   },
   "source": [
    "**Different weight regularizers available in Keras**"
   ]
  },
  {
   "cell_type": "code",
   "execution_count": 22,
   "metadata": {
    "colab_type": "code"
   },
   "outputs": [
    {
     "data": {
      "text/plain": [
       "<keras.src.regularizers.L1L2 at 0x3503ac6d0>"
      ]
     },
     "execution_count": 22,
     "metadata": {},
     "output_type": "execute_result"
    }
   ],
   "source": [
    "from tensorflow.keras import regularizers\n",
    "regularizers.l1(0.001)\n",
    "regularizers.l1_l2(l1=0.001, l2=0.001)"
   ]
  },
  {
   "cell_type": "markdown",
   "metadata": {
    "colab_type": "text"
   },
   "source": [
    "#### Adding dropout"
   ]
  },
  {
   "cell_type": "markdown",
   "metadata": {
    "colab_type": "text"
   },
   "source": [
    "**Adding dropout to the IMDB model**"
   ]
  },
  {
   "cell_type": "code",
   "execution_count": 23,
   "metadata": {
    "colab_type": "code"
   },
   "outputs": [
    {
     "name": "stdout",
     "output_type": "stream",
     "text": [
      "Epoch 1/20\n",
      "30/30 [==============================] - 1s 12ms/step - loss: 0.6433 - accuracy: 0.6158 - val_loss: 0.5593 - val_accuracy: 0.7814\n",
      "Epoch 2/20\n",
      "30/30 [==============================] - 0s 5ms/step - loss: 0.5440 - accuracy: 0.7501 - val_loss: 0.4716 - val_accuracy: 0.8382\n",
      "Epoch 3/20\n",
      "30/30 [==============================] - 0s 5ms/step - loss: 0.4700 - accuracy: 0.8201 - val_loss: 0.3991 - val_accuracy: 0.8800\n",
      "Epoch 4/20\n",
      "30/30 [==============================] - 0s 5ms/step - loss: 0.4063 - accuracy: 0.8645 - val_loss: 0.3493 - val_accuracy: 0.8840\n",
      "Epoch 5/20\n",
      "30/30 [==============================] - 0s 5ms/step - loss: 0.3557 - accuracy: 0.8867 - val_loss: 0.3213 - val_accuracy: 0.8870\n",
      "Epoch 6/20\n",
      "30/30 [==============================] - 0s 5ms/step - loss: 0.3140 - accuracy: 0.9048 - val_loss: 0.3013 - val_accuracy: 0.8859\n",
      "Epoch 7/20\n",
      "30/30 [==============================] - 0s 5ms/step - loss: 0.2730 - accuracy: 0.9161 - val_loss: 0.2968 - val_accuracy: 0.8822\n",
      "Epoch 8/20\n",
      "30/30 [==============================] - 0s 5ms/step - loss: 0.2388 - accuracy: 0.9296 - val_loss: 0.2959 - val_accuracy: 0.8881\n",
      "Epoch 9/20\n",
      "30/30 [==============================] - 0s 5ms/step - loss: 0.2145 - accuracy: 0.9350 - val_loss: 0.3034 - val_accuracy: 0.8880\n",
      "Epoch 10/20\n",
      "30/30 [==============================] - 0s 5ms/step - loss: 0.1930 - accuracy: 0.9414 - val_loss: 0.3447 - val_accuracy: 0.8850\n",
      "Epoch 11/20\n",
      "30/30 [==============================] - 0s 5ms/step - loss: 0.1696 - accuracy: 0.9495 - val_loss: 0.3462 - val_accuracy: 0.8869\n",
      "Epoch 12/20\n",
      "30/30 [==============================] - 0s 5ms/step - loss: 0.1526 - accuracy: 0.9552 - val_loss: 0.4368 - val_accuracy: 0.8805\n",
      "Epoch 13/20\n",
      "30/30 [==============================] - 0s 6ms/step - loss: 0.1370 - accuracy: 0.9578 - val_loss: 0.3989 - val_accuracy: 0.8848\n",
      "Epoch 14/20\n",
      "30/30 [==============================] - 0s 5ms/step - loss: 0.1257 - accuracy: 0.9615 - val_loss: 0.4416 - val_accuracy: 0.8841\n",
      "Epoch 15/20\n",
      "30/30 [==============================] - 0s 5ms/step - loss: 0.1137 - accuracy: 0.9657 - val_loss: 0.4851 - val_accuracy: 0.8838\n",
      "Epoch 16/20\n",
      "30/30 [==============================] - 0s 5ms/step - loss: 0.1062 - accuracy: 0.9680 - val_loss: 0.4640 - val_accuracy: 0.8835\n",
      "Epoch 17/20\n",
      "30/30 [==============================] - 0s 5ms/step - loss: 0.0962 - accuracy: 0.9705 - val_loss: 0.4922 - val_accuracy: 0.8819\n",
      "Epoch 18/20\n",
      "30/30 [==============================] - 0s 5ms/step - loss: 0.0980 - accuracy: 0.9717 - val_loss: 0.5275 - val_accuracy: 0.8828\n",
      "Epoch 19/20\n",
      "30/30 [==============================] - 0s 5ms/step - loss: 0.0871 - accuracy: 0.9731 - val_loss: 0.5602 - val_accuracy: 0.8833\n",
      "Epoch 20/20\n",
      "30/30 [==============================] - 0s 5ms/step - loss: 0.0829 - accuracy: 0.9749 - val_loss: 0.6015 - val_accuracy: 0.8800\n"
     ]
    }
   ],
   "source": [
    "model = keras.Sequential([\n",
    "    layers.Dense(16, activation=\"relu\"),\n",
    "    layers.Dropout(0.5),\n",
    "    layers.Dense(16, activation=\"relu\"),\n",
    "    layers.Dropout(0.5),\n",
    "    layers.Dense(1, activation=\"sigmoid\")\n",
    "])\n",
    "model.compile(optimizer=\"rmsprop\",\n",
    "              loss=\"binary_crossentropy\",\n",
    "              metrics=[\"accuracy\"])\n",
    "history_dropout = model.fit(\n",
    "    train_data, train_labels,\n",
    "    epochs=20, batch_size=512, validation_split=0.4)"
   ]
  },
  {
   "cell_type": "markdown",
   "metadata": {
    "colab_type": "text"
   },
   "source": [
    "## Summary"
   ]
  }
 ],
 "metadata": {
  "colab": {
   "collapsed_sections": [],
   "name": "chapter05_fundamentals-of-ml.i",
   "private_outputs": false,
   "provenance": [],
   "toc_visible": true
  },
  "kernelspec": {
   "display_name": "Python 3",
   "language": "python",
   "name": "python3"
  },
  "language_info": {
   "codemirror_mode": {
    "name": "ipython",
    "version": 3
   },
   "file_extension": ".py",
   "mimetype": "text/x-python",
   "name": "python",
   "nbconvert_exporter": "python",
   "pygments_lexer": "ipython3",
   "version": "3.11.5"
  }
 },
 "nbformat": 4,
 "nbformat_minor": 0
}
