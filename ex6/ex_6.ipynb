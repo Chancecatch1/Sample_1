{
 "cells": [
  {
   "cell_type": "markdown",
   "id": "a5ec69fe",
   "metadata": {},
   "source": [
    "> 1) Import Libraries"
   ]
  },
  {
   "cell_type": "code",
   "execution_count": null,
   "id": "672ee30d",
   "metadata": {},
   "outputs": [],
   "source": [
    "import nltk\n",
    "nltk.download('stopwords')\n",
    "from importlib.metadata import version\n",
    "import tensorflow\n",
    "import summa\n",
    "import pandas as pd\n",
    "import numpy as np\n",
    "import os\n",
    "import re\n",
    "import matplotlib.pyplot as plt\n",
    "from nltk.corpus import stopwords\n",
    "from bs4 import BeautifulSoup \n",
    "from tensorflow.keras.preprocessing.text import Tokenizer \n",
    "from tensorflow.keras.preprocessing.sequence import pad_sequences\n",
    "import urllib.request\n",
    "import warnings\n",
    "warnings.filterwarnings(\"ignore\", category=UserWarning, module='bs4')"
   ]
  },
  {
   "cell_type": "markdown",
   "id": "b1aba11f",
   "metadata": {},
   "source": [
    "> 2) Load Data "
   ]
  },
  {
   "cell_type": "code",
   "execution_count": 2,
   "id": "37242b69",
   "metadata": {},
   "outputs": [],
   "source": [
    "import urllib.request\n",
    "urllib.request.urlretrieve(\"https://raw.githubusercontent.com/sunnysai12345/News_Summary/master/news_summary_more.csv\", filename=\"news_summary_more.csv\")\n",
    "data = pd.read_csv('news_summary_more.csv', encoding='iso-8859-1')"
   ]
  },
  {
   "cell_type": "code",
   "execution_count": 3,
   "id": "8963a8e0",
   "metadata": {
    "scrolled": true
   },
   "outputs": [
    {
     "data": {
      "text/html": [
       "<div>\n",
       "<style scoped>\n",
       "    .dataframe tbody tr th:only-of-type {\n",
       "        vertical-align: middle;\n",
       "    }\n",
       "\n",
       "    .dataframe tbody tr th {\n",
       "        vertical-align: top;\n",
       "    }\n",
       "\n",
       "    .dataframe thead th {\n",
       "        text-align: right;\n",
       "    }\n",
       "</style>\n",
       "<table border=\"1\" class=\"dataframe\">\n",
       "  <thead>\n",
       "    <tr style=\"text-align: right;\">\n",
       "      <th></th>\n",
       "      <th>headlines</th>\n",
       "      <th>text</th>\n",
       "    </tr>\n",
       "  </thead>\n",
       "  <tbody>\n",
       "    <tr>\n",
       "      <th>34474</th>\n",
       "      <td>Shahid gets Dadasaheb Phalke Excellence Award ...</td>\n",
       "      <td>Shahid Kapoor on Saturday was honoured with th...</td>\n",
       "    </tr>\n",
       "    <tr>\n",
       "      <th>8570</th>\n",
       "      <td>Got married when I did ecstasy 1st time, made ...</td>\n",
       "      <td>American reality television personality Kim Ka...</td>\n",
       "    </tr>\n",
       "    <tr>\n",
       "      <th>35737</th>\n",
       "      <td>Sara will match Ranveer's craziness in 'Simmba...</td>\n",
       "      <td>Rohit Shetty, while talking about his upcoming...</td>\n",
       "    </tr>\n",
       "    <tr>\n",
       "      <th>14931</th>\n",
       "      <td>OnePlus CEO Pete Lau details \"Screen Unlock\" f...</td>\n",
       "      <td>OnePlus CEO Pete Lau has come out with a detai...</td>\n",
       "    </tr>\n",
       "    <tr>\n",
       "      <th>30433</th>\n",
       "      <td>Hit people for real during Race 3 action seque...</td>\n",
       "      <td>Talking about action scenes in 'Race 3', Daisy...</td>\n",
       "    </tr>\n",
       "    <tr>\n",
       "      <th>47053</th>\n",
       "      <td>Google finds another security flaw in Microsof...</td>\n",
       "      <td>Technology giant Google has discovered another...</td>\n",
       "    </tr>\n",
       "    <tr>\n",
       "      <th>60393</th>\n",
       "      <td>Sharad Yadav's JD(U) faction to use 'autoricks...</td>\n",
       "      <td>Rajya Sabha MP Sharad Yadav on Saturday said t...</td>\n",
       "    </tr>\n",
       "    <tr>\n",
       "      <th>91000</th>\n",
       "      <td>EC seeks 5-year ban on candidates charged for ...</td>\n",
       "      <td>The Election Commission will write to the gove...</td>\n",
       "    </tr>\n",
       "    <tr>\n",
       "      <th>75578</th>\n",
       "      <td>Hong Kong to replace BBC with Chinese radio af...</td>\n",
       "      <td>Hong Kong's public broadcasting service has sa...</td>\n",
       "    </tr>\n",
       "    <tr>\n",
       "      <th>22906</th>\n",
       "      <td>Sindhu wins silver at World C'ships for 2nd st...</td>\n",
       "      <td>World number three PV Sindhu on Sunday won the...</td>\n",
       "    </tr>\n",
       "  </tbody>\n",
       "</table>\n",
       "</div>"
      ],
      "text/plain": [
       "                                               headlines  \\\n",
       "34474  Shahid gets Dadasaheb Phalke Excellence Award ...   \n",
       "8570   Got married when I did ecstasy 1st time, made ...   \n",
       "35737  Sara will match Ranveer's craziness in 'Simmba...   \n",
       "14931  OnePlus CEO Pete Lau details \"Screen Unlock\" f...   \n",
       "30433  Hit people for real during Race 3 action seque...   \n",
       "47053  Google finds another security flaw in Microsof...   \n",
       "60393  Sharad Yadav's JD(U) faction to use 'autoricks...   \n",
       "91000  EC seeks 5-year ban on candidates charged for ...   \n",
       "75578  Hong Kong to replace BBC with Chinese radio af...   \n",
       "22906  Sindhu wins silver at World C'ships for 2nd st...   \n",
       "\n",
       "                                                    text  \n",
       "34474  Shahid Kapoor on Saturday was honoured with th...  \n",
       "8570   American reality television personality Kim Ka...  \n",
       "35737  Rohit Shetty, while talking about his upcoming...  \n",
       "14931  OnePlus CEO Pete Lau has come out with a detai...  \n",
       "30433  Talking about action scenes in 'Race 3', Daisy...  \n",
       "47053  Technology giant Google has discovered another...  \n",
       "60393  Rajya Sabha MP Sharad Yadav on Saturday said t...  \n",
       "91000  The Election Commission will write to the gove...  \n",
       "75578  Hong Kong's public broadcasting service has sa...  \n",
       "22906  World number three PV Sindhu on Sunday won the...  "
      ]
     },
     "execution_count": 3,
     "metadata": {},
     "output_type": "execute_result"
    }
   ],
   "source": [
    "data.sample(10)"
   ]
  },
  {
   "cell_type": "markdown",
   "id": "275a6f86",
   "metadata": {},
   "source": [
    "> 3) Data Preprocessing (abstractive summarization)"
   ]
  },
  {
   "cell_type": "code",
   "execution_count": 4,
   "id": "b7d10999",
   "metadata": {},
   "outputs": [
    {
     "name": "stdout",
     "output_type": "stream",
     "text": [
      "headline 열에서 중복을 배제한 유일한 샘플의 수 : 98280\n",
      "text 열에서 중복을 배제한 유일한 샘플의 수 : 98360\n",
      "98401\n"
     ]
    }
   ],
   "source": [
    "print('headline 열에서 중복을 배제한 유일한 샘플의 수 :', data['headlines'].nunique())\n",
    "print('text 열에서 중복을 배제한 유일한 샘플의 수 :', data['text'].nunique())\n",
    "print(len(data))"
   ]
  },
  {
   "cell_type": "code",
   "execution_count": 5,
   "id": "e0863101",
   "metadata": {},
   "outputs": [
    {
     "name": "stdout",
     "output_type": "stream",
     "text": [
      "전체 샘플수 : 98262\n"
     ]
    }
   ],
   "source": [
    "# inplace=True 를 설정하면 DataFrame 타입 값을 return 하지 않고 data 내부를 직접적으로 바꿉니다\n",
    "# Apply both 'headlines' and 'text' \n",
    "data.drop_duplicates(subset = ['headlines'], inplace=True)\n",
    "data.drop_duplicates(subset = ['text'], inplace=True)\n",
    "print('전체 샘플수 :', (len(data)))"
   ]
  },
  {
   "cell_type": "code",
   "execution_count": 6,
   "id": "82b718a8",
   "metadata": {},
   "outputs": [
    {
     "name": "stdout",
     "output_type": "stream",
     "text": [
      "headlines    0\n",
      "text         0\n",
      "dtype: int64\n"
     ]
    }
   ],
   "source": [
    "print(data.isnull().sum())"
   ]
  },
  {
   "cell_type": "code",
   "execution_count": 7,
   "id": "48b3f8be",
   "metadata": {},
   "outputs": [
    {
     "name": "stdout",
     "output_type": "stream",
     "text": [
      "정규화 사전의 수:  120\n"
     ]
    }
   ],
   "source": [
    "contractions = {\"ain't\": \"is not\", \"aren't\": \"are not\",\"can't\": \"cannot\", \"'cause\": \"because\", \"could've\": \"could have\", \"couldn't\": \"could not\",\n",
    "                           \"didn't\": \"did not\",  \"doesn't\": \"does not\", \"don't\": \"do not\", \"hadn't\": \"had not\", \"hasn't\": \"has not\", \"haven't\": \"have not\",\n",
    "                           \"he'd\": \"he would\",\"he'll\": \"he will\", \"he's\": \"he is\", \"how'd\": \"how did\", \"how'd'y\": \"how do you\", \"how'll\": \"how will\", \"how's\": \"how is\",\n",
    "                           \"I'd\": \"I would\", \"I'd've\": \"I would have\", \"I'll\": \"I will\", \"I'll've\": \"I will have\",\"I'm\": \"I am\", \"I've\": \"I have\", \"i'd\": \"i would\",\n",
    "                           \"i'd've\": \"i would have\", \"i'll\": \"i will\",  \"i'll've\": \"i will have\",\"i'm\": \"i am\", \"i've\": \"i have\", \"isn't\": \"is not\", \"it'd\": \"it would\",\n",
    "                           \"it'd've\": \"it would have\", \"it'll\": \"it will\", \"it'll've\": \"it will have\",\"it's\": \"it is\", \"let's\": \"let us\", \"ma'am\": \"madam\",\n",
    "                           \"mayn't\": \"may not\", \"might've\": \"might have\",\"mightn't\": \"might not\",\"mightn't've\": \"might not have\", \"must've\": \"must have\",\n",
    "                           \"mustn't\": \"must not\", \"mustn't've\": \"must not have\", \"needn't\": \"need not\", \"needn't've\": \"need not have\",\"o'clock\": \"of the clock\",\n",
    "                           \"oughtn't\": \"ought not\", \"oughtn't've\": \"ought not have\", \"shan't\": \"shall not\", \"sha'n't\": \"shall not\", \"shan't've\": \"shall not have\",\n",
    "                           \"she'd\": \"she would\", \"she'd've\": \"she would have\", \"she'll\": \"she will\", \"she'll've\": \"she will have\", \"she's\": \"she is\",\n",
    "                           \"should've\": \"should have\", \"shouldn't\": \"should not\", \"shouldn't've\": \"should not have\", \"so've\": \"so have\",\"so's\": \"so as\",\n",
    "                           \"this's\": \"this is\",\"that'd\": \"that would\", \"that'd've\": \"that would have\", \"that's\": \"that is\", \"there'd\": \"there would\",\n",
    "                           \"there'd've\": \"there would have\", \"there's\": \"there is\", \"here's\": \"here is\",\"they'd\": \"they would\", \"they'd've\": \"they would have\",\n",
    "                           \"they'll\": \"they will\", \"they'll've\": \"they will have\", \"they're\": \"they are\", \"they've\": \"they have\", \"to've\": \"to have\",\n",
    "                           \"wasn't\": \"was not\", \"we'd\": \"we would\", \"we'd've\": \"we would have\", \"we'll\": \"we will\", \"we'll've\": \"we will have\", \"we're\": \"we are\",\n",
    "                           \"we've\": \"we have\", \"weren't\": \"were not\", \"what'll\": \"what will\", \"what'll've\": \"what will have\", \"what're\": \"what are\",\n",
    "                           \"what's\": \"what is\", \"what've\": \"what have\", \"when's\": \"when is\", \"when've\": \"when have\", \"where'd\": \"where did\", \"where's\": \"where is\",\n",
    "                           \"where've\": \"where have\", \"who'll\": \"who will\", \"who'll've\": \"who will have\", \"who's\": \"who is\", \"who've\": \"who have\",\n",
    "                           \"why's\": \"why is\", \"why've\": \"why have\", \"will've\": \"will have\", \"won't\": \"will not\", \"won't've\": \"will not have\",\n",
    "                           \"would've\": \"would have\", \"wouldn't\": \"would not\", \"wouldn't've\": \"would not have\", \"y'all\": \"you all\",\n",
    "                           \"y'all'd\": \"you all would\",\"y'all'd've\": \"you all would have\",\"y'all're\": \"you all are\",\"y'all've\": \"you all have\",\n",
    "                           \"you'd\": \"you would\", \"you'd've\": \"you would have\", \"you'll\": \"you will\", \"you'll've\": \"you will have\",\n",
    "                           \"you're\": \"you are\", \"you've\": \"you have\"}\n",
    "\n",
    "print(\"정규화 사전의 수: \", len(contractions))"
   ]
  },
  {
   "cell_type": "code",
   "execution_count": 8,
   "id": "4392086a",
   "metadata": {},
   "outputs": [
    {
     "name": "stdout",
     "output_type": "stream",
     "text": [
      "불용어 개수 : 179\n",
      "['i', 'me', 'my', 'myself', 'we', 'our', 'ours', 'ourselves', 'you', \"you're\", \"you've\", \"you'll\", \"you'd\", 'your', 'yours', 'yourself', 'yourselves', 'he', 'him', 'his', 'himself', 'she', \"she's\", 'her', 'hers', 'herself', 'it', \"it's\", 'its', 'itself', 'they', 'them', 'their', 'theirs', 'themselves', 'what', 'which', 'who', 'whom', 'this', 'that', \"that'll\", 'these', 'those', 'am', 'is', 'are', 'was', 'were', 'be', 'been', 'being', 'have', 'has', 'had', 'having', 'do', 'does', 'did', 'doing', 'a', 'an', 'the', 'and', 'but', 'if', 'or', 'because', 'as', 'until', 'while', 'of', 'at', 'by', 'for', 'with', 'about', 'against', 'between', 'into', 'through', 'during', 'before', 'after', 'above', 'below', 'to', 'from', 'up', 'down', 'in', 'out', 'on', 'off', 'over', 'under', 'again', 'further', 'then', 'once', 'here', 'there', 'when', 'where', 'why', 'how', 'all', 'any', 'both', 'each', 'few', 'more', 'most', 'other', 'some', 'such', 'no', 'nor', 'not', 'only', 'own', 'same', 'so', 'than', 'too', 'very', 's', 't', 'can', 'will', 'just', 'don', \"don't\", 'should', \"should've\", 'now', 'd', 'll', 'm', 'o', 're', 've', 'y', 'ain', 'aren', \"aren't\", 'couldn', \"couldn't\", 'didn', \"didn't\", 'doesn', \"doesn't\", 'hadn', \"hadn't\", 'hasn', \"hasn't\", 'haven', \"haven't\", 'isn', \"isn't\", 'ma', 'mightn', \"mightn't\", 'mustn', \"mustn't\", 'needn', \"needn't\", 'shan', \"shan't\", 'shouldn', \"shouldn't\", 'wasn', \"wasn't\", 'weren', \"weren't\", 'won', \"won't\", 'wouldn', \"wouldn't\"]\n"
     ]
    }
   ],
   "source": [
    "print('불용어 개수 :', len(stopwords.words('english') ))\n",
    "print(stopwords.words('english'))"
   ]
  },
  {
   "cell_type": "code",
   "execution_count": 9,
   "id": "12c1425d",
   "metadata": {},
   "outputs": [],
   "source": [
    "# 데이터 전처리 함수\n",
    "def preprocess_sentence(sentence, remove_stopwords=True):\n",
    "    sentence = sentence.lower() # 텍스트 소문자화\n",
    "    sentence = BeautifulSoup(sentence, \"lxml\").text # <br />, <a href = ...> 등의 html 태그 제거\n",
    "    sentence = re.sub(r'\\([^)]*\\)', '', sentence) # 괄호로 닫힌 문자열 (...) 제거 Ex) my husband (and myself!) for => my husband for\n",
    "    sentence = re.sub('\"','', sentence) # 쌍따옴표 \" 제거\n",
    "    sentence = ' '.join([contractions[t] if t in contractions else t for t in sentence.split(\" \")]) # 약어 정규화\n",
    "    sentence = re.sub(r\"'s\\b\",\"\", sentence) # 소유격 제거. Ex) roland's -> roland\n",
    "    sentence = re.sub(\"[^a-zA-Z]\", \" \", sentence) # 영어 외 문자(숫자, 특수문자 등) 공백으로 변환\n",
    "    sentence = re.sub('[m]{2,}', 'mm', sentence) # m이 3개 이상이면 2개로 변경. Ex) ummmmmmm yeah -> umm yeah\n",
    "    \n",
    "    # 불용어 제거\n",
    "    if remove_stopwords:\n",
    "        tokens = ' '.join(word for word in sentence.split() if not word in stopwords.words('english') if len(word) > 1)\n",
    "    # 불용어 미제거\n",
    "    else:\n",
    "        tokens = ' '.join(word for word in sentence.split() if len(word) > 1)\n",
    "    return tokens"
   ]
  },
  {
   "cell_type": "code",
   "execution_count": 10,
   "id": "8fa7a1e4",
   "metadata": {},
   "outputs": [
    {
     "name": "stdout",
     "output_type": "stream",
     "text": [
      "Applied:  everything bought great infact ordered twice third ordered wasfor mother father\n",
      "Unapplied: great way to start the day\n"
     ]
    }
   ],
   "source": [
    "# Test preprocessing function\n",
    "temp_text = 'Everything I bought was great, infact I ordered twice and the third ordered was<br />for my mother and father.'\n",
    "temp_summary = 'Great way to start (or finish) the day!!!'\n",
    "\n",
    "print(\"Applied: \", preprocess_sentence(temp_text))\n",
    "print(\"Unapplied:\", preprocess_sentence(temp_summary, False))  # 불용어를 제거하지 않습니다."
   ]
  },
  {
   "cell_type": "code",
   "execution_count": 11,
   "id": "a51f93da",
   "metadata": {},
   "outputs": [
    {
     "name": "stdout",
     "output_type": "stream",
     "text": [
      "upGrad learner switches to career in ML & Al with 90% salary hike\n",
      "\n",
      "\n",
      "Saurav Kant, an alumnus of upGrad and IIIT-B's PG Program in Machine learning and Artificial Intelligence, was a Sr Systems Engineer at Infosys with almost 5 years of work experience. The program and upGrad's 360-degree career support helped him transition to a Data Scientist at Tech Mahindra with 90% salary hike. upGrad's Online Power Learning has powered 3 lakh+ careers.\n"
     ]
    }
   ],
   "source": [
    "print(data['headlines'].iloc[0])\n",
    "print('\\n')\n",
    "print(data['text'].iloc[0])"
   ]
  },
  {
   "cell_type": "code",
   "execution_count": 12,
   "id": "1ec191ec",
   "metadata": {},
   "outputs": [
    {
     "name": "stdout",
     "output_type": "stream",
     "text": [
      "headlines 전처리 후 결과:  ['upgrad learner switches career ml al salary hike', 'delhi techie wins free food swiggy one year cred', 'new zealand end rohit sharma led india match winning streak', 'aegon life iterm insurance plan helps customers save tax', 'known hirani yrs metoo claims true sonam']\n"
     ]
    }
   ],
   "source": [
    "# 전체 headlines 데이터에 대한 전처리\n",
    "clean_headlines = []\n",
    "\n",
    "for i in range(len(data)):\n",
    "    clean_headlines.append(preprocess_sentence(data['headlines'].iloc[i]))\n",
    "\n",
    "# 전처리 후 출력\n",
    "print(\"headlines 전처리 후 결과: \", clean_headlines[:5])"
   ]
  },
  {
   "cell_type": "code",
   "execution_count": 13,
   "id": "b6c4f196",
   "metadata": {},
   "outputs": [
    {
     "name": "stdout",
     "output_type": "stream",
     "text": [
      "Summary 전처리 후 결과:  ['saurav kant alumnus upgrad iiit pg program machine learning artificial intelligence sr systems engineer infosys almost years work experience program upgrad degree career support helped transition data scientist tech mahindra salary hike upgrad online power learning powered lakh careers', 'kunal shah credit card bill payment platform cred gave users chance win free food swiggy one year pranav kaushik delhi techie bagged reward spending cred coins users get one cred coin per rupee bill paid used avail rewards brands like ixigo bookmyshow ubereats cult fit', 'new zealand defeated india wickets fourth odi hamilton thursday win first match five match odi series india lost international match rohit sharma captaincy consecutive victories dating back march match witnessed india getting seventh lowest total odi cricket history', 'aegon life iterm insurance plan customers enjoy tax benefits premiums paid save taxes plan provides life cover age years also customers options insure critical illnesses disability accidental death benefit rider life cover age years', 'speaking sexual harassment allegations rajkumar hirani sonam kapoor said known hirani many years true metoo movement get derailed metoo movement always believe woman case need reserve judgment added hirani accused assistant worked sanju']\n"
     ]
    }
   ],
   "source": [
    "# 전체 text 데이터에 대한 전처리\n",
    "# Useless words deleted\n",
    "clean_text = []\n",
    "\n",
    "for i in range(len(data)):\n",
    "    clean_text.append(preprocess_sentence(data['text'].iloc[i]))\n",
    "\n",
    "print(\"Summary 전처리 후 결과: \", clean_text[:5])"
   ]
  },
  {
   "cell_type": "code",
   "execution_count": 14,
   "id": "f8848a58",
   "metadata": {},
   "outputs": [],
   "source": [
    "data['headlines'] = clean_headlines\n",
    "data['text'] = clean_text\n",
    "\n",
    "# 빈 값을 Null 값으로 변환\n",
    "data.replace('', np.nan, inplace=True)"
   ]
  },
  {
   "cell_type": "code",
   "execution_count": 15,
   "id": "e4324591",
   "metadata": {},
   "outputs": [
    {
     "data": {
      "text/plain": [
       "headlines    0\n",
       "text         0\n",
       "dtype: int64"
      ]
     },
     "execution_count": 15,
     "metadata": {},
     "output_type": "execute_result"
    }
   ],
   "source": [
    "data.isnull().sum()"
   ]
  },
  {
   "cell_type": "code",
   "execution_count": 16,
   "id": "33ae2a74",
   "metadata": {},
   "outputs": [
    {
     "name": "stdout",
     "output_type": "stream",
     "text": [
      "All samples : 98262\n"
     ]
    }
   ],
   "source": [
    "data.dropna(axis=0, inplace=True)\n",
    "print('All samples :', (len(data)))"
   ]
  },
  {
   "cell_type": "code",
   "execution_count": 17,
   "id": "b24c3f78",
   "metadata": {},
   "outputs": [
    {
     "name": "stdout",
     "output_type": "stream",
     "text": [
      "headlines의 최소 길이 : 1\n",
      "headlines의 최대 길이 : 13\n",
      "headlines의 평균 길이 : 7.136787364393153\n",
      "text의 최소 길이 : 1\n",
      "text의 최대 길이 : 60\n",
      "text의 평균 길이 : 35.10029309397326\n"
     ]
    },
    {
     "data": {
      "image/png": "[encoded data removed]",
      "text/plain": [
       "<Figure size 432x288 with 2 Axes>"
      ]
     },
     "metadata": {
      "needs_background": "light"
     },
     "output_type": "display_data"
    },
    {
     "data": {
      "image/png": "[encoded data removed]",
      "text/plain": [
       "<Figure size 432x288 with 1 Axes>"
      ]
     },
     "metadata": {
      "needs_background": "light"
     },
     "output_type": "display_data"
    },
    {
     "data": {
      "image/png": "[encoded data removed]",
      "text/plain": [
       "<Figure size 432x288 with 1 Axes>"
      ]
     },
     "metadata": {
      "needs_background": "light"
     },
     "output_type": "display_data"
    }
   ],
   "source": [
    "# 길이 분포 출력\n",
    "import matplotlib.pyplot as plt\n",
    "\n",
    "headlines_len = [len(s.split()) for s in data['headlines']]\n",
    "text_len = [len(s.split()) for s in data['text']]\n",
    "\n",
    "print('headlines의 최소 길이 : {}'.format(np.min(headlines_len)))\n",
    "print('headlines의 최대 길이 : {}'.format(np.max(headlines_len)))\n",
    "print('headlines의 평균 길이 : {}'.format(np.mean(headlines_len)))\n",
    "print('text의 최소 길이 : {}'.format(np.min(text_len)))\n",
    "print('text의 최대 길이 : {}'.format(np.max(text_len)))\n",
    "print('text의 평균 길이 : {}'.format(np.mean(text_len)))\n",
    "\n",
    "plt.subplot(1,2,1)\n",
    "plt.boxplot(headlines_len)\n",
    "plt.title('headlines')\n",
    "plt.subplot(1,2,2)\n",
    "plt.boxplot(text_len)\n",
    "plt.title('text')\n",
    "plt.tight_layout()\n",
    "plt.show()\n",
    "\n",
    "plt.title('headlines')\n",
    "plt.hist(headlines_len, bins = 40)\n",
    "plt.xlabel('length of samples')\n",
    "plt.ylabel('number of samples')\n",
    "plt.show()\n",
    "\n",
    "plt.title('text')\n",
    "plt.hist(text_len, bins = 40)\n",
    "plt.xlabel('length of samples')\n",
    "plt.ylabel('number of samples')\n",
    "plt.show()"
   ]
  },
  {
   "cell_type": "code",
   "execution_count": 18,
   "id": "e34f3827",
   "metadata": {},
   "outputs": [],
   "source": [
    "headlines_max_len = 8\n",
    "text_max_len = 40"
   ]
  },
  {
   "cell_type": "code",
   "execution_count": 19,
   "id": "719898c4",
   "metadata": {},
   "outputs": [],
   "source": [
    "def below_threshold_len(max_len, nested_list):\n",
    "  cnt = 0\n",
    "  for s in nested_list:\n",
    "    if(len(s.split()) <= max_len):\n",
    "        cnt = cnt + 1\n",
    "  print('전체 샘플 중 길이가 %s 이하인 샘플의 비율: %s'%(max_len, (cnt / len(nested_list))))"
   ]
  },
  {
   "cell_type": "code",
   "execution_count": 20,
   "id": "1f22326e",
   "metadata": {},
   "outputs": [
    {
     "name": "stdout",
     "output_type": "stream",
     "text": [
      "전체 샘플 중 길이가 8 이하인 샘플의 비율: 0.8925016791842217\n",
      "전체 샘플 중 길이가 40 이하인 샘플의 비율: 0.92383627444994\n"
     ]
    }
   ],
   "source": [
    "below_threshold_len(headlines_max_len, data['headlines'])\n",
    "below_threshold_len(text_max_len,  data['text'])"
   ]
  },
  {
   "cell_type": "code",
   "execution_count": 21,
   "id": "6ff78850",
   "metadata": {},
   "outputs": [
    {
     "name": "stdout",
     "output_type": "stream",
     "text": [
      "전체 샘플수 : 81823\n"
     ]
    }
   ],
   "source": [
    "# Use 'apply' and 'lambda' to filter out rows based on 'Text' length\n",
    "data = data[data['headlines'].apply(lambda x: len(x.split()) <= headlines_max_len)]\n",
    "\n",
    "# Use 'apply' and 'lambda' to filter out rows based on 'Summary' length\n",
    "data = data[data['text'].apply(lambda x: len(x.split()) <= text_max_len)]\n",
    "\n",
    "# Reset the index after removing rows\n",
    "data.reset_index(drop=True, inplace=True)\n",
    "\n",
    "print('전체 샘플수 :', len(data))"
   ]
  },
  {
   "cell_type": "code",
   "execution_count": 22,
   "id": "7293c609",
   "metadata": {},
   "outputs": [
    {
     "data": {
      "text/html": [
       "<div>\n",
       "<style scoped>\n",
       "    .dataframe tbody tr th:only-of-type {\n",
       "        vertical-align: middle;\n",
       "    }\n",
       "\n",
       "    .dataframe tbody tr th {\n",
       "        vertical-align: top;\n",
       "    }\n",
       "\n",
       "    .dataframe thead th {\n",
       "        text-align: right;\n",
       "    }\n",
       "</style>\n",
       "<table border=\"1\" class=\"dataframe\">\n",
       "  <thead>\n",
       "    <tr style=\"text-align: right;\">\n",
       "      <th></th>\n",
       "      <th>headlines</th>\n",
       "      <th>text</th>\n",
       "      <th>decoder_input</th>\n",
       "      <th>decoder_target</th>\n",
       "    </tr>\n",
       "  </thead>\n",
       "  <tbody>\n",
       "    <tr>\n",
       "      <th>0</th>\n",
       "      <td>upgrad learner switches career ml al salary hike</td>\n",
       "      <td>saurav kant alumnus upgrad iiit pg program mac...</td>\n",
       "      <td>sostoken upgrad learner switches career ml al ...</td>\n",
       "      <td>upgrad learner switches career ml al salary hi...</td>\n",
       "    </tr>\n",
       "    <tr>\n",
       "      <th>1</th>\n",
       "      <td>known hirani yrs metoo claims true sonam</td>\n",
       "      <td>speaking sexual harassment allegations rajkuma...</td>\n",
       "      <td>sostoken known hirani yrs metoo claims true sonam</td>\n",
       "      <td>known hirani yrs metoo claims true sonam eostoken</td>\n",
       "    </tr>\n",
       "    <tr>\n",
       "      <th>2</th>\n",
       "      <td>india get lowest odi total new zealand</td>\n",
       "      <td>india recorded lowest odi total new zealand ge...</td>\n",
       "      <td>sostoken india get lowest odi total new zealand</td>\n",
       "      <td>india get lowest odi total new zealand eostoken</td>\n",
       "    </tr>\n",
       "    <tr>\n",
       "      <th>3</th>\n",
       "      <td>govt directs alok verma join work day retirement</td>\n",
       "      <td>weeks ex cbi director alok verma told departme...</td>\n",
       "      <td>sostoken govt directs alok verma join work day...</td>\n",
       "      <td>govt directs alok verma join work day retireme...</td>\n",
       "    </tr>\n",
       "    <tr>\n",
       "      <th>4</th>\n",
       "      <td>cong wins ramgarh bypoll rajasthan takes total...</td>\n",
       "      <td>congress candidate shafia zubair ramgarh assem...</td>\n",
       "      <td>sostoken cong wins ramgarh bypoll rajasthan ta...</td>\n",
       "      <td>cong wins ramgarh bypoll rajasthan takes total...</td>\n",
       "    </tr>\n",
       "  </tbody>\n",
       "</table>\n",
       "</div>"
      ],
      "text/plain": [
       "                                           headlines  \\\n",
       "0   upgrad learner switches career ml al salary hike   \n",
       "1           known hirani yrs metoo claims true sonam   \n",
       "2             india get lowest odi total new zealand   \n",
       "3   govt directs alok verma join work day retirement   \n",
       "4  cong wins ramgarh bypoll rajasthan takes total...   \n",
       "\n",
       "                                                text  \\\n",
       "0  saurav kant alumnus upgrad iiit pg program mac...   \n",
       "1  speaking sexual harassment allegations rajkuma...   \n",
       "2  india recorded lowest odi total new zealand ge...   \n",
       "3  weeks ex cbi director alok verma told departme...   \n",
       "4  congress candidate shafia zubair ramgarh assem...   \n",
       "\n",
       "                                       decoder_input  \\\n",
       "0  sostoken upgrad learner switches career ml al ...   \n",
       "1  sostoken known hirani yrs metoo claims true sonam   \n",
       "2    sostoken india get lowest odi total new zealand   \n",
       "3  sostoken govt directs alok verma join work day...   \n",
       "4  sostoken cong wins ramgarh bypoll rajasthan ta...   \n",
       "\n",
       "                                      decoder_target  \n",
       "0  upgrad learner switches career ml al salary hi...  \n",
       "1  known hirani yrs metoo claims true sonam eostoken  \n",
       "2    india get lowest odi total new zealand eostoken  \n",
       "3  govt directs alok verma join work day retireme...  \n",
       "4  cong wins ramgarh bypoll rajasthan takes total...  "
      ]
     },
     "execution_count": 22,
     "metadata": {},
     "output_type": "execute_result"
    }
   ],
   "source": [
    "# headlines 데이터에는 시작 토큰과 종료 토큰을 추가한다.\n",
    "data['decoder_input'] = data['headlines'].apply(lambda x : 'sostoken '+ x)\n",
    "data['decoder_target'] = data['headlines'].apply(lambda x : x + ' eostoken')\n",
    "data.head()"
   ]
  },
  {
   "cell_type": "code",
   "execution_count": 23,
   "id": "e3202084",
   "metadata": {},
   "outputs": [],
   "source": [
    "encoder_input = np.array(data['text']) # 인코더의 입력\n",
    "decoder_input = np.array(data['decoder_input']) # 디코더의 입력\n",
    "decoder_target = np.array(data['decoder_target']) # 디코더의 레이블"
   ]
  },
  {
   "cell_type": "code",
   "execution_count": 24,
   "id": "9676a506",
   "metadata": {},
   "outputs": [
    {
     "name": "stdout",
     "output_type": "stream",
     "text": [
      "[81822 47343 21694 ... 19683 70221 77164]\n"
     ]
    }
   ],
   "source": [
    "indices = np.arange(encoder_input.shape[0])\n",
    "np.random.shuffle(indices)\n",
    "print(indices)"
   ]
  },
  {
   "cell_type": "code",
   "execution_count": 25,
   "id": "a687d9a2",
   "metadata": {},
   "outputs": [],
   "source": [
    "encoder_input = encoder_input[indices]\n",
    "decoder_input = decoder_input[indices]\n",
    "decoder_target = decoder_target[indices]"
   ]
  },
  {
   "cell_type": "code",
   "execution_count": 26,
   "id": "5624adfa",
   "metadata": {},
   "outputs": [
    {
     "name": "stdout",
     "output_type": "stream",
     "text": [
      "테스트 데이터의 수 : 16364\n"
     ]
    }
   ],
   "source": [
    "n_of_val = int(len(encoder_input)*0.2)\n",
    "print('테스트 데이터의 수 :', n_of_val)"
   ]
  },
  {
   "cell_type": "code",
   "execution_count": 27,
   "id": "2196b7e5",
   "metadata": {},
   "outputs": [
    {
     "name": "stdout",
     "output_type": "stream",
     "text": [
      "훈련 데이터의 개수 : 65459\n",
      "훈련 레이블의 개수 : 65459\n",
      "테스트 데이터의 개수 : 16364\n",
      "테스트 레이블의 개수 : 16364\n"
     ]
    }
   ],
   "source": [
    "encoder_input_train = encoder_input[:-n_of_val]\n",
    "decoder_input_train = decoder_input[:-n_of_val]\n",
    "decoder_target_train = decoder_target[:-n_of_val]\n",
    "\n",
    "encoder_input_test = encoder_input[-n_of_val:]\n",
    "decoder_input_test = decoder_input[-n_of_val:]\n",
    "decoder_target_test = decoder_target[-n_of_val:]\n",
    "\n",
    "print('훈련 데이터의 개수 :', len(encoder_input_train))\n",
    "print('훈련 레이블의 개수 :', len(decoder_input_train))\n",
    "print('테스트 데이터의 개수 :', len(encoder_input_test))\n",
    "print('테스트 레이블의 개수 :', len(decoder_input_test))"
   ]
  },
  {
   "cell_type": "code",
   "execution_count": 28,
   "id": "5d4878a7",
   "metadata": {},
   "outputs": [],
   "source": [
    "src_tokenizer = Tokenizer() # 토크나이저 정의\n",
    "src_tokenizer.fit_on_texts(encoder_input_train) # 입력된 데이터로부터 단어 집합 생성"
   ]
  },
  {
   "cell_type": "code",
   "execution_count": 29,
   "id": "b97e69ca",
   "metadata": {},
   "outputs": [
    {
     "name": "stdout",
     "output_type": "stream",
     "text": [
      "단어 집합(vocabulary)의 크기 : 62982\n",
      "등장 빈도가 6번 이하인 희귀 단어의 수: 42955\n",
      "단어 집합에서 희귀 단어를 제외시킬 경우의 단어 집합의 크기 20027\n",
      "단어 집합에서 희귀 단어의 비율: 68.2020259756756\n",
      "전체 등장 빈도에서 희귀 단어 등장 빈도 비율: 3.8737692878763443\n"
     ]
    }
   ],
   "source": [
    "threshold = 7\n",
    "total_cnt = len(src_tokenizer.word_index) # 단어의 수\n",
    "rare_cnt = 0 # 등장 빈도수가 threshold보다 작은 단어의 개수를 카운트\n",
    "total_freq = 0 # 훈련 데이터의 전체 단어 빈도수 총 합\n",
    "rare_freq = 0 # 등장 빈도수가 threshold보다 작은 단어의 등장 빈도수의 총 합\n",
    "\n",
    "# 단어와 빈도수의 쌍(pair)을 key와 value로 받는다.\n",
    "for key, value in src_tokenizer.word_counts.items():\n",
    "    total_freq = total_freq + value\n",
    "\n",
    "    # 단어의 등장 빈도수가 threshold보다 작으면\n",
    "    if(value < threshold):\n",
    "        rare_cnt = rare_cnt + 1\n",
    "        rare_freq = rare_freq + value\n",
    "\n",
    "print('단어 집합(vocabulary)의 크기 :', total_cnt)\n",
    "print('등장 빈도가 %s번 이하인 희귀 단어의 수: %s'%(threshold - 1, rare_cnt))\n",
    "print('단어 집합에서 희귀 단어를 제외시킬 경우의 단어 집합의 크기 %s'%(total_cnt - rare_cnt))\n",
    "print(\"단어 집합에서 희귀 단어의 비율:\", (rare_cnt / total_cnt)*100)\n",
    "print(\"전체 등장 빈도에서 희귀 단어 등장 빈도 비율:\", (rare_freq / total_freq)*100)"
   ]
  },
  {
   "cell_type": "code",
   "execution_count": 30,
   "id": "13a9f69a",
   "metadata": {},
   "outputs": [],
   "source": [
    "src_vocab = 20000\n",
    "src_tokenizer = Tokenizer(num_words=src_vocab) # 단어 집합의 크기를 20,000으로 제한\n",
    "src_tokenizer.fit_on_texts(encoder_input_train) # 단어 집합 재생성"
   ]
  },
  {
   "cell_type": "code",
   "execution_count": 31,
   "id": "3bf9c068",
   "metadata": {},
   "outputs": [
    {
     "name": "stdout",
     "output_type": "stream",
     "text": [
      "[[5347, 1126, 312, 460, 874, 3028, 354, 67, 18630, 2165, 138, 2274, 9, 449, 733, 312, 43, 14964, 5288, 2556, 86, 14314, 3790, 1633, 5348, 501, 5347, 812, 573, 538, 3368, 354, 2251, 1330, 9], [1058, 8, 468, 120, 2405, 2870, 67, 132, 66, 2275, 6, 10, 270, 3951, 44, 58, 149, 500, 754, 1605, 11167, 1729, 1497, 3416, 2870, 8, 1368, 2870, 559, 8735, 754, 1183, 77, 5349, 68, 1498, 280, 1363], [4, 15, 868, 15702, 14965, 9525, 321, 1054, 708, 1042, 489, 5289, 1219, 1164, 23, 241, 541, 105, 85, 14965, 937, 1644, 4796, 3259, 1379, 868, 12751, 12752, 4233, 1379, 128, 1263, 157, 956, 539]]\n"
     ]
    }
   ],
   "source": [
    "# 텍스트 시퀀스를 정수 시퀀스로 변환\n",
    "encoder_input_train = src_tokenizer.texts_to_sequences(encoder_input_train) \n",
    "encoder_input_test = src_tokenizer.texts_to_sequences(encoder_input_test)\n",
    "\n",
    "# 잘 진행되었는지 샘플 출력\n",
    "print(encoder_input_train[:3])"
   ]
  },
  {
   "cell_type": "code",
   "execution_count": 32,
   "id": "f5ccb749",
   "metadata": {},
   "outputs": [],
   "source": [
    "tar_tokenizer = Tokenizer()\n",
    "tar_tokenizer.fit_on_texts(decoder_input_train)"
   ]
  },
  {
   "cell_type": "code",
   "execution_count": 33,
   "id": "824fb0ca",
   "metadata": {},
   "outputs": [
    {
     "name": "stdout",
     "output_type": "stream",
     "text": [
      "단어 집합(vocabulary)의 크기 : 27510\n",
      "등장 빈도가 5번 이하인 희귀 단어의 수: 18255\n",
      "단어 집합에서 희귀 단어를 제외시킬 경우의 단어 집합의 크기 9255\n",
      "단어 집합에서 희귀 단어의 비율: 66.3576881134133\n",
      "전체 등장 빈도에서 희귀 단어 등장 빈도 비율: 6.842105263157896\n"
     ]
    }
   ],
   "source": [
    "threshold = 6\n",
    "total_cnt = len(tar_tokenizer.word_index) # 단어의 수\n",
    "rare_cnt = 0 # 등장 빈도수가 threshold보다 작은 단어의 개수를 카운트\n",
    "total_freq = 0 # 훈련 데이터의 전체 단어 빈도수 총 합\n",
    "rare_freq = 0 # 등장 빈도수가 threshold보다 작은 단어의 등장 빈도수의 총 합\n",
    "\n",
    "# 단어와 빈도수의 쌍(pair)을 key와 value로 받는다.\n",
    "for key, value in tar_tokenizer.word_counts.items():\n",
    "    total_freq = total_freq + value\n",
    "\n",
    "    # 단어의 등장 빈도수가 threshold보다 작으면\n",
    "    if(value < threshold):\n",
    "        rare_cnt = rare_cnt + 1\n",
    "        rare_freq = rare_freq + value\n",
    "\n",
    "print('단어 집합(vocabulary)의 크기 :', total_cnt)\n",
    "print('등장 빈도가 %s번 이하인 희귀 단어의 수: %s'%(threshold - 1, rare_cnt))\n",
    "print('단어 집합에서 희귀 단어를 제외시킬 경우의 단어 집합의 크기 %s'%(total_cnt - rare_cnt))\n",
    "print(\"단어 집합에서 희귀 단어의 비율:\", (rare_cnt / total_cnt)*100)\n",
    "print(\"전체 등장 빈도에서 희귀 단어 등장 빈도 비율:\", (rare_freq / total_freq)*100)"
   ]
  },
  {
   "cell_type": "code",
   "execution_count": 34,
   "id": "cfe4d2cd",
   "metadata": {},
   "outputs": [
    {
     "name": "stdout",
     "output_type": "stream",
     "text": [
      "input\n",
      "input  [[1, 1753, 404, 169], [1, 207, 1660, 8, 21, 2166, 1985, 29], [1, 70, 18, 8427, 3963, 498, 1044, 717, 7776], [1, 622, 230, 592, 298, 741, 1235, 5966, 2968], [1, 13, 26, 5967, 338, 3228, 1597, 46]]\n",
      "target\n",
      "decoder  [[1753, 404, 169, 2], [207, 1660, 8, 21, 2166, 1985, 29, 2], [70, 18, 8427, 3963, 498, 1044, 717, 7776, 2], [622, 230, 592, 298, 741, 1235, 5966, 2968, 2], [13, 26, 5967, 338, 3228, 1597, 46, 2]]\n"
     ]
    }
   ],
   "source": [
    "tar_vocab = 9000\n",
    "tar_tokenizer = Tokenizer(num_words=tar_vocab) \n",
    "tar_tokenizer.fit_on_texts(decoder_input_train)\n",
    "tar_tokenizer.fit_on_texts(decoder_target_train)\n",
    "\n",
    "# 텍스트 시퀀스를 정수 시퀀스로 변환\n",
    "decoder_input_train = tar_tokenizer.texts_to_sequences(decoder_input_train) \n",
    "decoder_target_train = tar_tokenizer.texts_to_sequences(decoder_target_train)\n",
    "decoder_input_test = tar_tokenizer.texts_to_sequences(decoder_input_test)\n",
    "decoder_target_test = tar_tokenizer.texts_to_sequences(decoder_target_test)\n",
    "\n",
    "# 잘 변환되었는지 확인\n",
    "print('input')\n",
    "print('input ',decoder_input_train[:5])\n",
    "print('target')\n",
    "print('decoder ',decoder_target_train[:5])"
   ]
  },
  {
   "cell_type": "code",
   "execution_count": 35,
   "id": "eaeff900",
   "metadata": {},
   "outputs": [
    {
     "name": "stdout",
     "output_type": "stream",
     "text": [
      "삭제할 훈련 데이터의 개수 : 2\n",
      "삭제할 테스트 데이터의 개수 : 1\n",
      "훈련 데이터의 개수 : 65457\n",
      "훈련 레이블의 개수 : 65457\n",
      "테스트 데이터의 개수 : 16363\n",
      "테스트 레이블의 개수 : 16363\n"
     ]
    }
   ],
   "source": [
    "drop_train = [index for index, sentence in enumerate(decoder_input_train) if len(sentence) == 1]\n",
    "drop_test = [index for index, sentence in enumerate(decoder_input_test) if len(sentence) == 1]\n",
    "\n",
    "print('삭제할 훈련 데이터의 개수 :', len(drop_train))\n",
    "print('삭제할 테스트 데이터의 개수 :', len(drop_test))\n",
    "\n",
    "encoder_input_train = [sentence for index, sentence in enumerate(encoder_input_train) if index not in drop_train]\n",
    "decoder_input_train = [sentence for index, sentence in enumerate(decoder_input_train) if index not in drop_train]\n",
    "decoder_target_train = [sentence for index, sentence in enumerate(decoder_target_train) if index not in drop_train]\n",
    "\n",
    "encoder_input_test = [sentence for index, sentence in enumerate(encoder_input_test) if index not in drop_test]\n",
    "decoder_input_test = [sentence for index, sentence in enumerate(decoder_input_test) if index not in drop_test]\n",
    "decoder_target_test = [sentence for index, sentence in enumerate(decoder_target_test) if index not in drop_test]\n",
    "\n",
    "print('훈련 데이터의 개수 :', len(encoder_input_train))\n",
    "print('훈련 레이블의 개수 :', len(decoder_input_train))\n",
    "print('테스트 데이터의 개수 :', len(encoder_input_test))\n",
    "print('테스트 레이블의 개수 :', len(decoder_input_test))"
   ]
  },
  {
   "cell_type": "code",
   "execution_count": 36,
   "id": "4bf77b90",
   "metadata": {},
   "outputs": [],
   "source": [
    "encoder_input_train = pad_sequences(encoder_input_train, maxlen=text_max_len, padding='post')\n",
    "encoder_input_test = pad_sequences(encoder_input_test, maxlen=text_max_len, padding='post')\n",
    "decoder_input_train = pad_sequences(decoder_input_train, maxlen=headlines_max_len, padding='post')\n",
    "decoder_target_train = pad_sequences(decoder_target_train, maxlen=headlines_max_len, padding='post')\n",
    "decoder_input_test = pad_sequences(decoder_input_test, maxlen=headlines_max_len, padding='post')\n",
    "decoder_target_test = pad_sequences(decoder_target_test, maxlen=headlines_max_len, padding='post')"
   ]
  },
  {
   "cell_type": "code",
   "execution_count": 37,
   "id": "d048b364",
   "metadata": {},
   "outputs": [
    {
     "name": "stdout",
     "output_type": "stream",
     "text": [
      "WARNING:tensorflow:Layer lstm_2 will not use cuDNN kernels since it doesn't meet the criteria. It will use a generic GPU kernel as fallback when running on GPU.\n"
     ]
    }
   ],
   "source": [
    "from tensorflow.keras.layers import Input, LSTM, Embedding, Dense, Concatenate, TimeDistributed\n",
    "from tensorflow.keras.models import Model\n",
    "from tensorflow.keras.callbacks import EarlyStopping, ModelCheckpoint\n",
    "\n",
    "# 인코더 설계 시작\n",
    "embedding_dim = 128\n",
    "hidden_size = 256\n",
    "\n",
    "# 인코더\n",
    "encoder_inputs = Input(shape=(text_max_len,))\n",
    "\n",
    "# 인코더의 임베딩 층\n",
    "enc_emb = Embedding(src_vocab, embedding_dim)(encoder_inputs)\n",
    "\n",
    "# 인코더의 LSTM 1\n",
    "# encoder_lstm1 = LSTM(hidden_size, return_sequences=True, return_state=True ,dropout = 0.4, recurrent_dropout = 0.4)\n",
    "encoder_lstm1 = LSTM(hidden_size, return_sequences=True, return_state=True ,dropout = 0.4)\n",
    "encoder_output1, state_h1, state_c1 = encoder_lstm1(enc_emb)\n",
    "\n",
    "# 인코더의 LSTM 2\n",
    "encoder_lstm2 = LSTM(hidden_size, return_sequences=True, return_state=True, dropout=0.4)\n",
    "encoder_output2, state_h2, state_c2 = encoder_lstm2(encoder_output1)\n",
    "\n",
    "# 인코더의 LSTM 3\n",
    "encoder_lstm3 = LSTM(hidden_size, return_state=True, return_sequences=True, dropout=0.4, recurrent_dropout=0.4)\n",
    "encoder_outputs, state_h, state_c = encoder_lstm3(encoder_output2)"
   ]
  },
  {
   "cell_type": "code",
   "execution_count": 38,
   "id": "dc171080",
   "metadata": {},
   "outputs": [],
   "source": [
    "# 디코더 설계\n",
    "decoder_inputs = Input(shape=(None,))\n",
    "\n",
    "# 디코더의 임베딩 층\n",
    "dec_emb_layer = Embedding(tar_vocab, embedding_dim)\n",
    "dec_emb = dec_emb_layer(decoder_inputs)\n",
    "\n",
    "# 디코더의 LSTM\n",
    "# decoder_lstm = LSTM(hidden_size, return_sequences=True, return_state=True, dropout=0.4, recurrent_dropout=0.2)\n",
    "decoder_lstm = LSTM(hidden_size, return_sequences=True, return_state=True, dropout=0.4)\n",
    "decoder_outputs, _, _ = decoder_lstm(dec_emb, initial_state=[state_h, state_c])"
   ]
  },
  {
   "cell_type": "code",
   "execution_count": 39,
   "id": "538d7023",
   "metadata": {},
   "outputs": [
    {
     "name": "stdout",
     "output_type": "stream",
     "text": [
      "Model: \"model\"\n",
      "__________________________________________________________________________________________________\n",
      "Layer (type)                    Output Shape         Param #     Connected to                     \n",
      "==================================================================================================\n",
      "input_1 (InputLayer)            [(None, 40)]         0                                            \n",
      "__________________________________________________________________________________________________\n",
      "embedding (Embedding)           (None, 40, 128)      2560000     input_1[0][0]                    \n",
      "__________________________________________________________________________________________________\n",
      "lstm (LSTM)                     [(None, 40, 256), (N 394240      embedding[0][0]                  \n",
      "__________________________________________________________________________________________________\n",
      "input_2 (InputLayer)            [(None, None)]       0                                            \n",
      "__________________________________________________________________________________________________\n",
      "lstm_1 (LSTM)                   [(None, 40, 256), (N 525312      lstm[0][0]                       \n",
      "__________________________________________________________________________________________________\n",
      "embedding_1 (Embedding)         (None, None, 128)    1152000     input_2[0][0]                    \n",
      "__________________________________________________________________________________________________\n",
      "lstm_2 (LSTM)                   [(None, 40, 256), (N 525312      lstm_1[0][0]                     \n",
      "__________________________________________________________________________________________________\n",
      "lstm_3 (LSTM)                   [(None, None, 256),  394240      embedding_1[0][0]                \n",
      "                                                                 lstm_2[0][1]                     \n",
      "                                                                 lstm_2[0][2]                     \n",
      "__________________________________________________________________________________________________\n",
      "dense (Dense)                   (None, None, 9000)   2313000     lstm_3[0][0]                     \n",
      "==================================================================================================\n",
      "Total params: 7,864,104\n",
      "Trainable params: 7,864,104\n",
      "Non-trainable params: 0\n",
      "__________________________________________________________________________________________________\n"
     ]
    }
   ],
   "source": [
    "# 디코더의 출력층\n",
    "decoder_softmax_layer = Dense(tar_vocab, activation='softmax')\n",
    "decoder_softmax_outputs = decoder_softmax_layer(decoder_outputs) \n",
    "\n",
    "# 모델 정의\n",
    "model = Model([encoder_inputs, decoder_inputs], decoder_softmax_outputs)\n",
    "model.summary()"
   ]
  },
  {
   "cell_type": "markdown",
   "id": "61e7649e",
   "metadata": {},
   "source": [
    "> 4) Attention funtion"
   ]
  },
  {
   "cell_type": "code",
   "execution_count": 40,
   "id": "7f97f9de",
   "metadata": {},
   "outputs": [
    {
     "name": "stdout",
     "output_type": "stream",
     "text": [
      "Model: \"model_1\"\n",
      "__________________________________________________________________________________________________\n",
      "Layer (type)                    Output Shape         Param #     Connected to                     \n",
      "==================================================================================================\n",
      "input_1 (InputLayer)            [(None, 40)]         0                                            \n",
      "__________________________________________________________________________________________________\n",
      "embedding (Embedding)           (None, 40, 128)      2560000     input_1[0][0]                    \n",
      "__________________________________________________________________________________________________\n",
      "lstm (LSTM)                     [(None, 40, 256), (N 394240      embedding[0][0]                  \n",
      "__________________________________________________________________________________________________\n",
      "input_2 (InputLayer)            [(None, None)]       0                                            \n",
      "__________________________________________________________________________________________________\n",
      "lstm_1 (LSTM)                   [(None, 40, 256), (N 525312      lstm[0][0]                       \n",
      "__________________________________________________________________________________________________\n",
      "embedding_1 (Embedding)         (None, None, 128)    1152000     input_2[0][0]                    \n",
      "__________________________________________________________________________________________________\n",
      "lstm_2 (LSTM)                   [(None, 40, 256), (N 525312      lstm_1[0][0]                     \n",
      "__________________________________________________________________________________________________\n",
      "lstm_3 (LSTM)                   [(None, None, 256),  394240      embedding_1[0][0]                \n",
      "                                                                 lstm_2[0][1]                     \n",
      "                                                                 lstm_2[0][2]                     \n",
      "__________________________________________________________________________________________________\n",
      "attention_layer (AdditiveAttent (None, None, 256)    256         lstm_3[0][0]                     \n",
      "                                                                 lstm_2[0][0]                     \n",
      "__________________________________________________________________________________________________\n",
      "concat_layer (Concatenate)      (None, None, 512)    0           lstm_3[0][0]                     \n",
      "                                                                 attention_layer[0][0]            \n",
      "__________________________________________________________________________________________________\n",
      "dense_1 (Dense)                 (None, None, 9000)   4617000     concat_layer[0][0]               \n",
      "==================================================================================================\n",
      "Total params: 10,168,360\n",
      "Trainable params: 10,168,360\n",
      "Non-trainable params: 0\n",
      "__________________________________________________________________________________________________\n"
     ]
    }
   ],
   "source": [
    "from tensorflow.keras.layers import AdditiveAttention\n",
    "\n",
    "# 어텐션 층(어텐션 함수)\n",
    "attn_layer = AdditiveAttention(name='attention_layer')\n",
    "\n",
    "# 인코더와 디코더의 모든 time step의 hidden state를 어텐션 층에 전달하고 결과를 리턴\n",
    "attn_out = attn_layer([decoder_outputs, encoder_outputs])\n",
    "\n",
    "# 어텐션의 결과와 디코더의 hidden state들을 연결\n",
    "decoder_concat_input = Concatenate(axis=-1, name='concat_layer')([decoder_outputs, attn_out])\n",
    "\n",
    "# 디코더의 출력층\n",
    "decoder_softmax_layer = Dense(tar_vocab, activation='softmax')\n",
    "decoder_softmax_outputs = decoder_softmax_layer(decoder_concat_input)\n",
    "\n",
    "# 모델 정의\n",
    "model = Model([encoder_inputs, decoder_inputs], decoder_softmax_outputs)\n",
    "model.summary()"
   ]
  },
  {
   "cell_type": "code",
   "execution_count": 41,
   "id": "4c6841f7",
   "metadata": {},
   "outputs": [
    {
     "name": "stdout",
     "output_type": "stream",
     "text": [
      "Epoch 1/50\n",
      "256/256 [==============================] - 63s 214ms/step - loss: 6.5079 - val_loss: 6.1102\n",
      "Epoch 2/50\n",
      "256/256 [==============================] - 54s 212ms/step - loss: 5.9819 - val_loss: 5.7055\n",
      "Epoch 3/50\n",
      "256/256 [==============================] - 54s 212ms/step - loss: 5.6358 - val_loss: 5.4878\n",
      "Epoch 4/50\n",
      "256/256 [==============================] - 54s 211ms/step - loss: 5.3707 - val_loss: 5.2719\n",
      "Epoch 5/50\n",
      "256/256 [==============================] - 54s 210ms/step - loss: 5.1164 - val_loss: 5.1099\n",
      "Epoch 6/50\n",
      "256/256 [==============================] - 54s 210ms/step - loss: 4.8970 - val_loss: 4.9542\n",
      "Epoch 7/50\n",
      "256/256 [==============================] - 54s 212ms/step - loss: 4.7133 - val_loss: 4.8506\n",
      "Epoch 8/50\n",
      "256/256 [==============================] - 53s 208ms/step - loss: 4.5525 - val_loss: 4.7731\n",
      "Epoch 9/50\n",
      "256/256 [==============================] - 54s 209ms/step - loss: 4.4050 - val_loss: 4.7033\n",
      "Epoch 10/50\n",
      "256/256 [==============================] - 54s 210ms/step - loss: 4.2705 - val_loss: 4.6556\n",
      "Epoch 11/50\n",
      "256/256 [==============================] - 53s 208ms/step - loss: 4.1503 - val_loss: 4.6098\n",
      "Epoch 12/50\n",
      "256/256 [==============================] - 53s 209ms/step - loss: 4.0432 - val_loss: 4.5819\n",
      "Epoch 13/50\n",
      "256/256 [==============================] - 53s 208ms/step - loss: 3.9448 - val_loss: 4.5532\n",
      "Epoch 14/50\n",
      "256/256 [==============================] - 54s 209ms/step - loss: 3.8508 - val_loss: 4.5390\n",
      "Epoch 15/50\n",
      "256/256 [==============================] - 53s 207ms/step - loss: 3.7574 - val_loss: 4.5243\n",
      "Epoch 16/50\n",
      "256/256 [==============================] - 53s 208ms/step - loss: 3.6714 - val_loss: 4.5037\n",
      "Epoch 17/50\n",
      "256/256 [==============================] - 53s 207ms/step - loss: 3.5947 - val_loss: 4.4954\n",
      "Epoch 18/50\n",
      "256/256 [==============================] - 53s 207ms/step - loss: 3.5234 - val_loss: 4.4859\n",
      "Epoch 19/50\n",
      "256/256 [==============================] - 54s 209ms/step - loss: 3.4532 - val_loss: 4.4943\n",
      "Epoch 20/50\n",
      "256/256 [==============================] - 53s 208ms/step - loss: 3.3854 - val_loss: 4.4961\n",
      "Epoch 00020: early stopping\n"
     ]
    }
   ],
   "source": [
    "# checkpoint_path = \"training_1/cp.ckpt\"\n",
    "# checkpoint_dir = os.path.dirname(checkpoint_path)\n",
    "\n",
    "# # Create a callback that saves the model's weights\n",
    "# cp_callback = tf.keras.callbacks.ModelCheckpoint(filepath=checkpoint_path,\n",
    "#                                                  save_weights_only=True,\n",
    "#                                                  verbose=1)\n",
    "\n",
    "# # Train the model with the new callback\n",
    "# model.fit(train_images, \n",
    "#           train_labels,  \n",
    "#           epochs=10,\n",
    "#           validation_data=(test_images, test_labels),\n",
    "#           callbacks=[cp_callback])  # Pass callback to training\n",
    "\n",
    "# # This may generate warnings related to saving the state of the optimizer.\n",
    "# # These warnings (and similar warnings throughout this notebook)\n",
    "# # are in place to discourage outdated usage, and can be ignored.\n",
    "\n",
    "model.compile(optimizer='rmsprop', loss='sparse_categorical_crossentropy')\n",
    "es = EarlyStopping(monitor='val_loss', patience=2, verbose=1)\n",
    "history = model.fit(x=[encoder_input_train, decoder_input_train], y=decoder_target_train, \\\n",
    "          validation_data=([encoder_input_test, decoder_input_test], decoder_target_test), \\\n",
    "          batch_size=256, callbacks=[es], epochs=50)"
   ]
  },
  {
   "cell_type": "code",
   "execution_count": 42,
   "id": "bd584072",
   "metadata": {
    "scrolled": true
   },
   "outputs": [
    {
     "data": {
      "image/png": "[encoded data removed]",
      "text/plain": [
       "<Figure size 432x288 with 1 Axes>"
      ]
     },
     "metadata": {
      "needs_background": "light"
     },
     "output_type": "display_data"
    }
   ],
   "source": [
    "plt.plot(history.history['loss'], label='train')\n",
    "plt.plot(history.history['val_loss'], label='test')\n",
    "plt.legend()\n",
    "plt.show()"
   ]
  },
  {
   "cell_type": "markdown",
   "id": "1413afc9",
   "metadata": {},
   "source": [
    "> 5) Complare to Actual headlines and Abstract Summary"
   ]
  },
  {
   "cell_type": "code",
   "execution_count": 43,
   "id": "9dd200c7",
   "metadata": {},
   "outputs": [],
   "source": [
    "src_index_to_word = src_tokenizer.index_word # 원문 단어 집합에서 정수 -> 단어를 얻음\n",
    "tar_word_to_index = tar_tokenizer.word_index # 요약 단어 집합에서 단어 -> 정수를 얻음\n",
    "tar_index_to_word = tar_tokenizer.index_word # 요약 단어 집합에서 정수 -> 단어를 얻음"
   ]
  },
  {
   "cell_type": "code",
   "execution_count": 44,
   "id": "33e36730",
   "metadata": {},
   "outputs": [],
   "source": [
    "# 인코더 설계\n",
    "encoder_model = Model(inputs=encoder_inputs, outputs=[encoder_outputs, state_h, state_c])\n",
    "\n",
    "# 이전 시점의 상태들을 저장하는 텐서\n",
    "decoder_state_input_h = Input(shape=(hidden_size,))\n",
    "decoder_state_input_c = Input(shape=(hidden_size,))\n",
    "\n",
    "dec_emb2 = dec_emb_layer(decoder_inputs)\n",
    "\n",
    "# 문장의 다음 단어를 예측하기 위해서 초기 상태(initial_state)를 이전 시점의 상태로 사용. 이는 뒤의 함수 decode_sequence()에 구현\n",
    "# 훈련 과정에서와 달리 LSTM의 리턴하는 은닉 상태와 셀 상태인 state_h와 state_c를 버리지 않음.\n",
    "decoder_outputs2, state_h2, state_c2 = decoder_lstm(dec_emb2, initial_state=[decoder_state_input_h, decoder_state_input_c])"
   ]
  },
  {
   "cell_type": "code",
   "execution_count": 45,
   "id": "43545a59",
   "metadata": {},
   "outputs": [],
   "source": [
    "# 어텐션 함수\n",
    "decoder_hidden_state_input = Input(shape=(text_max_len, hidden_size))\n",
    "attn_out_inf = attn_layer([decoder_outputs2, decoder_hidden_state_input])\n",
    "decoder_inf_concat = Concatenate(axis=-1, name='concat')([decoder_outputs2, attn_out_inf])\n",
    "\n",
    "# 디코더의 출력층\n",
    "decoder_outputs2 = decoder_softmax_layer(decoder_inf_concat) \n",
    "\n",
    "# 최종 디코더 모델\n",
    "decoder_model = Model(\n",
    "    [decoder_inputs] + [decoder_hidden_state_input,decoder_state_input_h, decoder_state_input_c],\n",
    "    [decoder_outputs2] + [state_h2, state_c2])"
   ]
  },
  {
   "cell_type": "code",
   "execution_count": 46,
   "id": "7ff63e8a",
   "metadata": {},
   "outputs": [],
   "source": [
    "def decode_sequence(input_seq):\n",
    "    # 입력으로부터 인코더의 상태를 얻음\n",
    "    e_out, e_h, e_c = encoder_model.predict(input_seq)\n",
    "\n",
    "     # <SOS>에 해당하는 토큰 생성\n",
    "    target_seq = np.zeros((1,1))\n",
    "    target_seq[0, 0] = tar_word_to_index['sostoken']\n",
    "\n",
    "    stop_condition = False\n",
    "    decoded_sentence = ''\n",
    "    while not stop_condition: # stop_condition이 True가 될 때까지 루프 반복\n",
    "\n",
    "        output_tokens, h, c = decoder_model.predict([target_seq] + [e_out, e_h, e_c])\n",
    "        sampled_token_index = np.argmax(output_tokens[0, -1, :])\n",
    "        sampled_token = tar_index_to_word[sampled_token_index]\n",
    "\n",
    "        if (sampled_token!='eostoken'):\n",
    "            decoded_sentence += ' '+sampled_token\n",
    "\n",
    "        #  <eos>에 도달하거나 최대 길이를 넘으면 중단.\n",
    "        if (sampled_token == 'eostoken'  or len(decoded_sentence.split()) >= (headlines_max_len-1)):\n",
    "            stop_condition = True\n",
    "\n",
    "        # 길이가 1인 타겟 시퀀스를 업데이트\n",
    "        target_seq = np.zeros((1,1))\n",
    "        target_seq[0, 0] = sampled_token_index\n",
    "\n",
    "        # 상태를 업데이트 합니다.\n",
    "        e_h, e_c = h, c\n",
    "\n",
    "    return decoded_sentence"
   ]
  },
  {
   "cell_type": "code",
   "execution_count": 47,
   "id": "7c8021c7",
   "metadata": {},
   "outputs": [],
   "source": [
    "# 원문의 정수 시퀀스를 텍스트 시퀀스로 변환\n",
    "def seq2text(input_seq):\n",
    "    temp = ''\n",
    "    for i in input_seq:\n",
    "        if i != 0:\n",
    "            temp = temp + src_index_to_word[i] + ' '\n",
    "    return temp\n",
    "\n",
    "# 요약문의 정수 시퀀스를 텍스트 시퀀스로 변환\n",
    "def seq2headlines(input_seq):\n",
    "    temp = ''\n",
    "    for i in input_seq:\n",
    "        if i not in [0, 1, 2]:  # Assuming 0: pad_token, 1: sostoken, 2: eostoken\n",
    "            temp = temp + tar_index_to_word[i] + ' '\n",
    "    return temp"
   ]
  },
  {
   "cell_type": "code",
   "execution_count": 48,
   "id": "76bc537c",
   "metadata": {
    "scrolled": true
   },
   "outputs": [
    {
     "name": "stdout",
     "output_type": "stream",
     "text": [
      "원문 : balls collision saudi promotes gulzar successfully boyfriend metro guess produce korea iit give reach underpass reach iit videos promotes saudi collision mission ousts successfully man composed turkmenistan imran dutt lyft anonymous ragging first produce \n",
      "실제 요약 : plant burning show submarine malaysian yamuna bjp loans \n",
      "예측 요약 :  phone phone prevent cost hc\n",
      "\n",
      "\n",
      "원문 : shared reward experience st sexist nadu religion ashes playing hindi days cm attempts wikipedia knew reward sexist religion ashes votes cases boy troll drunken wikipedia argentina hospital wikipedia climate hospital cases ex lakh least \n",
      "실제 요약 : said latter astronauts investors anyone around assisted budget \n",
      "예측 요약 :  sebi probe indigo air india chairman\n",
      "\n",
      "\n",
      "원문 : srk designs good plan frequently scanning kerala crorepati body world people mumbai years karva due frequently scanning condoles privilege businessman globally hockey much declare body home man takes us years \n",
      "실제 요약 : said carry wildlife abe court man reports \n",
      "예측 요약 :  ncert ncert test\n",
      "\n",
      "\n",
      "원문 : govt nominated van major files rich india govt major files prime gdp india guj chairman files toilets performs reuters sitting cameras ford offers player cow founder since opening sends censorship major bumrah govt \n",
      "실제 요약 : said year classic recovery plan leave hack india \n",
      "예측 요약 :  us military military military sanctions us\n",
      "\n",
      "\n",
      "원문 : stuck person rocket rescued next reports mumbai named made secy asteroid end govt negative chopra good introduced exchange temple films call end person man addiction lakh refusing vigilantism zomato rescued person cannot defence australia \n",
      "실제 요약 : increase told trip end major leader month fourth \n",
      "예측 요약 :  tesla settles billion musk deal\n",
      "\n",
      "\n",
      "원문 : men protestors deepa bjp terrorists phonepe scooter bjp body death money hawking twins blames bjp actor death mile based cop meter metal profit multilingual loc penalty car become gomez network kumar network buy protestors twins \n",
      "실제 요약 : said shah shares legacy amitabh two kurdish \n",
      "예측 요약 :  gavaskar play ranji series india\n",
      "\n",
      "\n",
      "원문 : threatened woman proton says test aiyar every fashion case civic warns gates set hospitals reverses salman bitcoin wage woman baadshaho mine recreates crashed contest saif aiyar \n",
      "실제 요약 : said funny sir party poster like \n",
      "예측 요약 :  bjp mla calls bjp leader\n",
      "\n",
      "\n",
      "원문 : walmart appearing opinion dunk betrayed moves batti clean verma look construction reaches clean cong teams funeral world people ban unknown trainee prabhudeva scored claims mother clean patanjali prabhudeva ranaut even five displayed nitin spat construction losses escapes \n",
      "실제 요약 : storm chhattisgarh golden floor game reportedly man women \n",
      "예측 요약 :  hamilton wins race race\n",
      "\n",
      "\n",
      "원문 : sex woman launches air starrer credits online uk bitcoin stamps football orders gets gandhi law replace billionaire ants credits place ids lanka invests neglecting due pronounce amazon chinese prez air clash public special \n",
      "실제 요약 : said police would known deployed bank railway normally \n",
      "예측 요약 :  pm modi announces cr yrs yrs\n",
      "\n",
      "\n",
      "원문 : lesson last yr alia theatres relatives unveils mehbooba says national indians us report injured face hails last twitter releases infosys crush southern torture cannabis billion says khan last owner infosys uk based temple say kapoor \n",
      "실제 요약 : said technologies hit kumar companies looking achieving \n",
      "예측 요약 :  doctor hospital father lakh lakh\n",
      "\n",
      "\n",
      "원문 : trump francisco superstition teen vietnam cheaper play retire balloons played trump bottle spacex bitcoin sa failed deadpool bjp trump auction rank poses hospital trump atheist cube ft malware trump drill flight retire \n",
      "실제 요약 : said listing length contracts learning appeals \n",
      "예측 요약 :  nawazuddin play film fest melbourne film fest\n",
      "\n",
      "\n",
      "원문 : show brick name reservation shootout elvis unique spot slams movie ranking eliminated imposes odisha birds tip regrettable fingerprint jadhav crore illegal actress declines steve uk delhi demand hospitalised ban seat hotel samsung women \n",
      "실제 요약 : said salman bidding high irrfan powder \n",
      "예측 요약 :  syrian forces killed civilians philippines\n",
      "\n",
      "\n",
      "원문 : brother company space row free award woman africa store accused get users rumours plea reports row new tanushree prez launches air get users american crore directions row chester wood store get diwali shave watch closest talks \n",
      "실제 요약 : tuesday named batsman scam police would limited march \n",
      "예측 요약 :  congress begins india pm modi\n",
      "\n",
      "\n",
      "원문 : us report apple injured pakistan leak assembly delhi bullet monk special year us pak transformer jobs actress railway restaurant year pak want leak us goa pm girl fire pak ioa pm spending airports reports \n",
      "실제 요약 : one crore officials anti time madras tweeted one \n",
      "예측 요약 :  year old girl raped raped delhi\n",
      "\n",
      "\n",
      "원문 : bank running site disaster footage bjp death living tamil need running body death footage delegation hc attacked director five aug show date disaster attacked sp india wedding kohl cape connect champions late \n",
      "실제 요약 : india sensex rbi son really wednesday actress beer \n",
      "예측 요약 :  india lowest test lowest ever test\n",
      "\n",
      "\n",
      "원문 : cm officer mocks owaisi create goes good bangalore continents shiv leaves kapil shiv pay handi asks disorder solve speed part attack jokes film army first history bag led korea runway reach news \n",
      "실제 요약 : said pm agency confirmed iconic visit \n",
      "예측 요약 :  aap mlas resign aap mlas resign\n",
      "\n",
      "\n",
      "원문 : china film facebook get pay sour behen soros srinagar film security centre sc crore barring yoga traders says data suicide mistake sequoia voters rules inducts theatres behen protests shahid bias abraham suicide \n",
      "실제 요약 : said due life mathematics \n",
      "예측 요약 :  bjp mla breaks kejriwal\n",
      "\n",
      "\n",
      "원문 : ali cm communications shoe insulting pardon captained society marks hire shatabdi watch unbeaten th latin time hunger indian yrs singh ali ever anus killed million many sc payments set family surrenders sohail public past astronaut snapdeal \n",
      "실제 요약 : said reacting counts detained quit \n",
      "예측 요약 :  french prez accuses french president\n",
      "\n",
      "\n",
      "원문 : men really info belgium seekers delhi lost losing boy shut house pnb salman programme really pnb pose injured th kin bond dalai pak cbfc really pnb russian jobs isis belgium may \n",
      "실제 요약 : said bit army varma veteran ganguly chennai \n",
      "예측 요약 :  sona slams media casting couch\n",
      "\n",
      "\n",
      "원문 : feature like madhavi vehicles singh engine stolen billion kochi mumbai bid madhavi dates marks khan rishi parrikar billion harassment aamir rti complete madhavi run turban stops \n",
      "실제 요약 : accused minister ngo team elections board women patel \n",
      "예측 요약 :  man kills wife killing wife\n",
      "\n",
      "\n",
      "원문 : runs notice picture kohli food stress actress erupting bidder owned feet amazon dhoni fire mumbai children juice tennis charities horse scotland selling claimed fighters marriage female walmart bmc horse loudspeakers selling help fake fast \n",
      "실제 요약 : said billion jong vijay age \n",
      "예측 요약 :  mp builds tree station taking selfie\n",
      "\n",
      "\n",
      "원문 : dies let banned improve independent top inside independent designed designed meaning watchdog mistreatment hit years year hiding ruining grand security jayalalithaa marriage ramesh sport apple inside banned trump beer independent billion trains star rbi \n",
      "실제 요약 : said food rss ed killed protest three \n",
      "예측 요약 :  aishwarya aishwarya star together koffee karan\n",
      "\n",
      "\n",
      "원문 : violating waste world ola apologises nothing auction give jeans citizens time apologises auction land tool granted kidambi nothing auction held bcci years couple shelter rd granted youtuber kashmir citizens celebration penalty people biggest services \n",
      "실제 요약 : said kamal worked reportedly also union followed coming \n",
      "예측 요약 :  music festival launches free festival\n",
      "\n",
      "\n",
      "원문 : bihar hits michael microsoft cm shift declares one un calls australian containing tribunal cut karnataka low thugs prez launches air chinese lack traders cut bn milk microsoft cm jet \n",
      "실제 요약 : unveiled pm language help however used updates dil \n",
      "예측 요약 :  twitter reacts trump fake news\n",
      "\n",
      "\n",
      "원문 : sent goes mass company prez air asks delhi uttar get isi give russia mumbai replaced get metro company leaves working isi brother arm fined row prez air pak get thinking delhi company \n",
      "실제 요약 : kolkata tuesday undisclosed women police would got joined \n",
      "예측 요약 :  congress congress wins pm candidate gujarat assembly\n",
      "\n",
      "\n",
      "원문 : world rejects belgium seekers withdrawn paedophile election flight drinking trump collapses zika leader khand loses withdrawn plans researchers class dangerous pm tn belgium polls born continued away petrol trump ball deal firms \n",
      "실제 요약 : said court lost ganguly reward received together shops \n",
      "예측 요약 :  first look poster sushant kriti sanon\n",
      "\n",
      "\n",
      "원문 : challenge prez monkey william chicken mother crime market begins telangana book champions teen prices katrina women goes good startup bring price challenge madrasa attack salaried stone fire book ram goes takes asks \n",
      "실제 요약 : said arrange iim increased bhatt form railways police \n",
      "예측 요약 :  voting wins elections india th time elections\n",
      "\n",
      "\n",
      "원문 : rahul address hotel games rahul sex woman uttarakhand thigh diamonds congress musk govt attacks new empty filled women beer champions past floods schedule ed govt pak rahul manchester shops pressure interfaith nearly ed bar doctors donald \n",
      "실제 요약 : said accused ladies records manohar teams police practising \n",
      "예측 요약 :  pakistan pakistan pakistan us pm talks talks\n",
      "\n",
      "\n",
      "원문 : men seeking service cars reports crime secured fan wedding money time wedding money station nirav treat princes service mumbai report awareness navigation bhai race everybody gram criminalise people seized princes \n",
      "실제 요약 : said book children shashi man community fish maulana \n",
      "예측 요약 :  dhoni play ms dhoni odi odi\n",
      "\n",
      "\n",
      "원문 : km aadhaar singing important buffon god killed million anything faked lakh cuba killer sc aadhaar concert announces clean delayed scared forgets aadhaar privacy dcw elon cuba death buffon pak abandoned converted delayed taekwondo faked \n",
      "실제 요약 : made mail time stop game page committed sales \n",
      "예측 요약 :  google employee fired engineer fired google employee\n",
      "\n",
      "\n",
      "원문 : web srinagar older alive singh player number singles couples commissions player money th bcci physical indian public bank admits diverted surrender brutality critically fires alive mumbai bid killed first engine \n",
      "실제 요약 : said former hostage category team total promises elections \n",
      "예측 요약 :  saudi arabia arrests military military aircraft\n",
      "\n",
      "\n",
      "원문 : india till zuckerberg suspect shelar badshah online list mp gets state filing twitter slams develop alliance daily left suspect eclipse online mp develop news cases special fire develop online made polls state \n",
      "실제 요약 : said two throwing ashwin plants bank later old \n",
      "예측 요약 :  sbi adds billion market market value\n",
      "\n",
      "\n",
      "원문 : pics ai signboards chandigarh dividend goal wifi office tweets hike ear set record war work airport dividend stand shooting meat ranbir reasoning hike co hike bn one dargah chandigarh nargis sports \n",
      "실제 요약 : said register evidence uses every odi representatives party \n",
      "예측 요약 :  bieber bieber fans concert concert concert\n",
      "\n",
      "\n",
      "원문 : us report make shashi odisha pm visits big fssai targeting human chronic pm chronic saved asked placements bengaluru court chin belt anurag metro minute pak study marriage reports mumbai bid \n",
      "실제 요약 : said also actor inquiry premises variant \n",
      "예측 요약 :  man arrested smuggling drugs drugs\n",
      "\n",
      "\n",
      "원문 : karnataka war brewery consent rise modi ahead cricket temple railway stadium may rise students people using sued sun arbitration race bn ahead world people fire mumbai \n",
      "실제 요약 : minister according season social victims advisory election flipkart \n",
      "예측 요약 :  dating friend shows live woman\n",
      "\n",
      "\n",
      "원문 : gst delhi car russia dhoni son nasa fast chemical oil tripura lenovo minor test fast andhra allowed baby allowed benefits three bank nick mercedes runs owner days km nfl irrfan illegally nasa \n",
      "실제 요약 : said took sell arjun series power \n",
      "예측 요약 :  dead injured bus falls gorge collapses\n",
      "\n",
      "\n",
      "원문 : game broadcast artist account world times station poster linking myanmar haryana break shows salman judgement gen poster kapil ivanka another white dates supplying mobile neighbour joke poster museum added maha mla hold \n",
      "실제 요약 : come holy away reportedly several powered teams friday \n",
      "예측 요약 :  russia accuses russia terror terror attacks\n",
      "\n",
      "\n",
      "원문 : responds chats found responds held cook net studio govt maha increases lands tampering chelsea salman govt biggest stops porsche cooperating ronaldo julian responds freida lupin confidence patch teen govt world dwarf cook \n",
      "실제 요약 : said permanent experienced friday permanent users villiers year \n",
      "예측 요약 :  philippine prez threatens war philippine prez\n",
      "\n",
      "\n",
      "원문 : code failed walmart problems plot metro wins deploys legend messaging family soldier safety cong pilot commercial swims indian pictures swims captain messaging ships closed walk born subscribers messaging ipo closed cm publicly polish invading cash dies businessman closed performance \n",
      "실제 요약 : said ambani streamed naval posts total promises elections \n",
      "예측 요약 :  germany bans catalonia amid crackdown\n",
      "\n",
      "\n",
      "원문 : arm fined fail pope vaccinating fail beard case get snake case assembly book uber kohli airports year tourists akshay tourism attack black winning warm hc book get year reports book rahim ramdev rahim rectum psychologist \n",
      "실제 요약 : said wife isis girls sitting club seen \n",
      "예측 요약 :  bjp releases seats seats bjp mp\n",
      "\n",
      "\n",
      "원문 : terrorism sad blames candidate punctual cpo cr media brand rate recipes delhi cr cpo profit may success sanctity screenshot actress raises punctual britain women unauthorised profit may success change eela bhk impersonators encounter october \n",
      "실제 요약 : said gold ball shop net tag currently issued \n",
      "예측 요약 :  world cup stadium stadium\n",
      "\n",
      "\n",
      "원문 : player video way tharoor concern garden threatening cheat racial identify users dies newspaper bff doodles threatening cheat gods confident beer rebel racial drip dangal trying rebel reliance journalist born manmohan reports security levy ranveer \n",
      "실제 요약 : said states transgender understand mlas secrets \n",
      "예측 요약 :  scientists create new\n",
      "\n",
      "\n",
      "원문 : ability katrina congress bolt survivor born claims app dispute docs ishant bolt wins world woman thread little rti app crore wkt takes spade tarantino post sex woman pichai home killed features cash day ability docs ranji \n",
      "실제 요약 : said context cat nasa state society ravichandran \n",
      "예측 요약 :  spain wins first parliament ireland\n",
      "\n",
      "\n",
      "원문 : expenses crash streak daughter felled appearances run series teacher trump win hole security jailed pnb security india let ludhiana win pnb khurrana together gps talibani felled appearances nepotism \n",
      "실제 요약 : said aligarh french cultural action twitter allegations \n",
      "예측 요약 :  alia bhatt starrer raazi hits theatres\n",
      "\n",
      "\n",
      "원문 : aamir want first medical meet sona prevent marriage say retirement google approves every including convicts convoy aamir letter recover sona prevent reports mumbai convoy final billion pregnant step \n",
      "실제 요약 : sexual died tendulkar event names controlled diameter bjp \n",
      "예측 요약 :  couple fined lakh lakh ring wedding\n",
      "\n",
      "\n",
      "원문 : time make working pakistan eat approves real cm india match jet pak diwali pays months pakistan breaks campaign shirtless real starrer cm ms duplicate federer suresh years st grown hospitals championships \n",
      "실제 요약 : said also called feels home sought part cm \n",
      "예측 요약 :  man held fake news facebook fake news\n",
      "\n",
      "\n",
      "원문 : rescued employee toilet protest st anil shah collection constitute shekhar cong claimed protest google artificial beer paradise captive romanian iraq shah best flag claim shah bn park cong popular hardik worse \n",
      "실제 요약 : said end including cctv six year august wealth \n",
      "예측 요약 :  tesla driver crashed truck catches fire truck\n",
      "\n",
      "\n",
      "원문 : longest price looking crore mouth end rahul replace billionaire woman investment presidential divestment ex based games share german crore prof divestment keep guidelines loan rajat rahul prez suffering cctv teen genitals digital suck horses yuzvendra \n",
      "실제 요약 : said telugu accused gone new evidence cricketer suspended \n",
      "예측 요약 :  sushma swaraj talks india war war\n",
      "\n",
      "\n",
      "원문 : instinct sadak pak known clue credit neighbouring arrest remove plan togadia culture tesla dig culture issues language airport orders annual theatres google china found commit scenes old bhopal korea \n",
      "실제 요약 : said taking floods total walmart kept \n",
      "예측 요약 :  bihar temple booked temple temple\n",
      "\n",
      "\n",
      "원문 : like station shows gujarat permission michelle england mary day buys self scientists record factory today like station anurag permission mary cops bn protests protestors house save sanctions pic happiness reality england serving \n",
      "실제 요약 : minister order according elon checked donald silent year \n",
      "예측 요약 :  woman stuck train train train\n",
      "\n",
      "\n"
     ]
    }
   ],
   "source": [
    "for i in range(50, 100):\n",
    "    print(\"원문 :\", seq2headlines(encoder_input_test[i]))\n",
    "    print(\"실제 요약 :\", seq2text(decoder_input_test[i]))\n",
    "    print(\"예측 요약 :\", decode_sequence(encoder_input_test[i].reshape(1, text_max_len)))\n",
    "    print(\"\\n\")"
   ]
  },
  {
   "cell_type": "markdown",
   "id": "5893753b",
   "metadata": {},
   "source": [
    "> 6) Abstract Summary using Summa"
   ]
  },
  {
   "cell_type": "code",
   "execution_count": 49,
   "id": "b9f2ba71",
   "metadata": {},
   "outputs": [],
   "source": [
    "import requests\n",
    "from summa.summarizer import summarize\n",
    "import urllib.request\n",
    "import urllib.request\n",
    "urllib.request.urlretrieve(\"https://raw.githubusercontent.com/sunnysai12345/News_Summary/master/news_summary_more.csv\", filename=\"news_summary_more.csv\")\n",
    "data = pd.read_csv('news_summary_more.csv', encoding='iso-8859-1')"
   ]
  },
  {
   "cell_type": "code",
   "execution_count": 50,
   "id": "b05be1db",
   "metadata": {},
   "outputs": [
    {
     "data": {
      "text/plain": [
       "0        Saurav Kant, an alumnus of upGrad and IIIT-B's...\n",
       "1        Kunal Shah's credit card bill payment platform...\n",
       "2        New Zealand defeated India by 8 wickets in the...\n",
       "3        With Aegon Life iTerm Insurance plan, customer...\n",
       "4        Speaking about the sexual harassment allegatio...\n",
       "                               ...                        \n",
       "98396    A CRPF jawan was on Tuesday axed to death with...\n",
       "98397    'Uff Yeh', the first song from the Sonakshi Si...\n",
       "98398    According to reports, a new version of the 199...\n",
       "98399    A new music video shows rapper Snoop Dogg aimi...\n",
       "98400    Madhesi Morcha, an alliance of seven political...\n",
       "Name: text, Length: 98401, dtype: object"
      ]
     },
     "execution_count": 50,
     "metadata": {},
     "output_type": "execute_result"
    }
   ],
   "source": [
    "data['text']"
   ]
  },
  {
   "cell_type": "code",
   "execution_count": 51,
   "id": "ed85a4de",
   "metadata": {},
   "outputs": [],
   "source": [
    "Summa_text = data['text'].tolist()"
   ]
  },
  {
   "cell_type": "code",
   "execution_count": 52,
   "id": "78692b75",
   "metadata": {},
   "outputs": [
    {
     "data": {
      "text/plain": [
       "[\"Kunal Shah's credit card bill payment platform, CRED, gave users a chance to win free food from Swiggy for one year. Pranav Kaushik, a Delhi techie, bagged this reward after spending 2000 CRED coins. Users get one CRED coin per rupee of bill paid, which can be used to avail rewards from brands like Ixigo, BookMyShow, UberEats, Cult.Fit and more.\"]"
      ]
     },
     "execution_count": 52,
     "metadata": {},
     "output_type": "execute_result"
    }
   ],
   "source": [
    "Summa_text[1:2]"
   ]
  },
  {
   "cell_type": "code",
   "execution_count": 53,
   "id": "27cb4925",
   "metadata": {},
   "outputs": [],
   "source": [
    "text_str_1 = ''.join(Summa_text[1:2])"
   ]
  },
  {
   "cell_type": "code",
   "execution_count": 54,
   "id": "e5c252aa",
   "metadata": {
    "scrolled": true
   },
   "outputs": [
    {
     "name": "stdout",
     "output_type": "stream",
     "text": [
      "Kunal Shah's credit card bill payment platform, CRED, gave users a chance to win free food from Swiggy for one year. Pranav Kaushik, a Delhi techie, bagged this reward after spending 2000 CRED coins. Users get one CRED coin per rupee of bill paid, which can be used to avail rewards from brands like Ixigo, BookMyShow, UberEats, Cult.Fit and more.\n"
     ]
    }
   ],
   "source": [
    "print(text_str_1)"
   ]
  },
  {
   "cell_type": "code",
   "execution_count": 55,
   "id": "c36f510d",
   "metadata": {
    "scrolled": true
   },
   "outputs": [
    {
     "name": "stdout",
     "output_type": "stream",
     "text": [
      "Summary:\n",
      "Users get one CRED coin per rupee of bill paid, which can be used to avail rewards from brands like Ixigo, BookMyShow, UberEats, Cult.Fit and more.\n"
     ]
    }
   ],
   "source": [
    "print('Summary:')\n",
    "print(summarize(text_str_1, words=20))"
   ]
  },
  {
   "cell_type": "code",
   "execution_count": 62,
   "id": "e328444f",
   "metadata": {},
   "outputs": [
    {
     "name": "stdout",
     "output_type": "stream",
     "text": [
      "Summary:\n",
      "Pranav Kaushik, a Delhi techie, bagged this reward after spending 2000 CRED coins.\n",
      "Users get one CRED coin per rupee of bill paid, which can be used to avail rewards from brands like Ixigo, BookMyShow, UberEats, Cult.Fit and more.\n"
     ]
    }
   ],
   "source": [
    "print('Summary:')\n",
    "print(summarize(text_str_1, ratio=0.7))"
   ]
  },
  {
   "cell_type": "code",
   "execution_count": 63,
   "id": "d8125096",
   "metadata": {},
   "outputs": [
    {
     "data": {
      "text/plain": [
       "\"In this mission, I learned about two different summarization options: extractive summarization and\\nabstract summarization. Although I'm still a bit confused about the seq2seq concept, I got experience in summarizing large data of language.\\nAnd especially when dealing with recurrent dropout. It spend a lot of time this and also I'm curious about \\nIt is possible to callbacks for early stopping and saving checkpoints simultaneously. \""
      ]
     },
     "execution_count": 63,
     "metadata": {},
     "output_type": "execute_result"
    }
   ],
   "source": [
    "'''In this mission, I learned about two different summarization options: extractive summarization and\n",
    "abstract summarization. Although I'm still a bit confused about the seq2seq concept, I got experience in\n",
    "summarizing large data of language. And especially when dealing with recurrent dropout. \n",
    "It spend a lot of time this and also I'm curious about It is possible to callbacks for early stopping and \n",
    "saving checkpoints simultaneously. '''"
   ]
  },
  {
   "cell_type": "code",
   "execution_count": null,
   "id": "8f1b4432",
   "metadata": {},
   "outputs": [],
   "source": []
  }
 ],
 "metadata": {
  "kernelspec": {
   "display_name": "Python 3 (ipykernel)",
   "language": "python",
   "name": "python3"
  },
  "language_info": {
   "codemirror_mode": {
    "name": "ipython",
    "version": 3
   },
   "file_extension": ".py",
   "mimetype": "text/x-python",
   "name": "python",
   "nbconvert_exporter": "python",
   "pygments_lexer": "ipython3",
   "version": "3.9.7"
  }
 },
 "nbformat": 4,
 "nbformat_minor": 5
}
