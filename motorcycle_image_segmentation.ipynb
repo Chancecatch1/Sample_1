{
  "cells": [
    {
      "cell_type": "markdown",
      "id": "392fdcc4",
      "metadata": {
        "id": "392fdcc4"
      },
      "source": [
        "# 케라스 창시자에게 배우는 딥러닝 Main Quest\n",
        "---\n",
        "## U-Net 이미지 세그멘테이션\n",
        "---\n",
        "### Motorcycle Night Ride 데이터 불러오기"
      ]
    },
    {
      "cell_type": "code",
      "source": [
        "!pip install kaggle"
      ],
      "metadata": {
        "id": "Cz8HinYsKlAA"
      },
      "id": "Cz8HinYsKlAA",
      "execution_count": null,
      "outputs": []
    },
    {
      "cell_type": "code",
      "source": [
        "!mkdir -p ~/.kaggle\n",
        "!cp /content/kaggle.json ~/.kaggle/\n",
        "!chmod 600 ~/.kaggle/kaggle.json"
      ],
      "metadata": {
        "id": "Xd5cwUBvLc7d"
      },
      "id": "Xd5cwUBvLc7d",
      "execution_count": 7,
      "outputs": []
    },
    {
      "cell_type": "code",
      "source": [
        "!kaggle datasets download -d sadhliroomyprime/motorcycle-night-ride-semantic-segmentation"
      ],
      "metadata": {
        "id": "QttcuYGsLiXw"
      },
      "id": "QttcuYGsLiXw",
      "execution_count": null,
      "outputs": []
    },
    {
      "cell_type": "code",
      "source": [
        "!unzip motorcycle-night-ride-semantic-segmentation.zip"
      ],
      "metadata": {
        "id": "D2EFJU5MMqQ8"
      },
      "id": "D2EFJU5MMqQ8",
      "execution_count": null,
      "outputs": []
    },
    {
      "cell_type": "code",
      "source": [
        "import os\n",
        "import shutil\n",
        "\n",
        "source_dir = '/content/MotorcycleNightRideDataset/images'\n",
        "\n",
        "for file in os.listdir(source_dir):\n",
        "    if file.endswith('.png'):\n",
        "        if 'fuse' in file:\n",
        "            shutil.move(os.path.join(source_dir, file), '/content/MotorcycleNightRideDataset/annotations')\n",
        "        elif 'save' in file:\n",
        "            shutil.move(os.path.join(source_dir, file), '/content/MotorcycleNightRideDataset/save')"
      ],
      "metadata": {
        "id": "H8KLd48aOXy1"
      },
      "id": "H8KLd48aOXy1",
      "execution_count": 10,
      "outputs": []
    },
    {
      "cell_type": "markdown",
      "id": "67429934",
      "metadata": {
        "id": "67429934"
      },
      "source": [
        "### 데이터 전처리\n",
        "#### Augmentation 적용 및 정규화 텐서 반환 함수 및 시각화 확인"
      ]
    },
    {
      "cell_type": "code",
      "execution_count": 11,
      "id": "b934a364",
      "metadata": {
        "id": "b934a364"
      },
      "outputs": [],
      "source": [
        "input_dir = \"/content/MotorcycleNightRideDataset/images\"\n",
        "target_dir = \"/content/MotorcycleNightRideDataset/annotations\"\n",
        "\n",
        "input_img_paths = sorted(\n",
        "    [os.path.join(input_dir, fname)\n",
        "     for fname in os.listdir(input_dir)\n",
        "     if fname.endswith(\".png\")])\n",
        "target_paths = sorted(\n",
        "    [os.path.join(target_dir, fname)\n",
        "     for fname in os.listdir(target_dir)\n",
        "     if fname.endswith(\".png\") and not fname.startswith(\".\")])"
      ]
    },
    {
      "cell_type": "code",
      "source": [
        "import matplotlib.pyplot as plt\n",
        "from tensorflow.keras.utils import load_img, img_to_array\n",
        "\n",
        "plt.axis(\"off\")\n",
        "plt.imshow(load_img(input_img_paths[87]))"
      ],
      "metadata": {
        "id": "zA50A9snSW0S"
      },
      "id": "zA50A9snSW0S",
      "execution_count": null,
      "outputs": []
    },
    {
      "cell_type": "code",
      "source": [
        "def display_target(target_array):\n",
        "    normalized_array = (target_array.astype(\"uint8\") - 1) * 50\n",
        "    plt.axis(\"off\")\n",
        "    plt.imshow(normalized_array[:, :, 0])\n",
        "\n",
        "img = img_to_array(load_img(target_paths[87], color_mode=\"grayscale\"))\n",
        "display_target(img)"
      ],
      "metadata": {
        "id": "InJP4qFNSZk5"
      },
      "id": "InJP4qFNSZk5",
      "execution_count": null,
      "outputs": []
    },
    {
      "cell_type": "code",
      "source": [
        "print(len(input_img_paths))\n",
        "print(len(target_paths))"
      ],
      "metadata": {
        "id": "G6tF7FYWSfBf"
      },
      "id": "G6tF7FYWSfBf",
      "execution_count": null,
      "outputs": []
    },
    {
      "cell_type": "code",
      "source": [
        "from PIL import Image\n",
        "image_size=Image.open(target_paths[87])\n",
        "print(image_size)"
      ],
      "metadata": {
        "id": "4B0jiBHlShg6"
      },
      "id": "4B0jiBHlShg6",
      "execution_count": null,
      "outputs": []
    },
    {
      "cell_type": "code",
      "execution_count": 16,
      "id": "692582ec",
      "metadata": {
        "id": "692582ec"
      },
      "outputs": [],
      "source": [
        "import numpy as np\n",
        "import random\n",
        "\n",
        "img_size = (256, 256)\n",
        "num_imgs = len(input_img_paths)\n",
        "\n",
        "random.Random(1337).shuffle(input_img_paths)\n",
        "random.Random(1337).shuffle(target_paths)\n",
        "\n",
        "def path_to_input_image(path):\n",
        "    return img_to_array(load_img(path, target_size=img_size))\n",
        "\n",
        "def path_to_target(path):\n",
        "    img = img_to_array(\n",
        "        load_img(path, target_size=img_size, color_mode=\"grayscale\"))\n",
        "    img = img.astype(\"uint8\") - 1\n",
        "    return img\n",
        "\n",
        "input_imgs = np.zeros((num_imgs,) + img_size + (3,), dtype=\"float32\")\n",
        "targets = np.zeros((num_imgs,) + img_size + (1,), dtype=\"uint8\")\n",
        "for i in range(num_imgs):\n",
        "    input_imgs[i] = path_to_input_image(input_img_paths[i])\n",
        "    targets[i] = path_to_target(target_paths[i])\n",
        "\n",
        "num_val_samples = int(0.2 * num_imgs)\n",
        "train_input_imgs = input_imgs[:-num_val_samples]\n",
        "train_targets = targets[:-num_val_samples]\n",
        "val_input_imgs = input_imgs[-num_val_samples:]\n",
        "val_targets = targets[-num_val_samples:]"
      ]
    },
    {
      "cell_type": "code",
      "execution_count": null,
      "id": "3d0dc9b4",
      "metadata": {
        "id": "3d0dc9b4"
      },
      "outputs": [],
      "source": [
        "print(train_input_imgs.shape)\n",
        "print(train_targets.shape)\n",
        "print(val_input_imgs.shape)\n",
        "print(val_targets.shape)"
      ]
    },
    {
      "cell_type": "markdown",
      "id": "6dc0d6d0",
      "metadata": {
        "id": "6dc0d6d0"
      },
      "source": [
        "---\n",
        "### 모델 생성"
      ]
    },
    {
      "cell_type": "code",
      "execution_count": 28,
      "id": "adc6f5b1",
      "metadata": {
        "colab": {
          "base_uri": "https://localhost:8080/"
        },
        "id": "adc6f5b1",
        "outputId": "def95369-aa99-413b-ca61-d99b0503f187"
      },
      "outputs": [
        {
          "output_type": "stream",
          "name": "stdout",
          "text": [
            "Model: \"model_4\"\n",
            "__________________________________________________________________________________________________\n",
            " Layer (type)                Output Shape                 Param #   Connected to                  \n",
            "==================================================================================================\n",
            " input_5 (InputLayer)        [(None, 512, 512, 3)]        0         []                            \n",
            "                                                                                                  \n",
            " conv2d_60 (Conv2D)          (None, 512, 512, 32)         896       ['input_5[0][0]']             \n",
            "                                                                                                  \n",
            " batch_normalization_27 (Ba  (None, 512, 512, 32)         128       ['conv2d_60[0][0]']           \n",
            " tchNormalization)                                                                                \n",
            "                                                                                                  \n",
            " activation_27 (Activation)  (None, 512, 512, 32)         0         ['batch_normalization_27[0][0]\n",
            "                                                                    ']                            \n",
            "                                                                                                  \n",
            " conv2d_61 (Conv2D)          (None, 512, 512, 32)         9248      ['activation_27[0][0]']       \n",
            "                                                                                                  \n",
            " batch_normalization_28 (Ba  (None, 512, 512, 32)         128       ['conv2d_61[0][0]']           \n",
            " tchNormalization)                                                                                \n",
            "                                                                                                  \n",
            " activation_28 (Activation)  (None, 512, 512, 32)         0         ['batch_normalization_28[0][0]\n",
            "                                                                    ']                            \n",
            "                                                                                                  \n",
            " max_pooling2d_9 (MaxPoolin  (None, 256, 256, 32)         0         ['activation_28[0][0]']       \n",
            " g2D)                                                                                             \n",
            "                                                                                                  \n",
            " conv2d_62 (Conv2D)          (None, 256, 256, 64)         18496     ['max_pooling2d_9[0][0]']     \n",
            "                                                                                                  \n",
            " batch_normalization_29 (Ba  (None, 256, 256, 64)         256       ['conv2d_62[0][0]']           \n",
            " tchNormalization)                                                                                \n",
            "                                                                                                  \n",
            " activation_29 (Activation)  (None, 256, 256, 64)         0         ['batch_normalization_29[0][0]\n",
            "                                                                    ']                            \n",
            "                                                                                                  \n",
            " conv2d_63 (Conv2D)          (None, 256, 256, 64)         36928     ['activation_29[0][0]']       \n",
            "                                                                                                  \n",
            " batch_normalization_30 (Ba  (None, 256, 256, 64)         256       ['conv2d_63[0][0]']           \n",
            " tchNormalization)                                                                                \n",
            "                                                                                                  \n",
            " activation_30 (Activation)  (None, 256, 256, 64)         0         ['batch_normalization_30[0][0]\n",
            "                                                                    ']                            \n",
            "                                                                                                  \n",
            " max_pooling2d_10 (MaxPooli  (None, 128, 128, 64)         0         ['activation_30[0][0]']       \n",
            " ng2D)                                                                                            \n",
            "                                                                                                  \n",
            " conv2d_64 (Conv2D)          (None, 128, 128, 128)        73856     ['max_pooling2d_10[0][0]']    \n",
            "                                                                                                  \n",
            " batch_normalization_31 (Ba  (None, 128, 128, 128)        512       ['conv2d_64[0][0]']           \n",
            " tchNormalization)                                                                                \n",
            "                                                                                                  \n",
            " activation_31 (Activation)  (None, 128, 128, 128)        0         ['batch_normalization_31[0][0]\n",
            "                                                                    ']                            \n",
            "                                                                                                  \n",
            " conv2d_65 (Conv2D)          (None, 128, 128, 128)        147584    ['activation_31[0][0]']       \n",
            "                                                                                                  \n",
            " batch_normalization_32 (Ba  (None, 128, 128, 128)        512       ['conv2d_65[0][0]']           \n",
            " tchNormalization)                                                                                \n",
            "                                                                                                  \n",
            " activation_32 (Activation)  (None, 128, 128, 128)        0         ['batch_normalization_32[0][0]\n",
            "                                                                    ']                            \n",
            "                                                                                                  \n",
            " max_pooling2d_11 (MaxPooli  (None, 64, 64, 128)          0         ['activation_32[0][0]']       \n",
            " ng2D)                                                                                            \n",
            "                                                                                                  \n",
            " conv2d_66 (Conv2D)          (None, 64, 64, 256)          295168    ['max_pooling2d_11[0][0]']    \n",
            "                                                                                                  \n",
            " batch_normalization_33 (Ba  (None, 64, 64, 256)          1024      ['conv2d_66[0][0]']           \n",
            " tchNormalization)                                                                                \n",
            "                                                                                                  \n",
            " activation_33 (Activation)  (None, 64, 64, 256)          0         ['batch_normalization_33[0][0]\n",
            "                                                                    ']                            \n",
            "                                                                                                  \n",
            " conv2d_67 (Conv2D)          (None, 64, 64, 256)          590080    ['activation_33[0][0]']       \n",
            "                                                                                                  \n",
            " batch_normalization_34 (Ba  (None, 64, 64, 256)          1024      ['conv2d_67[0][0]']           \n",
            " tchNormalization)                                                                                \n",
            "                                                                                                  \n",
            " activation_34 (Activation)  (None, 64, 64, 256)          0         ['batch_normalization_34[0][0]\n",
            "                                                                    ']                            \n",
            "                                                                                                  \n",
            " max_pooling2d_12 (MaxPooli  (None, 32, 32, 256)          0         ['activation_34[0][0]']       \n",
            " ng2D)                                                                                            \n",
            "                                                                                                  \n",
            " conv2d_68 (Conv2D)          (None, 32, 32, 512)          1180160   ['max_pooling2d_12[0][0]']    \n",
            "                                                                                                  \n",
            " batch_normalization_35 (Ba  (None, 32, 32, 512)          2048      ['conv2d_68[0][0]']           \n",
            " tchNormalization)                                                                                \n",
            "                                                                                                  \n",
            " activation_35 (Activation)  (None, 32, 32, 512)          0         ['batch_normalization_35[0][0]\n",
            "                                                                    ']                            \n",
            "                                                                                                  \n",
            " conv2d_69 (Conv2D)          (None, 32, 32, 512)          2359808   ['activation_35[0][0]']       \n",
            "                                                                                                  \n",
            " batch_normalization_36 (Ba  (None, 32, 32, 512)          2048      ['conv2d_69[0][0]']           \n",
            " tchNormalization)                                                                                \n",
            "                                                                                                  \n",
            " activation_36 (Activation)  (None, 32, 32, 512)          0         ['batch_normalization_36[0][0]\n",
            "                                                                    ']                            \n",
            "                                                                                                  \n",
            " max_pooling2d_13 (MaxPooli  (None, 16, 16, 512)          0         ['activation_36[0][0]']       \n",
            " ng2D)                                                                                            \n",
            "                                                                                                  \n",
            " conv2d_70 (Conv2D)          (None, 16, 16, 1024)         4719616   ['max_pooling2d_13[0][0]']    \n",
            "                                                                                                  \n",
            " batch_normalization_37 (Ba  (None, 16, 16, 1024)         4096      ['conv2d_70[0][0]']           \n",
            " tchNormalization)                                                                                \n",
            "                                                                                                  \n",
            " activation_37 (Activation)  (None, 16, 16, 1024)         0         ['batch_normalization_37[0][0]\n",
            "                                                                    ']                            \n",
            "                                                                                                  \n",
            " conv2d_71 (Conv2D)          (None, 16, 16, 1024)         9438208   ['activation_37[0][0]']       \n",
            "                                                                                                  \n",
            " batch_normalization_38 (Ba  (None, 16, 16, 1024)         4096      ['conv2d_71[0][0]']           \n",
            " tchNormalization)                                                                                \n",
            "                                                                                                  \n",
            " activation_38 (Activation)  (None, 16, 16, 1024)         0         ['batch_normalization_38[0][0]\n",
            "                                                                    ']                            \n",
            "                                                                                                  \n",
            " conv2d_transpose_17 (Conv2  (None, 32, 32, 512)          2097664   ['activation_38[0][0]']       \n",
            " DTranspose)                                                                                      \n",
            "                                                                                                  \n",
            " concatenate_9 (Concatenate  (None, 32, 32, 1024)         0         ['activation_36[0][0]',       \n",
            " )                                                                   'conv2d_transpose_17[0][0]'] \n",
            "                                                                                                  \n",
            " batch_normalization_39 (Ba  (None, 32, 32, 1024)         4096      ['concatenate_9[0][0]']       \n",
            " tchNormalization)                                                                                \n",
            "                                                                                                  \n",
            " activation_39 (Activation)  (None, 32, 32, 1024)         0         ['batch_normalization_39[0][0]\n",
            "                                                                    ']                            \n",
            "                                                                                                  \n",
            " conv2d_72 (Conv2D)          (None, 32, 32, 512)          4719104   ['activation_39[0][0]']       \n",
            "                                                                                                  \n",
            " batch_normalization_40 (Ba  (None, 32, 32, 512)          2048      ['conv2d_72[0][0]']           \n",
            " tchNormalization)                                                                                \n",
            "                                                                                                  \n",
            " activation_40 (Activation)  (None, 32, 32, 512)          0         ['batch_normalization_40[0][0]\n",
            "                                                                    ']                            \n",
            "                                                                                                  \n",
            " conv2d_73 (Conv2D)          (None, 32, 32, 512)          2359808   ['activation_40[0][0]']       \n",
            "                                                                                                  \n",
            " batch_normalization_41 (Ba  (None, 32, 32, 512)          2048      ['conv2d_73[0][0]']           \n",
            " tchNormalization)                                                                                \n",
            "                                                                                                  \n",
            " activation_41 (Activation)  (None, 32, 32, 512)          0         ['batch_normalization_41[0][0]\n",
            "                                                                    ']                            \n",
            "                                                                                                  \n",
            " conv2d_transpose_18 (Conv2  (None, 64, 64, 256)          524544    ['activation_41[0][0]']       \n",
            " DTranspose)                                                                                      \n",
            "                                                                                                  \n",
            " concatenate_10 (Concatenat  (None, 64, 64, 512)          0         ['activation_34[0][0]',       \n",
            " e)                                                                  'conv2d_transpose_18[0][0]'] \n",
            "                                                                                                  \n",
            " batch_normalization_42 (Ba  (None, 64, 64, 512)          2048      ['concatenate_10[0][0]']      \n",
            " tchNormalization)                                                                                \n",
            "                                                                                                  \n",
            " activation_42 (Activation)  (None, 64, 64, 512)          0         ['batch_normalization_42[0][0]\n",
            "                                                                    ']                            \n",
            "                                                                                                  \n",
            " conv2d_74 (Conv2D)          (None, 64, 64, 256)          1179904   ['activation_42[0][0]']       \n",
            "                                                                                                  \n",
            " batch_normalization_43 (Ba  (None, 64, 64, 256)          1024      ['conv2d_74[0][0]']           \n",
            " tchNormalization)                                                                                \n",
            "                                                                                                  \n",
            " activation_43 (Activation)  (None, 64, 64, 256)          0         ['batch_normalization_43[0][0]\n",
            "                                                                    ']                            \n",
            "                                                                                                  \n",
            " conv2d_75 (Conv2D)          (None, 64, 64, 256)          590080    ['activation_43[0][0]']       \n",
            "                                                                                                  \n",
            " batch_normalization_44 (Ba  (None, 64, 64, 256)          1024      ['conv2d_75[0][0]']           \n",
            " tchNormalization)                                                                                \n",
            "                                                                                                  \n",
            " activation_44 (Activation)  (None, 64, 64, 256)          0         ['batch_normalization_44[0][0]\n",
            "                                                                    ']                            \n",
            "                                                                                                  \n",
            " conv2d_transpose_19 (Conv2  (None, 128, 128, 128)        131200    ['activation_44[0][0]']       \n",
            " DTranspose)                                                                                      \n",
            "                                                                                                  \n",
            " concatenate_11 (Concatenat  (None, 128, 128, 256)        0         ['activation_32[0][0]',       \n",
            " e)                                                                  'conv2d_transpose_19[0][0]'] \n",
            "                                                                                                  \n",
            " batch_normalization_45 (Ba  (None, 128, 128, 256)        1024      ['concatenate_11[0][0]']      \n",
            " tchNormalization)                                                                                \n",
            "                                                                                                  \n",
            " activation_45 (Activation)  (None, 128, 128, 256)        0         ['batch_normalization_45[0][0]\n",
            "                                                                    ']                            \n",
            "                                                                                                  \n",
            " conv2d_76 (Conv2D)          (None, 128, 128, 128)        295040    ['activation_45[0][0]']       \n",
            "                                                                                                  \n",
            " batch_normalization_46 (Ba  (None, 128, 128, 128)        512       ['conv2d_76[0][0]']           \n",
            " tchNormalization)                                                                                \n",
            "                                                                                                  \n",
            " activation_46 (Activation)  (None, 128, 128, 128)        0         ['batch_normalization_46[0][0]\n",
            "                                                                    ']                            \n",
            "                                                                                                  \n",
            " conv2d_77 (Conv2D)          (None, 128, 128, 128)        147584    ['activation_46[0][0]']       \n",
            "                                                                                                  \n",
            " batch_normalization_47 (Ba  (None, 128, 128, 128)        512       ['conv2d_77[0][0]']           \n",
            " tchNormalization)                                                                                \n",
            "                                                                                                  \n",
            " activation_47 (Activation)  (None, 128, 128, 128)        0         ['batch_normalization_47[0][0]\n",
            "                                                                    ']                            \n",
            "                                                                                                  \n",
            " conv2d_transpose_20 (Conv2  (None, 256, 256, 64)         32832     ['activation_47[0][0]']       \n",
            " DTranspose)                                                                                      \n",
            "                                                                                                  \n",
            " concatenate_12 (Concatenat  (None, 256, 256, 128)        0         ['activation_30[0][0]',       \n",
            " e)                                                                  'conv2d_transpose_20[0][0]'] \n",
            "                                                                                                  \n",
            " batch_normalization_48 (Ba  (None, 256, 256, 128)        512       ['concatenate_12[0][0]']      \n",
            " tchNormalization)                                                                                \n",
            "                                                                                                  \n",
            " activation_48 (Activation)  (None, 256, 256, 128)        0         ['batch_normalization_48[0][0]\n",
            "                                                                    ']                            \n",
            "                                                                                                  \n",
            " conv2d_78 (Conv2D)          (None, 256, 256, 64)         73792     ['activation_48[0][0]']       \n",
            "                                                                                                  \n",
            " batch_normalization_49 (Ba  (None, 256, 256, 64)         256       ['conv2d_78[0][0]']           \n",
            " tchNormalization)                                                                                \n",
            "                                                                                                  \n",
            " activation_49 (Activation)  (None, 256, 256, 64)         0         ['batch_normalization_49[0][0]\n",
            "                                                                    ']                            \n",
            "                                                                                                  \n",
            " conv2d_79 (Conv2D)          (None, 256, 256, 64)         36928     ['activation_49[0][0]']       \n",
            "                                                                                                  \n",
            " batch_normalization_50 (Ba  (None, 256, 256, 64)         256       ['conv2d_79[0][0]']           \n",
            " tchNormalization)                                                                                \n",
            "                                                                                                  \n",
            " activation_50 (Activation)  (None, 256, 256, 64)         0         ['batch_normalization_50[0][0]\n",
            "                                                                    ']                            \n",
            "                                                                                                  \n",
            " conv2d_transpose_21 (Conv2  (None, 512, 512, 32)         8224      ['activation_50[0][0]']       \n",
            " DTranspose)                                                                                      \n",
            "                                                                                                  \n",
            " concatenate_13 (Concatenat  (None, 512, 512, 64)         0         ['activation_28[0][0]',       \n",
            " e)                                                                  'conv2d_transpose_21[0][0]'] \n",
            "                                                                                                  \n",
            " batch_normalization_51 (Ba  (None, 512, 512, 64)         256       ['concatenate_13[0][0]']      \n",
            " tchNormalization)                                                                                \n",
            "                                                                                                  \n",
            " activation_51 (Activation)  (None, 512, 512, 64)         0         ['batch_normalization_51[0][0]\n",
            "                                                                    ']                            \n",
            "                                                                                                  \n",
            " conv2d_80 (Conv2D)          (None, 512, 512, 32)         18464     ['activation_51[0][0]']       \n",
            "                                                                                                  \n",
            " batch_normalization_52 (Ba  (None, 512, 512, 32)         128       ['conv2d_80[0][0]']           \n",
            " tchNormalization)                                                                                \n",
            "                                                                                                  \n",
            " activation_52 (Activation)  (None, 512, 512, 32)         0         ['batch_normalization_52[0][0]\n",
            "                                                                    ']                            \n",
            "                                                                                                  \n",
            " conv2d_81 (Conv2D)          (None, 512, 512, 32)         9248      ['activation_52[0][0]']       \n",
            "                                                                                                  \n",
            " batch_normalization_53 (Ba  (None, 512, 512, 32)         128       ['conv2d_81[0][0]']           \n",
            " tchNormalization)                                                                                \n",
            "                                                                                                  \n",
            " activation_53 (Activation)  (None, 512, 512, 32)         0         ['batch_normalization_53[0][0]\n",
            "                                                                    ']                            \n",
            "                                                                                                  \n",
            " conv2d_82 (Conv2D)          (None, 512, 512, 6)          198       ['activation_53[0][0]']       \n",
            "                                                                                                  \n",
            "==================================================================================================\n",
            "Total params: 31126662 (118.74 MB)\n",
            "Trainable params: 31110662 (118.68 MB)\n",
            "Non-trainable params: 16000 (62.50 KB)\n",
            "__________________________________________________________________________________________________\n"
          ]
        }
      ],
      "source": [
        "from tensorflow.keras import layers\n",
        "from tensorflow.keras import Input\n",
        "from tensorflow.keras.models import Model\n",
        "\n",
        "def conv_block(input_tensor, num_filters):\n",
        "    encoder = layers.Conv2D(num_filters, (3, 3), padding='same')(input_tensor)\n",
        "    encoder = layers.BatchNormalization()(encoder)\n",
        "    encoder = layers.Activation('relu')(encoder)\n",
        "    encoder = layers.Conv2D(num_filters, (3, 3), padding='same')(encoder)\n",
        "    encoder = layers.BatchNormalization()(encoder)\n",
        "    encoder = layers.Activation('relu')(encoder)\n",
        "    return encoder\n",
        "\n",
        "def encoder_block(input_tensor, num_filters):\n",
        "    encoder = conv_block(input_tensor, num_filters)\n",
        "    encoder_pool = layers.MaxPooling2D((2, 2), strides=(2,2))(encoder)\n",
        "    return encoder_pool, encoder\n",
        "\n",
        "def decoder_block(input_tensor, concat_tensor, num_filters):\n",
        "    decoder = layers.Conv2DTranspose(num_filters, (2, 2), strides=(2, 2), padding='same')(input_tensor)\n",
        "    decoder = layers.concatenate([concat_tensor, decoder], axis=-1)\n",
        "    decoder = layers.BatchNormalization()(decoder)\n",
        "    decoder = layers.Activation('relu')(decoder)\n",
        "    decoder = conv_block(decoder, num_filters)\n",
        "    return decoder\n",
        "\n",
        "def unet_model(input_size, num_classes):\n",
        "    inputs = Input(shape=input_size + (3,))\n",
        "\n",
        "    encoder0_pool, encoder0 = encoder_block(inputs, 32)\n",
        "    encoder1_pool, encoder1 = encoder_block(encoder0_pool, 64)\n",
        "    encoder2_pool, encoder2 = encoder_block(encoder1_pool, 128)\n",
        "    encoder3_pool, encoder3 = encoder_block(encoder2_pool, 256)\n",
        "    encoder4_pool, encoder4 = encoder_block(encoder3_pool, 512)\n",
        "\n",
        "    center = conv_block(encoder4_pool, 1024)\n",
        "\n",
        "    decoder4 = decoder_block(center, encoder4, 512)\n",
        "    decoder3 = decoder_block(decoder4, encoder3, 256)\n",
        "    decoder2 = decoder_block(decoder3, encoder2, 128)\n",
        "    decoder1 = decoder_block(decoder2, encoder1, 64)\n",
        "    decoder0 = decoder_block(decoder1, encoder0, 32)\n",
        "\n",
        "    outputs = layers.Conv2D(num_classes, (1, 1), activation='softmax')(decoder0)\n",
        "\n",
        "    model = Model(inputs=[inputs], outputs=[outputs])\n",
        "    return model\n",
        "\n",
        "# Now create the U-Net model\n",
        "model = unet_model((512, 512), num_classes=6)\n",
        "model.summary()\n"
      ]
    },
    {
      "cell_type": "markdown",
      "id": "381bbeee",
      "metadata": {
        "id": "381bbeee"
      },
      "source": [
        "### 컴파일 및 학습"
      ]
    },
    {
      "cell_type": "code",
      "execution_count": 27,
      "id": "e5a21879",
      "metadata": {
        "colab": {
          "base_uri": "https://localhost:8080/",
          "height": 0
        },
        "id": "e5a21879",
        "outputId": "e8641fbe-61d1-470f-8732-a90bf161c8c9"
      },
      "outputs": [
        {
          "output_type": "stream",
          "name": "stdout",
          "text": [
            "Epoch 1/10\n",
            "3/3 [==============================] - 42s 9s/step - loss: nan - val_loss: nan\n",
            "Epoch 2/10\n",
            "3/3 [==============================] - 2s 731ms/step - loss: nan - val_loss: nan\n",
            "Epoch 3/10\n",
            "3/3 [==============================] - 2s 750ms/step - loss: nan - val_loss: nan\n",
            "Epoch 4/10\n",
            "3/3 [==============================] - 2s 743ms/step - loss: nan - val_loss: nan\n",
            "Epoch 5/10\n",
            "3/3 [==============================] - 2s 747ms/step - loss: nan - val_loss: nan\n",
            "Epoch 6/10\n",
            "3/3 [==============================] - 2s 751ms/step - loss: nan - val_loss: nan\n",
            "Epoch 7/10\n",
            "3/3 [==============================] - 2s 738ms/step - loss: nan - val_loss: nan\n",
            "Epoch 8/10\n",
            "3/3 [==============================] - 2s 748ms/step - loss: nan - val_loss: nan\n",
            "Epoch 9/10\n",
            "3/3 [==============================] - 2s 745ms/step - loss: nan - val_loss: nan\n",
            "Epoch 10/10\n",
            "3/3 [==============================] - 2s 735ms/step - loss: nan - val_loss: nan\n"
          ]
        }
      ],
      "source": [
        "model.compile(optimizer=\"rmsprop\", loss=\"sparse_categorical_crossentropy\")\n",
        "\n",
        "callbacks = [\n",
        "    keras.callbacks.ModelCheckpoint(\"segmentation_motor.h5\",\n",
        "                                    save_best_only=True)\n",
        "]\n",
        "\n",
        "history = model.fit(train_input_imgs, train_targets,\n",
        "                    epochs=10,\n",
        "                    callbacks=callbacks,\n",
        "                    batch_size=64,\n",
        "                    validation_data=(val_input_imgs, val_targets))"
      ]
    }
  ],
  "metadata": {
    "kernelspec": {
      "display_name": "Python 3",
      "name": "python3"
    },
    "language_info": {
      "codemirror_mode": {
        "name": "ipython",
        "version": 3
      },
      "file_extension": ".py",
      "mimetype": "text/x-python",
      "name": "python",
      "nbconvert_exporter": "python",
      "pygments_lexer": "ipython3",
      "version": "3.9.7"
    },
    "colab": {
      "provenance": [],
      "gpuType": "T4"
    },
    "accelerator": "GPU"
  },
  "nbformat": 4,
  "nbformat_minor": 5
}